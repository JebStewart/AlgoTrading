{
 "cells": [
  {
   "cell_type": "code",
   "execution_count": 2,
   "metadata": {},
   "outputs": [],
   "source": [
    "import yfinance as yf\n",
    "import pandas as pd\n",
    "import tensorflow as tf\n",
    "from tensorflow import keras\n",
    "import os\n",
    "import datetime\n",
    "from datetime import timedelta, date\n",
    "import seaborn as sns\n",
    "import matplotlib.pyplot as plt\n",
    "from math import sqrt\n",
    "from statistics import mean, stdev\n",
    "import plotly.express as px\n",
    "import webbrowser\n",
    "from sklearn.model_selection import train_test_split\n",
    "from sklearn.metrics import confusion_matrix\n",
    "from sklearn.preprocessing import LabelEncoder\n",
    "import numpy as np\n",
    "from NotifyMe import Notifier\n",
    "webbrowser.register('chrome', None, webbrowser.BackgroundBrowser('C:\\\\Program Files (x86)\\\\Google\\\\Chrome\\\\Application\\\\chrome.exe'))"
   ]
  },
  {
   "cell_type": "code",
   "execution_count": 3,
   "metadata": {},
   "outputs": [],
   "source": [
    "#Set up notification system FOR MY USE ONLY\n",
    "N = Notifier()"
   ]
  },
  {
   "cell_type": "code",
   "execution_count": 4,
   "metadata": {},
   "outputs": [],
   "source": [
    "symbols = ['ACB', 'F', 'GE', 'DIS', 'AAL', 'GPRO', 'DAL', 'MSFT', 'CCL', 'AAPL', 'FIT', 'SNAP', 'PLUG', 'BAC', 'BA', 'NCLH', 'INO', 'UAL', 'UBER', 'CGC', 'TSLA', 'AMD', 'CRON', 'RCL', 'TWTR', 'GRPN', 'FB', 'SBUX', 'MRO', 'ZNGA', 'BABA', 'T', 'KO', 'APHA', 'USO', 'XOM', 'AMZN', 'MFA', 'JBLU', 'NIO', 'MRNA', 'LUV', 'GM', 'GILD', 'MGM', 'SAVE', 'NFLX', 'NRZ', 'SPCE', 'LK', 'VSLR', 'AMC', 'PENN', 'VOO', 'TLRY', 'HAL', 'NOK', 'NVDA', 'CPRX', 'LYFT', 'SQ', 'SPY', 'V', 'NKE', 'SIRI', 'UCO', 'WORK', 'CPE', 'BYND', 'KOS', 'ET', 'OXY', 'PFE', 'ZM', 'CRBP', 'SPHD', 'FCEL', 'VKTX', 'JPM', 'NTDOY', 'NYMT', 'BP', 'ATVI', 'CSCO', 'WFC', 'WMT', 'GOOGL', 'INTC', 'GLUU', 'AUY', 'VTI', 'ERI', 'TXMD', 'SNE', 'PTON', 'ROKU', 'JNJ', 'IVR', 'MU']"
   ]
  },
  {
   "source": [
    "# Feature Engineering\n",
    "\n",
    "Here I want to create a column that looks at the variance over time, and flags days where the change was greater than the variance. I'll ultimately use that as my target.\n",
    "The idea behind this is if I see a movement that is statistically unlikely for a stock, then it's noteworthy and I should buy (either the stock or perhaps an option)."
   ],
   "cell_type": "markdown",
   "metadata": {}
  },
  {
   "cell_type": "code",
   "execution_count": 110,
   "metadata": {
    "tags": []
   },
   "outputs": [
    {
     "output_type": "stream",
     "name": "stdout",
     "text": "ACB dataframe added to base.\nF dataframe added to base.\nGE dataframe added to base.\nDIS dataframe added to base.\nAAL dataframe added to base.\nGPRO dataframe added to base.\nDAL dataframe added to base.\nMSFT dataframe added to base.\nCCL dataframe added to base.\nAAPL dataframe added to base.\nFIT dataframe added to base.\nSNAP dataframe added to base.\nPLUG dataframe added to base.\nBAC dataframe added to base.\nBA dataframe added to base.\nNCLH dataframe added to base.\nINO dataframe added to base.\nUAL dataframe added to base.\nUBER dataframe added to base.\nCGC dataframe added to base.\nTSLA dataframe added to base.\nAMD dataframe added to base.\nCRON dataframe added to base.\nRCL dataframe added to base.\nTWTR dataframe added to base.\nGRPN dataframe added to base.\nFB dataframe added to base.\nSBUX dataframe added to base.\nMRO dataframe added to base.\nZNGA dataframe added to base.\nBABA dataframe added to base.\nT dataframe added to base.\nKO dataframe added to base.\nAPHA dataframe added to base.\nUSO dataframe added to base.\nXOM dataframe added to base.\nAMZN dataframe added to base.\nMFA dataframe added to base.\nJBLU dataframe added to base.\nNIO dataframe added to base.\nMRNA dataframe added to base.\nLUV dataframe added to base.\nGM dataframe added to base.\nGILD dataframe added to base.\nMGM dataframe added to base.\nSAVE dataframe added to base.\nNFLX dataframe added to base.\nNRZ dataframe added to base.\nSPCE dataframe added to base.\nLK dataframe added to base.\nVSLR dataframe added to base.\nAMC dataframe added to base.\nPENN dataframe added to base.\nVOO dataframe added to base.\nTLRY dataframe added to base.\nHAL dataframe added to base.\nNOK dataframe added to base.\nNVDA dataframe added to base.\nCPRX dataframe added to base.\nLYFT dataframe added to base.\nSQ dataframe added to base.\nSPY dataframe added to base.\nV dataframe added to base.\nNKE dataframe added to base.\nSIRI dataframe added to base.\nUCO dataframe added to base.\nWORK dataframe added to base.\nCPE dataframe added to base.\nBYND dataframe added to base.\nKOS dataframe added to base.\nET dataframe added to base.\nOXY dataframe added to base.\nPFE dataframe added to base.\nZM dataframe added to base.\nCRBP dataframe added to base.\nSPHD dataframe added to base.\nFCEL dataframe added to base.\nVKTX dataframe added to base.\nJPM dataframe added to base.\nNTDOY dataframe added to base.\nNYMT dataframe added to base.\nBP dataframe added to base.\nATVI dataframe added to base.\nCSCO dataframe added to base.\nWFC dataframe added to base.\nWMT dataframe added to base.\nGOOGL dataframe added to base.\nINTC dataframe added to base.\nGLUU dataframe added to base.\nAUY dataframe added to base.\nVTI dataframe added to base.\nERI dataframe added to base.\nTXMD dataframe added to base.\nSNE dataframe added to base.\nPTON dataframe added to base.\nROKU dataframe added to base.\nJNJ dataframe added to base.\nIVR dataframe added to base.\nMU dataframe added to base.\nComplete\n"
    }
   ],
   "source": [
    "\"\"\"Look at week long spans\"\"\"\n",
    "start_date = datetime.date(2019, 1, 1)\n",
    "end_date =  datetime.date(2020, 9, 14)\n",
    "df = pd.DataFrame()\n",
    "for i in symbols:\n",
    "    tckr = yf.Ticker(i)\n",
    "    results = tckr.history(start=start_date, end = end_date)\n",
    "    #results.drop(['Dividends', 'Stock Splits'], axis=1, inplace=True)\n",
    "    results['Symbol'] =[i]* int(results.shape[0])\n",
    "    results.reset_index(inplace = True)\n",
    "    df = df.append(results, ignore_index=True)\n",
    "    print(i, 'dataframe added to base.')\n",
    "print('Complete')"
   ]
  },
  {
   "cell_type": "code",
   "execution_count": 111,
   "metadata": {
    "tags": []
   },
   "outputs": [
    {
     "output_type": "stream",
     "name": "stdout",
     "text": "ACB 0.098234115397837\nF 0.03885101662583656\nGE 0.048712314289256244\nDIS 0.032563002821226546\nAAL 0.07726654442781249\nGPRO 0.06995866395494581\nDAL 0.053728547994315465\nMSFT 0.029856703769340593\nCCL 0.07384852139993214\nAAPL 0.030992683500238018\nFIT 0.052220516971761784\nSNAP 0.056702512731236256\nPLUG 0.0803649026915543\nBAC 0.036581168561330334\nBA 0.05143754104463783\nNCLH 0.08192258285780764\nINO 0.1346566410985932\nUAL 0.06876631390203004\nUBER 0.06438347747813052\nCGC 0.0739326869396866\nTSLA 0.06536690342842415\nAMD 0.0571041505114285\nCRON 0.08938212554352934\nRCL 0.07178809250139076\nTWTR 0.04243719221438596\nGRPN 0.09437329697296805\nFB 0.034009917066915626\nSBUX 0.02977569142159943\nMRO 0.061462382521884226\nZNGA 0.03760450716671527\nBABA 0.028730620290632728\nT 0.025799308770698793\nKO 0.026305888627136696\nAPHA 0.07843622159068474\nUSO 0.042883972809036525\nXOM 0.03447466796273335\nAMZN 0.030071829680275202\nMFA 0.1253389612922295\nJBLU 0.059472362431605606\nNIO 0.1082139872752427\nMRNA 0.09315499862862185\nLUV 0.04460242827956345\nGM 0.03967365423165198\nGILD 0.03423826896931217\nMGM 0.06346269092538986\nSAVE 0.0770138874732836\nNFLX 0.04099885078366037\nNRZ 0.07978863970844347\nSPCE 0.08137437216895586\nLK 0.15311904326628448\nVSLR 0.0847870623546912\nAMC 0.09071065755160851\nPENN 0.09672637909489992\nVOO 0.019880162710538336\nTLRY 0.11534497373258724\nHAL 0.0634042703541912\nNOK 0.029186892325289617\nNVDA 0.046416750056115466\nCPRX 0.0851659410815913\nLYFT 0.07251729977002204\nSQ 0.05600943354923327\nSPY 0.01955693010108913\nV 0.02745631095465206\nNKE 0.02972941145993528\nSIRI 0.03232963672146935\nUCO 0.0872269832876726\nWORK 0.07472210794672951\nCPE 0.13694089119711367\nBYND 0.09788643071737901\nKOS 0.10461980721703515\nET 0.04920947906295742\nOXY 0.06631335008213965\nPFE 0.026735436787131108\nZM 0.07477887801299958\nCRBP 0.07811233421306056\nSPHD 0.02295814340748099\nFCEL 0.1933842226415432\nVKTX 0.07529777262170367\nJPM 0.03129659208861299\nNTDOY 0.020083964849472457\nNYMT 0.07940050950673987\nBP 0.02646502945651409\nATVI 0.03918197743847958\nCSCO 0.03144288222363804\nWFC 0.0387966718768565\nWMT 0.026856429782272925\nGOOGL 0.02715491292039497\nINTC 0.035929640160132933\nGLUU 0.06766383754325145\nAUY 0.06900369410837628\nVTI 0.019903879579424716\nERI 0.08781396134500825\nTXMD 0.1126670587440403\nSNE 0.02309085351126229\nPTON 0.08420635650857139\nROKU 0.07951169650952404\nJNJ 0.024312350183670818\nIVR 0.09575681403706959\nMU 0.04480070074700534\n"
    }
   ],
   "source": [
    "def daily_mean(x):\n",
    "    values = [x['Open'], x['High'], x['Low'], x['Close']]\n",
    "    return mean(values)\n",
    "def daily_stddev(x):\n",
    "    values = [x['Open'], x['High'], x['Low'], x['Close']]\n",
    "    return stdev(values)\n",
    "def daily_pct_change(x):\n",
    "    return (x['Close']-x['Open'])/x['Open']\n",
    "def notable_change(x):\n",
    "    return 1 if abs(x['Pct_Change']) > sym_std[x['Symbol']] else 0\n",
    "def prior_trend(x, num_of_days):\n",
    "    _date =x['Date']\n",
    "    _start = _date - timedelta(days=num_of_days)\n",
    "    temp = df[df['Symbol'] == x['Symbol']]\n",
    "    temp = temp[temp['Date'] <= _date]\n",
    "    temp = temp[temp['Date']> _start]\n",
    "    return temp['Pct_Change'].mean()\n",
    "\n",
    "df['Mean'] = df.apply(lambda x: daily_mean(x), axis=1)\n",
    "df['Std_Dev'] = df.apply(lambda x: daily_stddev(x), axis=1)\n",
    "df['Pct_Change'] = df.apply(lambda x: daily_pct_change(x), axis=1)\n",
    "sym_std = {}\n",
    "for i in symbols:\n",
    "    temp = df[df['Symbol'] == i]\n",
    "    sym_std[i] = temp['Pct_Change'].std()*2\n",
    "    print(i, temp['Pct_Change'].std()*2)\n",
    "df['Notable_Change'] = df.apply(lambda x: notable_change(x), axis=1)\n",
    "df['Three_Day_Movement'] = df.apply(lambda x: prior_trend(x, 3), axis=1)\n",
    "df['Five_Day_Movement'] = df.apply(lambda x: prior_trend(x, 5), axis=1)\n"
   ]
  },
  {
   "cell_type": "code",
   "execution_count": 112,
   "metadata": {
    "tags": []
   },
   "outputs": [],
   "source": [
    "df['Shifted_Notable_Change'] = df['Notable_Change'].shift(1)\n",
    "\n",
    "for i in symbols:\n",
    "    #remove all the earliest dates to account for the shift\n",
    "    temp = df[df['Symbol'] ==i]\n",
    "    index = temp[temp['Date']==temp['Date'].iloc[0]].index\n",
    "    df.drop(index, inplace=True)"
   ]
  },
  {
   "cell_type": "code",
   "execution_count": 113,
   "metadata": {},
   "outputs": [],
   "source": [
    "#convert df datetime to date\n",
    "df['Date_Only'] = df['Date'].dt.date"
   ]
  },
  {
   "cell_type": "code",
   "execution_count": 114,
   "metadata": {},
   "outputs": [],
   "source": [
    "#Label Encode Symbols \n",
    "encoder = LabelEncoder()\n",
    "df['Enc_Symbol'] = encoder.fit_transform(df['Symbol'])"
   ]
  },
  {
   "cell_type": "code",
   "execution_count": 115,
   "metadata": {},
   "outputs": [
    {
     "output_type": "execute_result",
     "data": {
      "text/plain": "        Date   Open   High    Low  Close     Volume  Dividends  Stock Splits  \\\n1 2019-01-03  62.16  63.48  60.96  61.68   520600.0        0.0           0.0   \n2 2019-01-04  62.52  64.20  61.70  62.64   698200.0        0.0           0.0   \n3 2019-01-07  63.60  64.20  62.52  63.12   521500.0        0.0           0.0   \n4 2019-01-08  63.84  64.20  60.00  60.36  1158500.0        0.0           0.0   \n5 2019-01-09  60.84  66.48  60.48  65.40  1370900.0        0.0           0.0   \n\n  Symbol    Mean   Std_Dev  Pct_Change  Notable_Change  Three_Day_Movement  \\\n1    ACB  62.070  1.061508   -0.007722               0            0.031926   \n2    ACB  62.765  1.043887    0.001919               0            0.021924   \n3    ACB  63.360  0.713302   -0.007547               0           -0.007547   \n4    ACB  62.100  2.226747   -0.054511               0           -0.031029   \n5    ACB  63.300  3.083634    0.074951               0            0.004297   \n\n   Five_Day_Movement  Shifted_Notable_Change   Date_Only  Enc_Symbol  \n1           0.031926                     0.0  2019-01-03           2  \n2           0.021924                     0.0  2019-01-04           2  \n3          -0.004450                     0.0  2019-01-07           2  \n4          -0.020046                     0.0  2019-01-08           2  \n5           0.004297                     0.0  2019-01-09           2  ",
      "text/html": "<div>\n<style scoped>\n    .dataframe tbody tr th:only-of-type {\n        vertical-align: middle;\n    }\n\n    .dataframe tbody tr th {\n        vertical-align: top;\n    }\n\n    .dataframe thead th {\n        text-align: right;\n    }\n</style>\n<table border=\"1\" class=\"dataframe\">\n  <thead>\n    <tr style=\"text-align: right;\">\n      <th></th>\n      <th>Date</th>\n      <th>Open</th>\n      <th>High</th>\n      <th>Low</th>\n      <th>Close</th>\n      <th>Volume</th>\n      <th>Dividends</th>\n      <th>Stock Splits</th>\n      <th>Symbol</th>\n      <th>Mean</th>\n      <th>Std_Dev</th>\n      <th>Pct_Change</th>\n      <th>Notable_Change</th>\n      <th>Three_Day_Movement</th>\n      <th>Five_Day_Movement</th>\n      <th>Shifted_Notable_Change</th>\n      <th>Date_Only</th>\n      <th>Enc_Symbol</th>\n    </tr>\n  </thead>\n  <tbody>\n    <tr>\n      <th>1</th>\n      <td>2019-01-03</td>\n      <td>62.16</td>\n      <td>63.48</td>\n      <td>60.96</td>\n      <td>61.68</td>\n      <td>520600.0</td>\n      <td>0.0</td>\n      <td>0.0</td>\n      <td>ACB</td>\n      <td>62.070</td>\n      <td>1.061508</td>\n      <td>-0.007722</td>\n      <td>0</td>\n      <td>0.031926</td>\n      <td>0.031926</td>\n      <td>0.0</td>\n      <td>2019-01-03</td>\n      <td>2</td>\n    </tr>\n    <tr>\n      <th>2</th>\n      <td>2019-01-04</td>\n      <td>62.52</td>\n      <td>64.20</td>\n      <td>61.70</td>\n      <td>62.64</td>\n      <td>698200.0</td>\n      <td>0.0</td>\n      <td>0.0</td>\n      <td>ACB</td>\n      <td>62.765</td>\n      <td>1.043887</td>\n      <td>0.001919</td>\n      <td>0</td>\n      <td>0.021924</td>\n      <td>0.021924</td>\n      <td>0.0</td>\n      <td>2019-01-04</td>\n      <td>2</td>\n    </tr>\n    <tr>\n      <th>3</th>\n      <td>2019-01-07</td>\n      <td>63.60</td>\n      <td>64.20</td>\n      <td>62.52</td>\n      <td>63.12</td>\n      <td>521500.0</td>\n      <td>0.0</td>\n      <td>0.0</td>\n      <td>ACB</td>\n      <td>63.360</td>\n      <td>0.713302</td>\n      <td>-0.007547</td>\n      <td>0</td>\n      <td>-0.007547</td>\n      <td>-0.004450</td>\n      <td>0.0</td>\n      <td>2019-01-07</td>\n      <td>2</td>\n    </tr>\n    <tr>\n      <th>4</th>\n      <td>2019-01-08</td>\n      <td>63.84</td>\n      <td>64.20</td>\n      <td>60.00</td>\n      <td>60.36</td>\n      <td>1158500.0</td>\n      <td>0.0</td>\n      <td>0.0</td>\n      <td>ACB</td>\n      <td>62.100</td>\n      <td>2.226747</td>\n      <td>-0.054511</td>\n      <td>0</td>\n      <td>-0.031029</td>\n      <td>-0.020046</td>\n      <td>0.0</td>\n      <td>2019-01-08</td>\n      <td>2</td>\n    </tr>\n    <tr>\n      <th>5</th>\n      <td>2019-01-09</td>\n      <td>60.84</td>\n      <td>66.48</td>\n      <td>60.48</td>\n      <td>65.40</td>\n      <td>1370900.0</td>\n      <td>0.0</td>\n      <td>0.0</td>\n      <td>ACB</td>\n      <td>63.300</td>\n      <td>3.083634</td>\n      <td>0.074951</td>\n      <td>0</td>\n      <td>0.004297</td>\n      <td>0.004297</td>\n      <td>0.0</td>\n      <td>2019-01-09</td>\n      <td>2</td>\n    </tr>\n  </tbody>\n</table>\n</div>"
     },
     "metadata": {},
     "execution_count": 115
    }
   ],
   "source": [
    "df.head()"
   ]
  },
  {
   "source": [
    "# Train Test Setup"
   ],
   "cell_type": "markdown",
   "metadata": {}
  },
  {
   "cell_type": "code",
   "execution_count": 116,
   "metadata": {},
   "outputs": [],
   "source": [
    "columns = ['Volume', 'Dividends', 'Stock Splits', 'Pct_Change', 'Three_Day_Movement', 'Five_Day_Movement']\n",
    "target_col = ['Shifted_Notable_Change']\n",
    "X = df[columns]\n",
    "y = df[target_col]"
   ]
  },
  {
   "cell_type": "code",
   "execution_count": 119,
   "metadata": {},
   "outputs": [],
   "source": [
    "split_date = date(2020, 1, 1)\n",
    "train_half = df[df['Date_Only']<split_date]\n",
    "valid_half = df[df['Date_Only']>=split_date]\n",
    "train_X = train_half[columns]\n",
    "train_y = train_half[target_col]\n",
    "valid_X = valid_half[columns]\n",
    "valid_y = valid_half[target_col]"
   ]
  },
  {
   "cell_type": "code",
   "execution_count": 26,
   "metadata": {
    "tags": []
   },
   "outputs": [],
   "source": [
    "#train_X, valid_X, train_y, valid_y = train_test_split(X,y, test_size=.3, train_size=.7, shuffle=False, stratify = None, random_state = 0) #double check stratify"
   ]
  },
  {
   "cell_type": "code",
   "execution_count": 118,
   "metadata": {
    "tags": []
   },
   "outputs": [
    {
     "output_type": "stream",
     "name": "stdout",
     "text": "Best Score: 0.3020680030528311\nBest Parameters: {'learning_rate': 0.1, 'max_depth': 9, 'n_estimators': 300, 'n_jobs': 4}\nTrain Score: 0.8159237835998638\nValid Score: 0.28908554572271383\n"
    }
   ],
   "source": [
    "from xgboost import XGBClassifier\n",
    "from sklearn.model_selection import GridSearchCV\n",
    "\n",
    "xgb_params = {'max_depth':[i for i in range(3,11, 2)], \n",
    "              'n_estimators':[100, 300, 500, 1000, 5000, 10000], \n",
    "              'learning_rate':[.1], \n",
    "              'n_jobs':[4],\n",
    "              }\n",
    "xgb = XGBClassifier()\n",
    "xgb_rand_search  = GridSearchCV(xgb, xgb_params, scoring='f1', cv=5, refit=True)\n",
    "xgb_rand_search.fit(train_X, train_y)\n",
    "print('Best Score:', xgb_rand_search.best_score_)\n",
    "print('Best Parameters:', xgb_rand_search.best_params_)\n",
    "print('Train Score:', xgb_rand_search.score(train_X, train_y))\n",
    "print('Valid Score:', xgb_rand_search.score(valid_X, valid_y))\n",
    "N.notify('Done Searching')"
   ]
  },
  {
   "cell_type": "code",
   "execution_count": 120,
   "metadata": {},
   "outputs": [
    {
     "output_type": "execute_result",
     "data": {
      "text/plain": "XGBClassifier(base_score=0.5, booster='gbtree', colsample_bylevel=1,\n              colsample_bynode=1, colsample_bytree=1, gamma=0, gpu_id=-1,\n              importance_type='gain', interaction_constraints='',\n              learning_rate=0.1, max_delta_step=0, max_depth=9,\n              min_child_weight=1, missing=nan, monotone_constraints='()',\n              n_estimators=300, n_jobs=4, num_parallel_tree=1, random_state=0,\n              reg_alpha=0, reg_lambda=1, scale_pos_weight=1, subsample=1,\n              tree_method='exact', validate_parameters=1, verbosity=None)"
     },
     "metadata": {},
     "execution_count": 120
    }
   ],
   "source": [
    "xgb_params = {'max_depth':9, \n",
    "              'n_estimators':300, \n",
    "              'learning_rate':.1, \n",
    "              'n_jobs':4,\n",
    "              }\n",
    "test_model = XGBClassifier(**xgb_params)\n",
    "test_model.fit(train_X, train_y, verbose=False)"
   ]
  },
  {
   "cell_type": "code",
   "execution_count": 121,
   "metadata": {},
   "outputs": [
    {
     "output_type": "execute_result",
     "data": {
      "text/plain": "<AxesSubplot:>"
     },
     "metadata": {},
     "execution_count": 121
    },
    {
     "output_type": "display_data",
     "data": {
      "text/plain": "<Figure size 432x288 with 2 Axes>",
      "image/svg+xml": "<?xml version=\"1.0\" encoding=\"utf-8\" standalone=\"no\"?>\n<!DOCTYPE svg PUBLIC \"-//W3C//DTD SVG 1.1//EN\"\n  \"http://www.w3.org/Graphics/SVG/1.1/DTD/svg11.dtd\">\n<!-- Created with matplotlib (https://matplotlib.org/) -->\n<svg height=\"248.518125pt\" version=\"1.1\" viewBox=\"0 0 365.342625 248.518125\" width=\"365.342625pt\" xmlns=\"http://www.w3.org/2000/svg\" xmlns:xlink=\"http://www.w3.org/1999/xlink\">\n <metadata>\n  <rdf:RDF xmlns:cc=\"http://creativecommons.org/ns#\" xmlns:dc=\"http://purl.org/dc/elements/1.1/\" xmlns:rdf=\"http://www.w3.org/1999/02/22-rdf-syntax-ns#\">\n   <cc:Work>\n    <dc:type rdf:resource=\"http://purl.org/dc/dcmitype/StillImage\"/>\n    <dc:date>2020-09-21T12:28:12.102533</dc:date>\n    <dc:format>image/svg+xml</dc:format>\n    <dc:creator>\n     <cc:Agent>\n      <dc:title>Matplotlib v3.3.1, https://matplotlib.org/</dc:title>\n     </cc:Agent>\n    </dc:creator>\n   </cc:Work>\n  </rdf:RDF>\n </metadata>\n <defs>\n  <style type=\"text/css\">*{stroke-linecap:butt;stroke-linejoin:round;}</style>\n </defs>\n <g id=\"figure_1\">\n  <g id=\"patch_1\">\n   <path d=\"M -0 248.518125 \nL 365.342625 248.518125 \nL 365.342625 0 \nL -0 0 \nz\n\" style=\"fill:none;\"/>\n  </g>\n  <g id=\"axes_1\">\n   <g id=\"patch_2\">\n    <path d=\"M 23.878125 224.64 \nL 291.718125 224.64 \nL 291.718125 7.2 \nL 23.878125 7.2 \nz\n\" style=\"fill:#ffffff;\"/>\n   </g>\n   <g id=\"QuadMesh_1\">\n    <path clip-path=\"url(#p73b32d5141)\" d=\"M 23.878125 7.2 \nL 157.798125 7.2 \nL 157.798125 115.92 \nL 23.878125 115.92 \nL 23.878125 7.2 \n\" style=\"fill:#faebdd;\"/>\n    <path clip-path=\"url(#p73b32d5141)\" d=\"M 157.798125 7.2 \nL 291.718125 7.2 \nL 291.718125 115.92 \nL 157.798125 115.92 \nL 157.798125 7.2 \n\" style=\"fill:#03051a;\"/>\n    <path clip-path=\"url(#p73b32d5141)\" d=\"M 23.878125 115.92 \nL 157.798125 115.92 \nL 157.798125 224.64 \nL 23.878125 224.64 \nL 23.878125 115.92 \n\" style=\"fill:#221331;\"/>\n    <path clip-path=\"url(#p73b32d5141)\" d=\"M 157.798125 115.92 \nL 291.718125 115.92 \nL 291.718125 224.64 \nL 157.798125 224.64 \nL 157.798125 115.92 \n\" style=\"fill:#03051a;\"/>\n   </g>\n   <g id=\"matplotlib.axis_1\">\n    <g id=\"xtick_1\">\n     <g id=\"line2d_1\">\n      <defs>\n       <path d=\"M 0 0 \nL 0 3.5 \n\" id=\"mcb954090bd\" style=\"stroke:#000000;stroke-width:0.8;\"/>\n      </defs>\n      <g>\n       <use style=\"stroke:#000000;stroke-width:0.8;\" x=\"90.838125\" xlink:href=\"#mcb954090bd\" y=\"224.64\"/>\n      </g>\n     </g>\n     <g id=\"text_1\">\n      <!-- 0 -->\n      <g transform=\"translate(87.656875 239.238437)scale(0.1 -0.1)\">\n       <defs>\n        <path d=\"M 31.78125 66.40625 \nQ 24.171875 66.40625 20.328125 58.90625 \nQ 16.5 51.421875 16.5 36.375 \nQ 16.5 21.390625 20.328125 13.890625 \nQ 24.171875 6.390625 31.78125 6.390625 \nQ 39.453125 6.390625 43.28125 13.890625 \nQ 47.125 21.390625 47.125 36.375 \nQ 47.125 51.421875 43.28125 58.90625 \nQ 39.453125 66.40625 31.78125 66.40625 \nz\nM 31.78125 74.21875 \nQ 44.046875 74.21875 50.515625 64.515625 \nQ 56.984375 54.828125 56.984375 36.375 \nQ 56.984375 17.96875 50.515625 8.265625 \nQ 44.046875 -1.421875 31.78125 -1.421875 \nQ 19.53125 -1.421875 13.0625 8.265625 \nQ 6.59375 17.96875 6.59375 36.375 \nQ 6.59375 54.828125 13.0625 64.515625 \nQ 19.53125 74.21875 31.78125 74.21875 \nz\n\" id=\"DejaVuSans-48\"/>\n       </defs>\n       <use xlink:href=\"#DejaVuSans-48\"/>\n      </g>\n     </g>\n    </g>\n    <g id=\"xtick_2\">\n     <g id=\"line2d_2\">\n      <g>\n       <use style=\"stroke:#000000;stroke-width:0.8;\" x=\"224.758125\" xlink:href=\"#mcb954090bd\" y=\"224.64\"/>\n      </g>\n     </g>\n     <g id=\"text_2\">\n      <!-- 1 -->\n      <g transform=\"translate(221.576875 239.238437)scale(0.1 -0.1)\">\n       <defs>\n        <path d=\"M 12.40625 8.296875 \nL 28.515625 8.296875 \nL 28.515625 63.921875 \nL 10.984375 60.40625 \nL 10.984375 69.390625 \nL 28.421875 72.90625 \nL 38.28125 72.90625 \nL 38.28125 8.296875 \nL 54.390625 8.296875 \nL 54.390625 0 \nL 12.40625 0 \nz\n\" id=\"DejaVuSans-49\"/>\n       </defs>\n       <use xlink:href=\"#DejaVuSans-49\"/>\n      </g>\n     </g>\n    </g>\n   </g>\n   <g id=\"matplotlib.axis_2\">\n    <g id=\"ytick_1\">\n     <g id=\"line2d_3\">\n      <defs>\n       <path d=\"M 0 0 \nL -3.5 0 \n\" id=\"meeb2c0972b\" style=\"stroke:#000000;stroke-width:0.8;\"/>\n      </defs>\n      <g>\n       <use style=\"stroke:#000000;stroke-width:0.8;\" x=\"23.878125\" xlink:href=\"#meeb2c0972b\" y=\"61.56\"/>\n      </g>\n     </g>\n     <g id=\"text_3\">\n      <!-- 0 -->\n      <g transform=\"translate(14.798438 64.123281)rotate(-90)scale(0.1 -0.1)\">\n       <use xlink:href=\"#DejaVuSans-48\"/>\n      </g>\n     </g>\n    </g>\n    <g id=\"ytick_2\">\n     <g id=\"line2d_4\">\n      <g>\n       <use style=\"stroke:#000000;stroke-width:0.8;\" x=\"23.878125\" xlink:href=\"#meeb2c0972b\" y=\"170.28\"/>\n      </g>\n     </g>\n     <g id=\"text_4\">\n      <!-- 1 -->\n      <g transform=\"translate(14.798438 172.843281)rotate(-90)scale(0.1 -0.1)\">\n       <use xlink:href=\"#DejaVuSans-49\"/>\n      </g>\n     </g>\n    </g>\n   </g>\n   <g id=\"text_5\">\n    <!-- True Neg -->\n    <g style=\"fill:#262626;\" transform=\"translate(68.640469 53.121562)scale(0.1 -0.1)\">\n     <defs>\n      <path d=\"M -0.296875 72.90625 \nL 61.375 72.90625 \nL 61.375 64.59375 \nL 35.5 64.59375 \nL 35.5 0 \nL 25.59375 0 \nL 25.59375 64.59375 \nL -0.296875 64.59375 \nz\n\" id=\"DejaVuSans-84\"/>\n      <path d=\"M 41.109375 46.296875 \nQ 39.59375 47.171875 37.8125 47.578125 \nQ 36.03125 48 33.890625 48 \nQ 26.265625 48 22.1875 43.046875 \nQ 18.109375 38.09375 18.109375 28.8125 \nL 18.109375 0 \nL 9.078125 0 \nL 9.078125 54.6875 \nL 18.109375 54.6875 \nL 18.109375 46.1875 \nQ 20.953125 51.171875 25.484375 53.578125 \nQ 30.03125 56 36.53125 56 \nQ 37.453125 56 38.578125 55.875 \nQ 39.703125 55.765625 41.0625 55.515625 \nz\n\" id=\"DejaVuSans-114\"/>\n      <path d=\"M 8.5 21.578125 \nL 8.5 54.6875 \nL 17.484375 54.6875 \nL 17.484375 21.921875 \nQ 17.484375 14.15625 20.5 10.265625 \nQ 23.53125 6.390625 29.59375 6.390625 \nQ 36.859375 6.390625 41.078125 11.03125 \nQ 45.3125 15.671875 45.3125 23.6875 \nL 45.3125 54.6875 \nL 54.296875 54.6875 \nL 54.296875 0 \nL 45.3125 0 \nL 45.3125 8.40625 \nQ 42.046875 3.421875 37.71875 1 \nQ 33.40625 -1.421875 27.6875 -1.421875 \nQ 18.265625 -1.421875 13.375 4.4375 \nQ 8.5 10.296875 8.5 21.578125 \nz\nM 31.109375 56 \nz\n\" id=\"DejaVuSans-117\"/>\n      <path d=\"M 56.203125 29.59375 \nL 56.203125 25.203125 \nL 14.890625 25.203125 \nQ 15.484375 15.921875 20.484375 11.0625 \nQ 25.484375 6.203125 34.421875 6.203125 \nQ 39.59375 6.203125 44.453125 7.46875 \nQ 49.3125 8.734375 54.109375 11.28125 \nL 54.109375 2.78125 \nQ 49.265625 0.734375 44.1875 -0.34375 \nQ 39.109375 -1.421875 33.890625 -1.421875 \nQ 20.796875 -1.421875 13.15625 6.1875 \nQ 5.515625 13.8125 5.515625 26.8125 \nQ 5.515625 40.234375 12.765625 48.109375 \nQ 20.015625 56 32.328125 56 \nQ 43.359375 56 49.78125 48.890625 \nQ 56.203125 41.796875 56.203125 29.59375 \nz\nM 47.21875 32.234375 \nQ 47.125 39.59375 43.09375 43.984375 \nQ 39.0625 48.390625 32.421875 48.390625 \nQ 24.90625 48.390625 20.390625 44.140625 \nQ 15.875 39.890625 15.1875 32.171875 \nz\n\" id=\"DejaVuSans-101\"/>\n      <path id=\"DejaVuSans-32\"/>\n      <path d=\"M 9.8125 72.90625 \nL 23.09375 72.90625 \nL 55.421875 11.921875 \nL 55.421875 72.90625 \nL 64.984375 72.90625 \nL 64.984375 0 \nL 51.703125 0 \nL 19.390625 60.984375 \nL 19.390625 0 \nL 9.8125 0 \nz\n\" id=\"DejaVuSans-78\"/>\n      <path d=\"M 45.40625 27.984375 \nQ 45.40625 37.75 41.375 43.109375 \nQ 37.359375 48.484375 30.078125 48.484375 \nQ 22.859375 48.484375 18.828125 43.109375 \nQ 14.796875 37.75 14.796875 27.984375 \nQ 14.796875 18.265625 18.828125 12.890625 \nQ 22.859375 7.515625 30.078125 7.515625 \nQ 37.359375 7.515625 41.375 12.890625 \nQ 45.40625 18.265625 45.40625 27.984375 \nz\nM 54.390625 6.78125 \nQ 54.390625 -7.171875 48.1875 -13.984375 \nQ 42 -20.796875 29.203125 -20.796875 \nQ 24.46875 -20.796875 20.265625 -20.09375 \nQ 16.0625 -19.390625 12.109375 -17.921875 \nL 12.109375 -9.1875 \nQ 16.0625 -11.328125 19.921875 -12.34375 \nQ 23.78125 -13.375 27.78125 -13.375 \nQ 36.625 -13.375 41.015625 -8.765625 \nQ 45.40625 -4.15625 45.40625 5.171875 \nL 45.40625 9.625 \nQ 42.625 4.78125 38.28125 2.390625 \nQ 33.9375 0 27.875 0 \nQ 17.828125 0 11.671875 7.65625 \nQ 5.515625 15.328125 5.515625 27.984375 \nQ 5.515625 40.671875 11.671875 48.328125 \nQ 17.828125 56 27.875 56 \nQ 33.9375 56 38.28125 53.609375 \nQ 42.625 51.21875 45.40625 46.390625 \nL 45.40625 54.6875 \nL 54.390625 54.6875 \nz\n\" id=\"DejaVuSans-103\"/>\n     </defs>\n     <use xlink:href=\"#DejaVuSans-84\"/>\n     <use x=\"46.333984\" xlink:href=\"#DejaVuSans-114\"/>\n     <use x=\"87.447266\" xlink:href=\"#DejaVuSans-117\"/>\n     <use x=\"150.826172\" xlink:href=\"#DejaVuSans-101\"/>\n     <use x=\"212.349609\" xlink:href=\"#DejaVuSans-32\"/>\n     <use x=\"244.136719\" xlink:href=\"#DejaVuSans-78\"/>\n     <use x=\"318.941406\" xlink:href=\"#DejaVuSans-101\"/>\n     <use x=\"380.464844\" xlink:href=\"#DejaVuSans-103\"/>\n    </g>\n    <!-- 15401 -->\n    <g style=\"fill:#262626;\" transform=\"translate(74.931875 64.319375)scale(0.1 -0.1)\">\n     <defs>\n      <path d=\"M 10.796875 72.90625 \nL 49.515625 72.90625 \nL 49.515625 64.59375 \nL 19.828125 64.59375 \nL 19.828125 46.734375 \nQ 21.96875 47.46875 24.109375 47.828125 \nQ 26.265625 48.1875 28.421875 48.1875 \nQ 40.625 48.1875 47.75 41.5 \nQ 54.890625 34.8125 54.890625 23.390625 \nQ 54.890625 11.625 47.5625 5.09375 \nQ 40.234375 -1.421875 26.90625 -1.421875 \nQ 22.3125 -1.421875 17.546875 -0.640625 \nQ 12.796875 0.140625 7.71875 1.703125 \nL 7.71875 11.625 \nQ 12.109375 9.234375 16.796875 8.0625 \nQ 21.484375 6.890625 26.703125 6.890625 \nQ 35.15625 6.890625 40.078125 11.328125 \nQ 45.015625 15.765625 45.015625 23.390625 \nQ 45.015625 31 40.078125 35.4375 \nQ 35.15625 39.890625 26.703125 39.890625 \nQ 22.75 39.890625 18.8125 39.015625 \nQ 14.890625 38.140625 10.796875 36.28125 \nz\n\" id=\"DejaVuSans-53\"/>\n      <path d=\"M 37.796875 64.3125 \nL 12.890625 25.390625 \nL 37.796875 25.390625 \nz\nM 35.203125 72.90625 \nL 47.609375 72.90625 \nL 47.609375 25.390625 \nL 58.015625 25.390625 \nL 58.015625 17.1875 \nL 47.609375 17.1875 \nL 47.609375 0 \nL 37.796875 0 \nL 37.796875 17.1875 \nL 4.890625 17.1875 \nL 4.890625 26.703125 \nz\n\" id=\"DejaVuSans-52\"/>\n     </defs>\n     <use xlink:href=\"#DejaVuSans-49\"/>\n     <use x=\"63.623047\" xlink:href=\"#DejaVuSans-53\"/>\n     <use x=\"127.246094\" xlink:href=\"#DejaVuSans-52\"/>\n     <use x=\"190.869141\" xlink:href=\"#DejaVuSans-48\"/>\n     <use x=\"254.492188\" xlink:href=\"#DejaVuSans-49\"/>\n    </g>\n    <!-- 88.37% -->\n    <g style=\"fill:#262626;\" transform=\"translate(71.773281 75.517187)scale(0.1 -0.1)\">\n     <defs>\n      <path d=\"M 31.78125 34.625 \nQ 24.75 34.625 20.71875 30.859375 \nQ 16.703125 27.09375 16.703125 20.515625 \nQ 16.703125 13.921875 20.71875 10.15625 \nQ 24.75 6.390625 31.78125 6.390625 \nQ 38.8125 6.390625 42.859375 10.171875 \nQ 46.921875 13.96875 46.921875 20.515625 \nQ 46.921875 27.09375 42.890625 30.859375 \nQ 38.875 34.625 31.78125 34.625 \nz\nM 21.921875 38.8125 \nQ 15.578125 40.375 12.03125 44.71875 \nQ 8.5 49.078125 8.5 55.328125 \nQ 8.5 64.0625 14.71875 69.140625 \nQ 20.953125 74.21875 31.78125 74.21875 \nQ 42.671875 74.21875 48.875 69.140625 \nQ 55.078125 64.0625 55.078125 55.328125 \nQ 55.078125 49.078125 51.53125 44.71875 \nQ 48 40.375 41.703125 38.8125 \nQ 48.828125 37.15625 52.796875 32.3125 \nQ 56.78125 27.484375 56.78125 20.515625 \nQ 56.78125 9.90625 50.3125 4.234375 \nQ 43.84375 -1.421875 31.78125 -1.421875 \nQ 19.734375 -1.421875 13.25 4.234375 \nQ 6.78125 9.90625 6.78125 20.515625 \nQ 6.78125 27.484375 10.78125 32.3125 \nQ 14.796875 37.15625 21.921875 38.8125 \nz\nM 18.3125 54.390625 \nQ 18.3125 48.734375 21.84375 45.5625 \nQ 25.390625 42.390625 31.78125 42.390625 \nQ 38.140625 42.390625 41.71875 45.5625 \nQ 45.3125 48.734375 45.3125 54.390625 \nQ 45.3125 60.0625 41.71875 63.234375 \nQ 38.140625 66.40625 31.78125 66.40625 \nQ 25.390625 66.40625 21.84375 63.234375 \nQ 18.3125 60.0625 18.3125 54.390625 \nz\n\" id=\"DejaVuSans-56\"/>\n      <path d=\"M 10.6875 12.40625 \nL 21 12.40625 \nL 21 0 \nL 10.6875 0 \nz\n\" id=\"DejaVuSans-46\"/>\n      <path d=\"M 40.578125 39.3125 \nQ 47.65625 37.796875 51.625 33 \nQ 55.609375 28.21875 55.609375 21.1875 \nQ 55.609375 10.40625 48.1875 4.484375 \nQ 40.765625 -1.421875 27.09375 -1.421875 \nQ 22.515625 -1.421875 17.65625 -0.515625 \nQ 12.796875 0.390625 7.625 2.203125 \nL 7.625 11.71875 \nQ 11.71875 9.328125 16.59375 8.109375 \nQ 21.484375 6.890625 26.8125 6.890625 \nQ 36.078125 6.890625 40.9375 10.546875 \nQ 45.796875 14.203125 45.796875 21.1875 \nQ 45.796875 27.640625 41.28125 31.265625 \nQ 36.765625 34.90625 28.71875 34.90625 \nL 20.21875 34.90625 \nL 20.21875 43.015625 \nL 29.109375 43.015625 \nQ 36.375 43.015625 40.234375 45.921875 \nQ 44.09375 48.828125 44.09375 54.296875 \nQ 44.09375 59.90625 40.109375 62.90625 \nQ 36.140625 65.921875 28.71875 65.921875 \nQ 24.65625 65.921875 20.015625 65.03125 \nQ 15.375 64.15625 9.8125 62.3125 \nL 9.8125 71.09375 \nQ 15.4375 72.65625 20.34375 73.4375 \nQ 25.25 74.21875 29.59375 74.21875 \nQ 40.828125 74.21875 47.359375 69.109375 \nQ 53.90625 64.015625 53.90625 55.328125 \nQ 53.90625 49.265625 50.4375 45.09375 \nQ 46.96875 40.921875 40.578125 39.3125 \nz\n\" id=\"DejaVuSans-51\"/>\n      <path d=\"M 8.203125 72.90625 \nL 55.078125 72.90625 \nL 55.078125 68.703125 \nL 28.609375 0 \nL 18.3125 0 \nL 43.21875 64.59375 \nL 8.203125 64.59375 \nz\n\" id=\"DejaVuSans-55\"/>\n      <path d=\"M 72.703125 32.078125 \nQ 68.453125 32.078125 66.03125 28.46875 \nQ 63.625 24.859375 63.625 18.40625 \nQ 63.625 12.0625 66.03125 8.421875 \nQ 68.453125 4.78125 72.703125 4.78125 \nQ 76.859375 4.78125 79.265625 8.421875 \nQ 81.6875 12.0625 81.6875 18.40625 \nQ 81.6875 24.8125 79.265625 28.4375 \nQ 76.859375 32.078125 72.703125 32.078125 \nz\nM 72.703125 38.28125 \nQ 80.421875 38.28125 84.953125 32.90625 \nQ 89.5 27.546875 89.5 18.40625 \nQ 89.5 9.28125 84.9375 3.921875 \nQ 80.375 -1.421875 72.703125 -1.421875 \nQ 64.890625 -1.421875 60.34375 3.921875 \nQ 55.8125 9.28125 55.8125 18.40625 \nQ 55.8125 27.59375 60.375 32.9375 \nQ 64.9375 38.28125 72.703125 38.28125 \nz\nM 22.3125 68.015625 \nQ 18.109375 68.015625 15.6875 64.375 \nQ 13.28125 60.75 13.28125 54.390625 \nQ 13.28125 47.953125 15.671875 44.328125 \nQ 18.0625 40.71875 22.3125 40.71875 \nQ 26.5625 40.71875 28.96875 44.328125 \nQ 31.390625 47.953125 31.390625 54.390625 \nQ 31.390625 60.6875 28.953125 64.34375 \nQ 26.515625 68.015625 22.3125 68.015625 \nz\nM 66.40625 74.21875 \nL 74.21875 74.21875 \nL 28.609375 -1.421875 \nL 20.796875 -1.421875 \nz\nM 22.3125 74.21875 \nQ 30.03125 74.21875 34.609375 68.875 \nQ 39.203125 63.53125 39.203125 54.390625 \nQ 39.203125 45.171875 34.640625 39.84375 \nQ 30.078125 34.515625 22.3125 34.515625 \nQ 14.546875 34.515625 10.03125 39.859375 \nQ 5.515625 45.21875 5.515625 54.390625 \nQ 5.515625 63.484375 10.046875 68.84375 \nQ 14.59375 74.21875 22.3125 74.21875 \nz\n\" id=\"DejaVuSans-37\"/>\n     </defs>\n     <use xlink:href=\"#DejaVuSans-56\"/>\n     <use x=\"63.623047\" xlink:href=\"#DejaVuSans-56\"/>\n     <use x=\"127.246094\" xlink:href=\"#DejaVuSans-46\"/>\n     <use x=\"159.033203\" xlink:href=\"#DejaVuSans-51\"/>\n     <use x=\"222.65625\" xlink:href=\"#DejaVuSans-55\"/>\n     <use x=\"286.279297\" xlink:href=\"#DejaVuSans-37\"/>\n    </g>\n   </g>\n   <g id=\"text_6\">\n    <!-- False Pos -->\n    <g style=\"fill:#ffffff;\" transform=\"translate(202.1175 53.121562)scale(0.1 -0.1)\">\n     <defs>\n      <path d=\"M 9.8125 72.90625 \nL 51.703125 72.90625 \nL 51.703125 64.59375 \nL 19.671875 64.59375 \nL 19.671875 43.109375 \nL 48.578125 43.109375 \nL 48.578125 34.8125 \nL 19.671875 34.8125 \nL 19.671875 0 \nL 9.8125 0 \nz\n\" id=\"DejaVuSans-70\"/>\n      <path d=\"M 34.28125 27.484375 \nQ 23.390625 27.484375 19.1875 25 \nQ 14.984375 22.515625 14.984375 16.5 \nQ 14.984375 11.71875 18.140625 8.90625 \nQ 21.296875 6.109375 26.703125 6.109375 \nQ 34.1875 6.109375 38.703125 11.40625 \nQ 43.21875 16.703125 43.21875 25.484375 \nL 43.21875 27.484375 \nz\nM 52.203125 31.203125 \nL 52.203125 0 \nL 43.21875 0 \nL 43.21875 8.296875 \nQ 40.140625 3.328125 35.546875 0.953125 \nQ 30.953125 -1.421875 24.3125 -1.421875 \nQ 15.921875 -1.421875 10.953125 3.296875 \nQ 6 8.015625 6 15.921875 \nQ 6 25.140625 12.171875 29.828125 \nQ 18.359375 34.515625 30.609375 34.515625 \nL 43.21875 34.515625 \nL 43.21875 35.40625 \nQ 43.21875 41.609375 39.140625 45 \nQ 35.0625 48.390625 27.6875 48.390625 \nQ 23 48.390625 18.546875 47.265625 \nQ 14.109375 46.140625 10.015625 43.890625 \nL 10.015625 52.203125 \nQ 14.9375 54.109375 19.578125 55.046875 \nQ 24.21875 56 28.609375 56 \nQ 40.484375 56 46.34375 49.84375 \nQ 52.203125 43.703125 52.203125 31.203125 \nz\n\" id=\"DejaVuSans-97\"/>\n      <path d=\"M 9.421875 75.984375 \nL 18.40625 75.984375 \nL 18.40625 0 \nL 9.421875 0 \nz\n\" id=\"DejaVuSans-108\"/>\n      <path d=\"M 44.28125 53.078125 \nL 44.28125 44.578125 \nQ 40.484375 46.53125 36.375 47.5 \nQ 32.28125 48.484375 27.875 48.484375 \nQ 21.1875 48.484375 17.84375 46.4375 \nQ 14.5 44.390625 14.5 40.28125 \nQ 14.5 37.15625 16.890625 35.375 \nQ 19.28125 33.59375 26.515625 31.984375 \nL 29.59375 31.296875 \nQ 39.15625 29.25 43.1875 25.515625 \nQ 47.21875 21.78125 47.21875 15.09375 \nQ 47.21875 7.46875 41.1875 3.015625 \nQ 35.15625 -1.421875 24.609375 -1.421875 \nQ 20.21875 -1.421875 15.453125 -0.5625 \nQ 10.6875 0.296875 5.421875 2 \nL 5.421875 11.28125 \nQ 10.40625 8.6875 15.234375 7.390625 \nQ 20.0625 6.109375 24.8125 6.109375 \nQ 31.15625 6.109375 34.5625 8.28125 \nQ 37.984375 10.453125 37.984375 14.40625 \nQ 37.984375 18.0625 35.515625 20.015625 \nQ 33.0625 21.96875 24.703125 23.78125 \nL 21.578125 24.515625 \nQ 13.234375 26.265625 9.515625 29.90625 \nQ 5.8125 33.546875 5.8125 39.890625 \nQ 5.8125 47.609375 11.28125 51.796875 \nQ 16.75 56 26.8125 56 \nQ 31.78125 56 36.171875 55.265625 \nQ 40.578125 54.546875 44.28125 53.078125 \nz\n\" id=\"DejaVuSans-115\"/>\n      <path d=\"M 19.671875 64.796875 \nL 19.671875 37.40625 \nL 32.078125 37.40625 \nQ 38.96875 37.40625 42.71875 40.96875 \nQ 46.484375 44.53125 46.484375 51.125 \nQ 46.484375 57.671875 42.71875 61.234375 \nQ 38.96875 64.796875 32.078125 64.796875 \nz\nM 9.8125 72.90625 \nL 32.078125 72.90625 \nQ 44.34375 72.90625 50.609375 67.359375 \nQ 56.890625 61.8125 56.890625 51.125 \nQ 56.890625 40.328125 50.609375 34.8125 \nQ 44.34375 29.296875 32.078125 29.296875 \nL 19.671875 29.296875 \nL 19.671875 0 \nL 9.8125 0 \nz\n\" id=\"DejaVuSans-80\"/>\n      <path d=\"M 30.609375 48.390625 \nQ 23.390625 48.390625 19.1875 42.75 \nQ 14.984375 37.109375 14.984375 27.296875 \nQ 14.984375 17.484375 19.15625 11.84375 \nQ 23.34375 6.203125 30.609375 6.203125 \nQ 37.796875 6.203125 41.984375 11.859375 \nQ 46.1875 17.53125 46.1875 27.296875 \nQ 46.1875 37.015625 41.984375 42.703125 \nQ 37.796875 48.390625 30.609375 48.390625 \nz\nM 30.609375 56 \nQ 42.328125 56 49.015625 48.375 \nQ 55.71875 40.765625 55.71875 27.296875 \nQ 55.71875 13.875 49.015625 6.21875 \nQ 42.328125 -1.421875 30.609375 -1.421875 \nQ 18.84375 -1.421875 12.171875 6.21875 \nQ 5.515625 13.875 5.515625 27.296875 \nQ 5.515625 40.765625 12.171875 48.375 \nQ 18.84375 56 30.609375 56 \nz\n\" id=\"DejaVuSans-111\"/>\n     </defs>\n     <use xlink:href=\"#DejaVuSans-70\"/>\n     <use x=\"48.394531\" xlink:href=\"#DejaVuSans-97\"/>\n     <use x=\"109.673828\" xlink:href=\"#DejaVuSans-108\"/>\n     <use x=\"137.457031\" xlink:href=\"#DejaVuSans-115\"/>\n     <use x=\"189.556641\" xlink:href=\"#DejaVuSans-101\"/>\n     <use x=\"251.080078\" xlink:href=\"#DejaVuSans-32\"/>\n     <use x=\"282.867188\" xlink:href=\"#DejaVuSans-80\"/>\n     <use x=\"339.544922\" xlink:href=\"#DejaVuSans-111\"/>\n     <use x=\"400.726562\" xlink:href=\"#DejaVuSans-115\"/>\n    </g>\n    <!-- 210 -->\n    <g style=\"fill:#ffffff;\" transform=\"translate(215.214375 64.319375)scale(0.1 -0.1)\">\n     <defs>\n      <path d=\"M 19.1875 8.296875 \nL 53.609375 8.296875 \nL 53.609375 0 \nL 7.328125 0 \nL 7.328125 8.296875 \nQ 12.9375 14.109375 22.625 23.890625 \nQ 32.328125 33.6875 34.8125 36.53125 \nQ 39.546875 41.84375 41.421875 45.53125 \nQ 43.3125 49.21875 43.3125 52.78125 \nQ 43.3125 58.59375 39.234375 62.25 \nQ 35.15625 65.921875 28.609375 65.921875 \nQ 23.96875 65.921875 18.8125 64.3125 \nQ 13.671875 62.703125 7.8125 59.421875 \nL 7.8125 69.390625 \nQ 13.765625 71.78125 18.9375 73 \nQ 24.125 74.21875 28.421875 74.21875 \nQ 39.75 74.21875 46.484375 68.546875 \nQ 53.21875 62.890625 53.21875 53.421875 \nQ 53.21875 48.921875 51.53125 44.890625 \nQ 49.859375 40.875 45.40625 35.40625 \nQ 44.1875 33.984375 37.640625 27.21875 \nQ 31.109375 20.453125 19.1875 8.296875 \nz\n\" id=\"DejaVuSans-50\"/>\n     </defs>\n     <use xlink:href=\"#DejaVuSans-50\"/>\n     <use x=\"63.623047\" xlink:href=\"#DejaVuSans-49\"/>\n     <use x=\"127.246094\" xlink:href=\"#DejaVuSans-48\"/>\n    </g>\n    <!-- 1.21% -->\n    <g style=\"fill:#ffffff;\" transform=\"translate(208.874531 75.517187)scale(0.1 -0.1)\">\n     <use xlink:href=\"#DejaVuSans-49\"/>\n     <use x=\"63.623047\" xlink:href=\"#DejaVuSans-46\"/>\n     <use x=\"95.410156\" xlink:href=\"#DejaVuSans-50\"/>\n     <use x=\"159.033203\" xlink:href=\"#DejaVuSans-49\"/>\n     <use x=\"222.65625\" xlink:href=\"#DejaVuSans-37\"/>\n    </g>\n   </g>\n   <g id=\"text_7\">\n    <!-- False Neg -->\n    <g style=\"fill:#ffffff;\" transform=\"translate(66.70375 161.841562)scale(0.1 -0.1)\">\n     <use xlink:href=\"#DejaVuSans-70\"/>\n     <use x=\"48.394531\" xlink:href=\"#DejaVuSans-97\"/>\n     <use x=\"109.673828\" xlink:href=\"#DejaVuSans-108\"/>\n     <use x=\"137.457031\" xlink:href=\"#DejaVuSans-115\"/>\n     <use x=\"189.556641\" xlink:href=\"#DejaVuSans-101\"/>\n     <use x=\"251.080078\" xlink:href=\"#DejaVuSans-32\"/>\n     <use x=\"282.867188\" xlink:href=\"#DejaVuSans-78\"/>\n     <use x=\"357.671875\" xlink:href=\"#DejaVuSans-101\"/>\n     <use x=\"419.195312\" xlink:href=\"#DejaVuSans-103\"/>\n    </g>\n    <!-- 1603 -->\n    <g style=\"fill:#ffffff;\" transform=\"translate(78.113125 173.039375)scale(0.1 -0.1)\">\n     <defs>\n      <path d=\"M 33.015625 40.375 \nQ 26.375 40.375 22.484375 35.828125 \nQ 18.609375 31.296875 18.609375 23.390625 \nQ 18.609375 15.53125 22.484375 10.953125 \nQ 26.375 6.390625 33.015625 6.390625 \nQ 39.65625 6.390625 43.53125 10.953125 \nQ 47.40625 15.53125 47.40625 23.390625 \nQ 47.40625 31.296875 43.53125 35.828125 \nQ 39.65625 40.375 33.015625 40.375 \nz\nM 52.59375 71.296875 \nL 52.59375 62.3125 \nQ 48.875 64.0625 45.09375 64.984375 \nQ 41.3125 65.921875 37.59375 65.921875 \nQ 27.828125 65.921875 22.671875 59.328125 \nQ 17.53125 52.734375 16.796875 39.40625 \nQ 19.671875 43.65625 24.015625 45.921875 \nQ 28.375 48.1875 33.59375 48.1875 \nQ 44.578125 48.1875 50.953125 41.515625 \nQ 57.328125 34.859375 57.328125 23.390625 \nQ 57.328125 12.15625 50.6875 5.359375 \nQ 44.046875 -1.421875 33.015625 -1.421875 \nQ 20.359375 -1.421875 13.671875 8.265625 \nQ 6.984375 17.96875 6.984375 36.375 \nQ 6.984375 53.65625 15.1875 63.9375 \nQ 23.390625 74.21875 37.203125 74.21875 \nQ 40.921875 74.21875 44.703125 73.484375 \nQ 48.484375 72.75 52.59375 71.296875 \nz\n\" id=\"DejaVuSans-54\"/>\n     </defs>\n     <use xlink:href=\"#DejaVuSans-49\"/>\n     <use x=\"63.623047\" xlink:href=\"#DejaVuSans-54\"/>\n     <use x=\"127.246094\" xlink:href=\"#DejaVuSans-48\"/>\n     <use x=\"190.869141\" xlink:href=\"#DejaVuSans-51\"/>\n    </g>\n    <!-- 9.20% -->\n    <g style=\"fill:#ffffff;\" transform=\"translate(74.954531 184.237187)scale(0.1 -0.1)\">\n     <defs>\n      <path d=\"M 10.984375 1.515625 \nL 10.984375 10.5 \nQ 14.703125 8.734375 18.5 7.8125 \nQ 22.3125 6.890625 25.984375 6.890625 \nQ 35.75 6.890625 40.890625 13.453125 \nQ 46.046875 20.015625 46.78125 33.40625 \nQ 43.953125 29.203125 39.59375 26.953125 \nQ 35.25 24.703125 29.984375 24.703125 \nQ 19.046875 24.703125 12.671875 31.3125 \nQ 6.296875 37.9375 6.296875 49.421875 \nQ 6.296875 60.640625 12.9375 67.421875 \nQ 19.578125 74.21875 30.609375 74.21875 \nQ 43.265625 74.21875 49.921875 64.515625 \nQ 56.59375 54.828125 56.59375 36.375 \nQ 56.59375 19.140625 48.40625 8.859375 \nQ 40.234375 -1.421875 26.421875 -1.421875 \nQ 22.703125 -1.421875 18.890625 -0.6875 \nQ 15.09375 0.046875 10.984375 1.515625 \nz\nM 30.609375 32.421875 \nQ 37.25 32.421875 41.125 36.953125 \nQ 45.015625 41.5 45.015625 49.421875 \nQ 45.015625 57.28125 41.125 61.84375 \nQ 37.25 66.40625 30.609375 66.40625 \nQ 23.96875 66.40625 20.09375 61.84375 \nQ 16.21875 57.28125 16.21875 49.421875 \nQ 16.21875 41.5 20.09375 36.953125 \nQ 23.96875 32.421875 30.609375 32.421875 \nz\n\" id=\"DejaVuSans-57\"/>\n     </defs>\n     <use xlink:href=\"#DejaVuSans-57\"/>\n     <use x=\"63.623047\" xlink:href=\"#DejaVuSans-46\"/>\n     <use x=\"95.410156\" xlink:href=\"#DejaVuSans-50\"/>\n     <use x=\"159.033203\" xlink:href=\"#DejaVuSans-48\"/>\n     <use x=\"222.65625\" xlink:href=\"#DejaVuSans-37\"/>\n    </g>\n   </g>\n   <g id=\"text_8\">\n    <!-- True Pos -->\n    <g style=\"fill:#ffffff;\" transform=\"translate(204.054219 161.841562)scale(0.1 -0.1)\">\n     <use xlink:href=\"#DejaVuSans-84\"/>\n     <use x=\"46.333984\" xlink:href=\"#DejaVuSans-114\"/>\n     <use x=\"87.447266\" xlink:href=\"#DejaVuSans-117\"/>\n     <use x=\"150.826172\" xlink:href=\"#DejaVuSans-101\"/>\n     <use x=\"212.349609\" xlink:href=\"#DejaVuSans-32\"/>\n     <use x=\"244.136719\" xlink:href=\"#DejaVuSans-80\"/>\n     <use x=\"300.814453\" xlink:href=\"#DejaVuSans-111\"/>\n     <use x=\"361.996094\" xlink:href=\"#DejaVuSans-115\"/>\n    </g>\n    <!-- 213 -->\n    <g style=\"fill:#ffffff;\" transform=\"translate(215.214375 173.039375)scale(0.1 -0.1)\">\n     <use xlink:href=\"#DejaVuSans-50\"/>\n     <use x=\"63.623047\" xlink:href=\"#DejaVuSans-49\"/>\n     <use x=\"127.246094\" xlink:href=\"#DejaVuSans-51\"/>\n    </g>\n    <!-- 1.22% -->\n    <g style=\"fill:#ffffff;\" transform=\"translate(208.874531 184.237187)scale(0.1 -0.1)\">\n     <use xlink:href=\"#DejaVuSans-49\"/>\n     <use x=\"63.623047\" xlink:href=\"#DejaVuSans-46\"/>\n     <use x=\"95.410156\" xlink:href=\"#DejaVuSans-50\"/>\n     <use x=\"159.033203\" xlink:href=\"#DejaVuSans-50\"/>\n     <use x=\"222.65625\" xlink:href=\"#DejaVuSans-37\"/>\n    </g>\n   </g>\n  </g>\n  <g id=\"axes_2\">\n   <g id=\"patch_3\">\n    <path clip-path=\"url(#pf22205ae88)\" d=\"M 308.458125 224.64 \nL 308.458125 223.790625 \nL 308.458125 8.049375 \nL 308.458125 7.2 \nL 319.330125 7.2 \nL 319.330125 8.049375 \nL 319.330125 223.790625 \nL 319.330125 224.64 \nz\n\" style=\"fill:#ffffff;stroke:#ffffff;stroke-linejoin:miter;stroke-width:0.01;\"/>\n   </g>\n   <image height=\"217\" id=\"image2ad9fde31c\" transform=\"scale(1 -1)translate(0 -217)\" width=\"11\" x=\"308\" xlink:href=\"data:image/png;base64,\niVBORw0KGgoAAAANSUhEUgAAAAsAAADZCAYAAAD2WsoCAAABX0lEQVR4nNWa2w0DMQjAeN0S3X/OXlfAH5ZovhEyhqS5qDnP543lmszcxtLgAMFdJWUurcAiGCgzsuFhHPHc6dk4MXWoQLEpNzKb7dZsaBgTaDb2y5wNrd0QY7/Mk58EjzZIzIbXbm9brUPp8HvqoA2AIarTmJGNI8wIg+1ukpkVuP48+FsbJJjY8DDmBgZrN2EehHHEhoYx7z61uAfrBgaykWExwwIBRjNmEgxEi+oSnAXTJLhIMMKAmdexMV1fKbNYIDjsGHM1sAGZAQZSJ9oYbTYQs6auwFWGYYQ3G14wuPeQxx6qjmUGN3OWGdwLJgiGx8wwwM8mzEyeLFBmGEze6zQbQZ4NPRtJbES3hIGa4nnO0QoU200yoz0IPnlVG6SDHgaywc461EFLHdzdGoZXIMrcaPhvMLN2o3nWNmzemDrRBinwxvBnP1Jmc/iJZ9Ju9C+LKwWydmtnnVXgD2R4KiPLLY7SAAAAAElFTkSuQmCC\" y=\"-7\"/>\n   <g id=\"matplotlib.axis_3\"/>\n   <g id=\"matplotlib.axis_4\">\n    <g id=\"ytick_3\">\n     <g id=\"line2d_5\">\n      <defs>\n       <path d=\"M 0 0 \nL 3.5 0 \n\" id=\"mb1c4968e7b\" style=\"stroke:#000000;stroke-width:0.8;\"/>\n      </defs>\n      <g>\n       <use style=\"stroke:#000000;stroke-width:0.8;\" x=\"319.330125\" xlink:href=\"#mb1c4968e7b\" y=\"199.018408\"/>\n      </g>\n     </g>\n     <g id=\"text_9\">\n      <!-- 2000 -->\n      <g transform=\"translate(326.330125 202.817627)scale(0.1 -0.1)\">\n       <use xlink:href=\"#DejaVuSans-50\"/>\n       <use x=\"63.623047\" xlink:href=\"#DejaVuSans-48\"/>\n       <use x=\"127.246094\" xlink:href=\"#DejaVuSans-48\"/>\n       <use x=\"190.869141\" xlink:href=\"#DejaVuSans-48\"/>\n      </g>\n     </g>\n    </g>\n    <g id=\"ytick_4\">\n     <g id=\"line2d_6\">\n      <g>\n       <use style=\"stroke:#000000;stroke-width:0.8;\" x=\"319.330125\" xlink:href=\"#mb1c4968e7b\" y=\"170.390931\"/>\n      </g>\n     </g>\n     <g id=\"text_10\">\n      <!-- 4000 -->\n      <g transform=\"translate(326.330125 174.19015)scale(0.1 -0.1)\">\n       <use xlink:href=\"#DejaVuSans-52\"/>\n       <use x=\"63.623047\" xlink:href=\"#DejaVuSans-48\"/>\n       <use x=\"127.246094\" xlink:href=\"#DejaVuSans-48\"/>\n       <use x=\"190.869141\" xlink:href=\"#DejaVuSans-48\"/>\n      </g>\n     </g>\n    </g>\n    <g id=\"ytick_5\">\n     <g id=\"line2d_7\">\n      <g>\n       <use style=\"stroke:#000000;stroke-width:0.8;\" x=\"319.330125\" xlink:href=\"#mb1c4968e7b\" y=\"141.763455\"/>\n      </g>\n     </g>\n     <g id=\"text_11\">\n      <!-- 6000 -->\n      <g transform=\"translate(326.330125 145.562673)scale(0.1 -0.1)\">\n       <use xlink:href=\"#DejaVuSans-54\"/>\n       <use x=\"63.623047\" xlink:href=\"#DejaVuSans-48\"/>\n       <use x=\"127.246094\" xlink:href=\"#DejaVuSans-48\"/>\n       <use x=\"190.869141\" xlink:href=\"#DejaVuSans-48\"/>\n      </g>\n     </g>\n    </g>\n    <g id=\"ytick_6\">\n     <g id=\"line2d_8\">\n      <g>\n       <use style=\"stroke:#000000;stroke-width:0.8;\" x=\"319.330125\" xlink:href=\"#mb1c4968e7b\" y=\"113.135978\"/>\n      </g>\n     </g>\n     <g id=\"text_12\">\n      <!-- 8000 -->\n      <g transform=\"translate(326.330125 116.935197)scale(0.1 -0.1)\">\n       <use xlink:href=\"#DejaVuSans-56\"/>\n       <use x=\"63.623047\" xlink:href=\"#DejaVuSans-48\"/>\n       <use x=\"127.246094\" xlink:href=\"#DejaVuSans-48\"/>\n       <use x=\"190.869141\" xlink:href=\"#DejaVuSans-48\"/>\n      </g>\n     </g>\n    </g>\n    <g id=\"ytick_7\">\n     <g id=\"line2d_9\">\n      <g>\n       <use style=\"stroke:#000000;stroke-width:0.8;\" x=\"319.330125\" xlink:href=\"#mb1c4968e7b\" y=\"84.508501\"/>\n      </g>\n     </g>\n     <g id=\"text_13\">\n      <!-- 10000 -->\n      <g transform=\"translate(326.330125 88.30772)scale(0.1 -0.1)\">\n       <use xlink:href=\"#DejaVuSans-49\"/>\n       <use x=\"63.623047\" xlink:href=\"#DejaVuSans-48\"/>\n       <use x=\"127.246094\" xlink:href=\"#DejaVuSans-48\"/>\n       <use x=\"190.869141\" xlink:href=\"#DejaVuSans-48\"/>\n       <use x=\"254.492188\" xlink:href=\"#DejaVuSans-48\"/>\n      </g>\n     </g>\n    </g>\n    <g id=\"ytick_8\">\n     <g id=\"line2d_10\">\n      <g>\n       <use style=\"stroke:#000000;stroke-width:0.8;\" x=\"319.330125\" xlink:href=\"#mb1c4968e7b\" y=\"55.881024\"/>\n      </g>\n     </g>\n     <g id=\"text_14\">\n      <!-- 12000 -->\n      <g transform=\"translate(326.330125 59.680243)scale(0.1 -0.1)\">\n       <use xlink:href=\"#DejaVuSans-49\"/>\n       <use x=\"63.623047\" xlink:href=\"#DejaVuSans-50\"/>\n       <use x=\"127.246094\" xlink:href=\"#DejaVuSans-48\"/>\n       <use x=\"190.869141\" xlink:href=\"#DejaVuSans-48\"/>\n       <use x=\"254.492188\" xlink:href=\"#DejaVuSans-48\"/>\n      </g>\n     </g>\n    </g>\n    <g id=\"ytick_9\">\n     <g id=\"line2d_11\">\n      <g>\n       <use style=\"stroke:#000000;stroke-width:0.8;\" x=\"319.330125\" xlink:href=\"#mb1c4968e7b\" y=\"27.253547\"/>\n      </g>\n     </g>\n     <g id=\"text_15\">\n      <!-- 14000 -->\n      <g transform=\"translate(326.330125 31.052766)scale(0.1 -0.1)\">\n       <use xlink:href=\"#DejaVuSans-49\"/>\n       <use x=\"63.623047\" xlink:href=\"#DejaVuSans-52\"/>\n       <use x=\"127.246094\" xlink:href=\"#DejaVuSans-48\"/>\n       <use x=\"190.869141\" xlink:href=\"#DejaVuSans-48\"/>\n       <use x=\"254.492188\" xlink:href=\"#DejaVuSans-48\"/>\n      </g>\n     </g>\n    </g>\n   </g>\n   <g id=\"patch_4\">\n    <path d=\"M 308.458125 224.64 \nL 308.458125 223.790625 \nL 308.458125 8.049375 \nL 308.458125 7.2 \nL 319.330125 7.2 \nL 319.330125 8.049375 \nL 319.330125 223.790625 \nL 319.330125 224.64 \nz\n\" style=\"fill:none;\"/>\n   </g>\n  </g>\n </g>\n <defs>\n  <clipPath id=\"p73b32d5141\">\n   <rect height=\"217.44\" width=\"267.84\" x=\"23.878125\" y=\"7.2\"/>\n  </clipPath>\n  <clipPath id=\"pf22205ae88\">\n   <rect height=\"217.44\" width=\"10.872\" x=\"308.458125\" y=\"7.2\"/>\n  </clipPath>\n </defs>\n</svg>\n",
      "image/png": "[encoded data removed]"
     },
     "metadata": {
      "needs_background": "light"
     }
    }
   ],
   "source": [
    "xgb_predictions = test_model.predict(valid_X)\n",
    "\n",
    "xgb_cf_matrix = confusion_matrix(valid_y, xgb_predictions)\n",
    "group_names = ['True Neg','False Pos','False Neg','True Pos']\n",
    "group_counts = ['{0:0.0f}'.format(value) for value in xgb_cf_matrix.flatten()]\n",
    "group_percentages = ['{0:.2%}'.format(value) for value in xgb_cf_matrix.flatten()/np.sum(xgb_cf_matrix)]\n",
    "labels = [f'{_1}\\n{_2}\\n{_3}' for _1, _2, _3 in zip(group_names,group_counts,group_percentages)]\n",
    "labels = np.asarray(labels).reshape(2,2)\n",
    "sns.heatmap(xgb_cf_matrix, annot=labels, fmt='')"
   ]
  },
  {
   "source": [
    "# Simulate model with the past\n",
    "\n",
    "The goal of this section is to run the model through a few months of use with imaginary money and see how it performs"
   ],
   "cell_type": "markdown",
   "metadata": {}
  },
  {
   "cell_type": "code",
   "execution_count": 91,
   "metadata": {},
   "outputs": [],
   "source": [
    "class MyMoney:\n",
    "    \"\"\"\n",
    "    This class serves to manage the portfolio/money aspect of the simulation.\n",
    "    \"\"\"\n",
    "    def __init__(self, starting_funds):\n",
    "        self.funds = starting_funds\n",
    "        self.portfolio = {}\n",
    "        self.chunk_pct = .2\n",
    "    \n",
    "    def add_to_portfolio(self, symbol, amount, date_added):\n",
    "        if symbol not in self.portfolio.keys():\n",
    "            self.portfolio[symbol] = [amount, date_added]\n",
    "            self.funds = self.funds - amount\n",
    "        else:\n",
    "            self.portfolio[symbol] = [self.portfolio[symbol][0]+ amount, date_added]\n",
    "            self.funds = self.funds - amount\n",
    "\n",
    "    def sell_from_portfolio(self, symbol, pct_change):\n",
    "        self.funds += (self.portfolio[symbol][0] + (self.portfolio[symbol][0]*pct_change))\n",
    "        print('SOLD!', symbol)\n",
    "        self.portfolio.pop(symbol)\n",
    "\n",
    "    def total_portfolio(self, _date):\n",
    "        total_amount = self.funds\n",
    "        _keys = list(self.portfolio.keys())\n",
    "        if len(_keys) == 0:\n",
    "            return self.funds\n",
    "        for i in _keys:\n",
    "            date_bought = self.portfolio[i][1]\n",
    "            date_sold = _date\n",
    "            temp = df[df['Symbol']==i]\n",
    "            buy_price = float(temp[temp['Date_Only']==date_bought]['Open'])\n",
    "            sell_price = float(temp[temp['Date_Only']==date_sold]['Open'])\n",
    "            pct_change = (sell_price-buy_price)/buy_price\n",
    "            total_amount+= self.portfolio[i][0]+ (self.portfolio[i][0]*pct_change)\n",
    "        return total_amount\n",
    "    \n",
    "    def get_amount(self, _date):\n",
    "        want_to_spend = .2 * self.total_portfolio(_date)\n",
    "        if want_to_spend< self.funds:\n",
    "            return want_to_spend\n",
    "        elif self.funds < want_to_spend and self.funds != 0:\n",
    "            return self.funds\n",
    "        else:\n",
    "            return False"
   ]
  },
  {
   "cell_type": "code",
   "execution_count": 106,
   "metadata": {},
   "outputs": [],
   "source": [
    "class StockSimulator:\n",
    "    def __init__(self, start_date, symbols, model):\n",
    "        self._date = start_date\n",
    "        self.end_date = date(2020, 9, 1)\n",
    "        self.symbols = symbols\n",
    "        self.money = MyMoney(1000)\n",
    "        self._LOG = pd.DataFrame()\n",
    "        self.TEMP_TRACKER_PRICE = []\n",
    "        self.TEMP_TRACKER_DATE = []\n",
    "        self.model = model\n",
    "        self.input_symbols = ['Volume', 'Dividends', 'Stock Splits', 'Pct_Change', 'Three_Day_Movement', 'Five_Day_Movement']\n",
    "    \n",
    "    def collect_inputs(self): #SOMETHING WRONG HERE\n",
    "        inputs = []\n",
    "        for sym in self.symbols:\n",
    "            temp = df[df['Symbol']==sym]\n",
    "            temp = temp[temp['Date_Only']==self._date]\n",
    "            temp = temp[self.input_symbols]\n",
    "            inputs.append([sym,temp])\n",
    "        return inputs\n",
    "\n",
    "    def make_predictions(self, model_inputs):\n",
    "        if model_inputs.empty:\n",
    "            return False\n",
    "        prediction = self.model.predict(model_inputs)\n",
    "        if prediction != 0 and float(model_inputs['Pct_Change'])>0: \n",
    "            return True\n",
    "        else:\n",
    "            return False\n",
    "\n",
    "    def transaction(self, symbol):\n",
    "        amount = self.money.get_amount(self._date)\n",
    "        if amount:\n",
    "            print('Bought', symbol)\n",
    "            self.money.add_to_portfolio(symbol, amount, self._date)\n",
    "\n",
    "    def auto_sell(self):\n",
    "        _keys = list(self.money.portfolio.keys())\n",
    "        for i in _keys:\n",
    "            if self.money.portfolio[i][1]+timedelta(days=2)<=self._date:\n",
    "                if self._date in df['Date_Only'].unique():\n",
    "                    date_bought = self.money.portfolio[i][1]\n",
    "                    date_sold = self._date\n",
    "                    temp = df[df['Symbol']==i]\n",
    "                    buy_price = float(temp[temp['Date_Only']==date_bought]['Open'])\n",
    "                    sell_price = float(temp[temp['Date_Only']==date_sold]['Open'])\n",
    "                    change = (sell_price-buy_price)/buy_price\n",
    "                    self.money.sell_from_portfolio(i, change)\n",
    "\n",
    "    def RUN_SIM(self): #TODO this could use some serious cleanup for naming\n",
    "        while self._date < self.end_date:\n",
    "            if self._date in df['Date_Only'].unique():\n",
    "                days_inputs = None\n",
    "                days_inputs = self.collect_inputs()\n",
    "                daily_predictions=[]\n",
    "                for i in days_inputs:\n",
    "                    daily_predictions.append([i[0], self.make_predictions(i[1])])\n",
    "                for i in daily_predictions:\n",
    "                    if i[1]:\n",
    "                        self.transaction(i[0])\n",
    "                self.auto_sell()\n",
    "                print(self._date, self.money.total_portfolio(self._date))\n",
    "                self.TEMP_TRACKER_PRICE.append(self.money.total_portfolio(self._date))\n",
    "                self.TEMP_TRACKER_DATE.append(self._date)\n",
    "            self._date  = self._date + timedelta(days=1)\n"
   ]
  },
  {
   "cell_type": "code",
   "execution_count": 122,
   "metadata": {
    "tags": []
   },
   "outputs": [
    {
     "output_type": "stream",
     "name": "stdout",
     "text": "Sim Starting...\n2020-01-02 1000\n2020-01-03 1000\n2020-01-06 1000\nBought PLUG\nBought CPRX\n2020-01-07 1000.0\n2020-01-08 998.5269086357948\nSOLD! PLUG\nSOLD! CPRX\n2020-01-09 1031.7521902377973\nBought LK\n2020-01-10 1031.7521902377973\nSOLD! LK\n2020-01-13 1037.9104686407088\nBought CGC\n2020-01-14 1037.9104686407088\nBought CGC\nBought CRON\n2020-01-15 1037.9104686407088\n2020-01-16 1074.6787116750738\nSOLD! CGC\nSOLD! CRON\n2020-01-17 1043.4849352216995\nBought BYND\n2020-01-21 1043.4849352216995\nBought FCEL\n2020-01-22 1069.211917783891\nBought CRON\nSOLD! BYND\n2020-01-23 1035.1611164299268\nSOLD! FCEL\n2020-01-24 1032.998877165255\nSOLD! CRON\n2020-01-27 1000.2041719047179\n2020-01-28 1000.2041719047179\n2020-01-29 1000.2041719047179\n2020-01-30 1000.2041719047179\n2020-01-31 1000.2041719047179\n2020-02-03 1000.2041719047179\nBought TSLA\nBought NIO\n2020-02-04 1000.2041719047179\nBought INO\nBought NIO\n2020-02-05 986.6785613802915\nSOLD! TSLA\n2020-02-06 946.0745619112988\nSOLD! NIO\nSOLD! INO\n2020-02-07 918.9229073339909\n2020-02-10 918.9229073339909\nBought LK\nBought WORK\n2020-02-11 918.9229073339909\n2020-02-12 933.1077786639191\nBought ACB\nSOLD! LK\nSOLD! WORK\n2020-02-13 925.6604276321627\n2020-02-14 945.0798771629075\nSOLD! ACB\n2020-02-18 942.4906172254748\nBought LK\nBought FCEL\n2020-02-19 942.4906172254748\n2020-02-20 954.5773643681903\nBought INO\nSOLD! LK\nSOLD! FCEL\n2020-02-21 933.2563584189904\nSOLD! INO\n2020-02-24 951.7713639211366\n2020-02-25 951.7713639211366\nBought PLUG\nBought CRON\n2020-02-26 951.7713639211366\n2020-02-27 928.6718338857693\nSOLD! PLUG\nSOLD! CRON\n2020-02-28 902.070676651511\n2020-03-02 902.070676651511\nBought INO\nBought MRNA\n2020-03-03 902.070676651511\nBought GRPN\nBought SAVE\n2020-03-04 1020.2910137784141\nSOLD! INO\nSOLD! MRNA\n2020-03-05 994.0066680934187\nBought ERI\nSOLD! GRPN\nSOLD! SAVE\n2020-03-06 939.6776208412332\nSOLD! ERI\n2020-03-09 915.9944586156296\nBought NIO\n2020-03-10 915.9944586156296\n2020-03-11 911.2701318949759\nSOLD! NIO\n2020-03-12 893.4226753947287\n2020-03-13 893.4226753947287\n2020-03-16 893.4226753947287\nBought GPRO\nBought PTON\n2020-03-17 893.4226753947287\nBought CGC\nBought WORK\nBought PTON\n2020-03-18 913.8437651180368\nSOLD! GPRO\n2020-03-19 927.4614635571664\nBought CRBP\nSOLD! PTON\nSOLD! CGC\nSOLD! WORK\n2020-03-20 993.2603531098882\nBought TSLA\nBought PENN\nBought WORK\nSOLD! CRBP\n2020-03-23 1003.148943854283\nBought GPRO\nBought KOS\n2020-03-24 1124.4208800291415\nSOLD! TSLA\nSOLD! PENN\nSOLD! WORK\n2020-03-25 1238.3302567077826\nBought ZM\nSOLD! GPRO\nSOLD! KOS\n2020-03-26 1272.3001811997844\nBought TLRY\n2020-03-27 1281.6991391962642\nSOLD! ZM\nSOLD! TLRY\n2020-03-30 1289.3196960228051\nBought CCL\n2020-03-31 1289.3196960228051\n2020-04-01 1328.1759060399309\nSOLD! CCL\n2020-04-02 1220.084994537745\nBought CPE\n2020-04-03 1220.084994537745\nSOLD! CPE\n2020-04-06 1220.084994537745\nBought NRZ\n2020-04-07 1220.084994537745\nBought IVR\n2020-04-08 1253.1830449214817\nSOLD! NRZ\n2020-04-09 1398.5183450733737\nBought TSLA\nBought AUY\nSOLD! IVR\n2020-04-13 1396.6046896614544\nBought TSLA\nBought APHA\nBought TXMD\n2020-04-14 1434.4913062426958\nSOLD! AUY\n2020-04-15 1498.949340822709\nSOLD! TSLA\nSOLD! APHA\nSOLD! TXMD\n2020-04-16 1444.908482851503\nBought ROKU\n2020-04-17 1444.9084828515033\nBought KOS\nSOLD! ROKU\n2020-04-20 1454.6518016960872\nBought INO\nBought HAL\nBought KOS\n2020-04-21 1454.6518016960872\n2020-04-22 1584.2081166883527\nBought KOS\nSOLD! INO\nSOLD! HAL\n2020-04-23 1620.0192602730074\nBought SPCE\nBought BYND\n2020-04-24 1706.504921937484\nSOLD! KOS\nSOLD! SPCE\nSOLD! BYND\n2020-04-27 1632.9708438903406\n2020-04-28 1632.9708438903406\nBought ATVI\n2020-04-29 1632.9708438903408\nBought NCLH\n2020-04-30 1636.3818819742269\nSOLD! ATVI\n2020-05-01 1608.2568161452637\nSOLD! NCLH\n2020-05-04 1554.1815578999992\nBought UCO\n2020-05-05 1554.1815578999992\n2020-05-06 1565.9293986722298\nBought GE\nSOLD! UCO\n2020-05-07 1583.2622785001108\n2020-05-08 1591.1131658315162\nBought PENN\nSOLD! GE\n2020-05-11 1592.6833432977974\nBought INO\n2020-05-12 1619.8553473102556\nBought MRNA\nSOLD! PENN\n2020-05-13 1649.8074670408587\nBought AMC\nBought WFC\nBought MU\nSOLD! INO\n2020-05-14 1662.1330748395005\nSOLD! MRNA\n2020-05-15 1698.9939746130926\nBought NCLH\nBought HAL\nSOLD! AMC\nSOLD! WFC\nSOLD! MU\n2020-05-18 1754.5409478276933\nBought BYND\nBought ERI\nBought IVR\n2020-05-19 1814.0835875783873\nSOLD! NCLH\nSOLD! HAL\n2020-05-20 1848.8568540799238\nBought PENN\nSOLD! BYND\nSOLD! ERI\nSOLD! IVR\n2020-05-21 1855.2308692268898\nBought ACB\nBought TLRY\n2020-05-22 1885.5007859562465\nSOLD! PENN\nSOLD! ACB\nSOLD! TLRY\n2020-05-26 1933.3817454845284\nBought NIO\n2020-05-27 1933.3817454845284\n2020-05-28 1930.4889049675942\nBought CGC\nSOLD! NIO\n2020-05-29 1915.0604222106103\nSOLD! CGC\n2020-06-01 1908.076084200195\nBought SNAP\n2020-06-02 1908.076084200195\nBought SPCE\nBought OXY\n2020-06-03 1911.375910591996\nBought F\nBought UAL\nSOLD! SNAP\n2020-06-04 1919.7059306620515\nBought BA\nSOLD! SPCE\nSOLD! OXY\n2020-06-05 2193.49455979842\nBought NCLH\nBought MRO\nSOLD! F\nSOLD! UAL\nSOLD! BA\n2020-06-08 2211.9093396231387\nBought CGC\nBought APHA\n2020-06-09 2185.153963650173\nBought INO\nBought CRON\nSOLD! NCLH\nSOLD! MRO\n2020-06-10 2156.945860897732\nBought F\nBought NIO\nSOLD! CGC\nSOLD! APHA\n2020-06-11 2074.8588295055524\nSOLD! INO\nSOLD! CRON\n2020-06-12 2118.661790243057\nBought UAL\nBought NIO\nBought SPCE\nSOLD! F\n2020-06-15 2068.173569597426\n2020-06-16 2374.0887183592604\nSOLD! NIO\nSOLD! UAL\nSOLD! SPCE\n2020-06-17 2249.6383777885044\n2020-06-18 2249.6383777885044\n2020-06-19 2249.6383777885044\n2020-06-22 2249.6383777885044\n2020-06-23 2249.6383777885044\nBought INO\n2020-06-24 2249.6383777885044\n2020-06-25 2324.287318534289\nSOLD! INO\n2020-06-26 2443.278136889287\nBought AAL\nBought SAVE\n2020-06-29 2443.278136889287\n2020-06-30 2499.8472849796776\nBought LK\nBought SIRI\nSOLD! AAL\nSOLD! SAVE\n2020-07-01 2531.8593659990397\nBought KOS\n2020-07-02 2612.2389028031666\nSOLD! LK\nSOLD! SIRI\nSOLD! KOS\n2020-07-06 2649.448056503954\n2020-07-07 2649.448056503954\nBought MGM\nBought ET\n2020-07-08 2649.448056503954\n2020-07-09 2675.343247139153\nSOLD! MGM\nSOLD! ET\n2020-07-10 2629.9835336297606\n2020-07-13 2629.9835336297606\nBought PLUG\nBought TWTR\nBought MRNA\nBought FCEL\n2020-07-14 2629.9835336297606\nBought VSLR\n2020-07-15 2810.187685638723\nSOLD! PLUG\nSOLD! TWTR\nSOLD! MRNA\nSOLD! FCEL\n2020-07-16 2753.2484682373192\nSOLD! VSLR\n2020-07-17 2765.1171118762636\n2020-07-20 2765.1171118762636\n2020-07-21 2765.1171118762636\n2020-07-22 2765.1171118762636\n2020-07-23 2765.1171118762636\n2020-07-24 2765.1171118762636\n2020-07-27 2765.1171118762636\nBought APHA\nBought ERI\n2020-07-28 2765.1171118762636\n2020-07-29 2750.0712044048882\nSOLD! APHA\nSOLD! ERI\n2020-07-30 2737.3808107794857\n2020-07-31 2737.3808107794857\n2020-08-03 2737.3808107794857\nBought KOS\n2020-08-04 2737.3808107794857\n2020-08-05 2793.3272799049055\nSOLD! KOS\n2020-08-06 2781.3387508066016\n2020-08-07 2781.3387508066016\nBought AAL\nBought CCL\nBought CRON\n2020-08-10 2781.3387508066016\nBought GM\n2020-08-11 2941.6304179091508\nSOLD! AAL\nSOLD! CCL\nSOLD! CRON\n2020-08-12 2891.9596847595794\nBought AAL\nBought INO\nBought SPCE\nSOLD! GM\n2020-08-13 2865.922070944577\nBought OXY\n2020-08-14 2935.0350633767716\nSOLD! AAL\nSOLD! INO\nSOLD! SPCE\nSOLD! OXY\n2020-08-17 2942.4935376272733\n2020-08-18 2942.4935376272733\n2020-08-19 2942.4935376272733\n2020-08-20 2942.4935376272733\nBought TSLA\n2020-08-21 2942.4935376272733\nSOLD! TSLA\n2020-08-24 2965.964411621014\nBought DAL\nBought SNAP\n2020-08-25 2965.964411621014\n2020-08-26 2973.25775122203\nSOLD! DAL\nSOLD! SNAP\n2020-08-27 2999.0100801803474\n2020-08-28 2999.0100801803474\n2020-08-31 2999.0100801803474\n"
    }
   ],
   "source": [
    "sim = StockSimulator(date(2020, 1, 1), symbols, test_model)\n",
    "print('Sim Starting...')\n",
    "sim.RUN_SIM()"
   ]
  },
  {
   "cell_type": "code",
   "execution_count": 123,
   "metadata": {},
   "outputs": [
    {
     "output_type": "display_data",
     "data": {
      "application/vnd.plotly.v1+json": {
       "config": {
        "plotlyServerURL": "https://plot.ly"
       },
       "data": [
        {
         "hovertemplate": "X=%{x}<br>Y=%{y}<extra></extra>",
         "legendgroup": "",
         "marker": {
          "color": "#636efa",
          "symbol": "circle"
         },
         "mode": "markers",
         "name": "",
         "orientation": "v",
         "showlegend": false,
         "type": "scatter",
         "x": [
          "2020-01-02",
          "2020-01-03",
          "2020-01-06",
          "2020-01-07",
          "2020-01-08",
          "2020-01-09",
          "2020-01-10",
          "2020-01-13",
          "2020-01-14",
          "2020-01-15",
          "2020-01-16",
          "2020-01-17",
          "2020-01-21",
          "2020-01-22",
          "2020-01-23",
          "2020-01-24",
          "2020-01-27",
          "2020-01-28",
          "2020-01-29",
          "2020-01-30",
          "2020-01-31",
          "2020-02-03",
          "2020-02-04",
          "2020-02-05",
          "2020-02-06",
          "2020-02-07",
          "2020-02-10",
          "2020-02-11",
          "2020-02-12",
          "2020-02-13",
          "2020-02-14",
          "2020-02-18",
          "2020-02-19",
          "2020-02-20",
          "2020-02-21",
          "2020-02-24",
          "2020-02-25",
          "2020-02-26",
          "2020-02-27",
          "2020-02-28",
          "2020-03-02",
          "2020-03-03",
          "2020-03-04",
          "2020-03-05",
          "2020-03-06",
          "2020-03-09",
          "2020-03-10",
          "2020-03-11",
          "2020-03-12",
          "2020-03-13",
          "2020-03-16",
          "2020-03-17",
          "2020-03-18",
          "2020-03-19",
          "2020-03-20",
          "2020-03-23",
          "2020-03-24",
          "2020-03-25",
          "2020-03-26",
          "2020-03-27",
          "2020-03-30",
          "2020-03-31",
          "2020-04-01",
          "2020-04-02",
          "2020-04-03",
          "2020-04-06",
          "2020-04-07",
          "2020-04-08",
          "2020-04-09",
          "2020-04-13",
          "2020-04-14",
          "2020-04-15",
          "2020-04-16",
          "2020-04-17",
          "2020-04-20",
          "2020-04-21",
          "2020-04-22",
          "2020-04-23",
          "2020-04-24",
          "2020-04-27",
          "2020-04-28",
          "2020-04-29",
          "2020-04-30",
          "2020-05-01",
          "2020-05-04",
          "2020-05-05",
          "2020-05-06",
          "2020-05-07",
          "2020-05-08",
          "2020-05-11",
          "2020-05-12",
          "2020-05-13",
          "2020-05-14",
          "2020-05-15",
          "2020-05-18",
          "2020-05-19",
          "2020-05-20",
          "2020-05-21",
          "2020-05-22",
          "2020-05-26",
          "2020-05-27",
          "2020-05-28",
          "2020-05-29",
          "2020-06-01",
          "2020-06-02",
          "2020-06-03",
          "2020-06-04",
          "2020-06-05",
          "2020-06-08",
          "2020-06-09",
          "2020-06-10",
          "2020-06-11",
          "2020-06-12",
          "2020-06-15",
          "2020-06-16",
          "2020-06-17",
          "2020-06-18",
          "2020-06-19",
          "2020-06-22",
          "2020-06-23",
          "2020-06-24",
          "2020-06-25",
          "2020-06-26",
          "2020-06-29",
          "2020-06-30",
          "2020-07-01",
          "2020-07-02",
          "2020-07-06",
          "2020-07-07",
          "2020-07-08",
          "2020-07-09",
          "2020-07-10",
          "2020-07-13",
          "2020-07-14",
          "2020-07-15",
          "2020-07-16",
          "2020-07-17",
          "2020-07-20",
          "2020-07-21",
          "2020-07-22",
          "2020-07-23",
          "2020-07-24",
          "2020-07-27",
          "2020-07-28",
          "2020-07-29",
          "2020-07-30",
          "2020-07-31",
          "2020-08-03",
          "2020-08-04",
          "2020-08-05",
          "2020-08-06",
          "2020-08-07",
          "2020-08-10",
          "2020-08-11",
          "2020-08-12",
          "2020-08-13",
          "2020-08-14",
          "2020-08-17",
          "2020-08-18",
          "2020-08-19",
          "2020-08-20",
          "2020-08-21",
          "2020-08-24",
          "2020-08-25",
          "2020-08-26",
          "2020-08-27",
          "2020-08-28",
          "2020-08-31"
         ],
         "xaxis": "x",
         "y": [
          1000,
          1000,
          1000,
          1000,
          998.5269086357948,
          1031.7521902377973,
          1031.7521902377973,
          1037.9104686407088,
          1037.9104686407088,
          1037.9104686407088,
          1074.6787116750738,
          1043.4849352216995,
          1043.4849352216995,
          1069.211917783891,
          1035.1611164299268,
          1032.998877165255,
          1000.2041719047179,
          1000.2041719047179,
          1000.2041719047179,
          1000.2041719047179,
          1000.2041719047179,
          1000.2041719047179,
          1000.2041719047179,
          986.6785613802915,
          946.0745619112988,
          918.9229073339909,
          918.9229073339909,
          918.9229073339909,
          933.1077786639191,
          925.6604276321627,
          945.0798771629075,
          942.4906172254748,
          942.4906172254748,
          954.5773643681903,
          933.2563584189904,
          951.7713639211366,
          951.7713639211366,
          951.7713639211366,
          928.6718338857693,
          902.070676651511,
          902.070676651511,
          902.070676651511,
          1020.2910137784141,
          994.0066680934187,
          939.6776208412332,
          915.9944586156296,
          915.9944586156296,
          911.2701318949759,
          893.4226753947287,
          893.4226753947287,
          893.4226753947287,
          893.4226753947287,
          913.8437651180368,
          927.4614635571664,
          993.2603531098882,
          1003.148943854283,
          1124.4208800291415,
          1238.3302567077826,
          1272.3001811997844,
          1281.6991391962642,
          1289.3196960228051,
          1289.3196960228051,
          1328.1759060399309,
          1220.084994537745,
          1220.084994537745,
          1220.084994537745,
          1220.084994537745,
          1253.1830449214817,
          1398.5183450733737,
          1396.6046896614544,
          1434.4913062426958,
          1498.949340822709,
          1444.908482851503,
          1444.9084828515033,
          1454.6518016960872,
          1454.6518016960872,
          1584.2081166883527,
          1620.0192602730074,
          1706.504921937484,
          1632.9708438903406,
          1632.9708438903406,
          1632.9708438903408,
          1636.3818819742269,
          1608.2568161452637,
          1554.1815578999992,
          1554.1815578999992,
          1565.9293986722298,
          1583.2622785001108,
          1591.1131658315162,
          1592.6833432977974,
          1619.8553473102556,
          1649.8074670408587,
          1662.1330748395005,
          1698.9939746130926,
          1754.5409478276933,
          1814.0835875783873,
          1848.8568540799238,
          1855.2308692268898,
          1885.5007859562465,
          1933.3817454845284,
          1933.3817454845284,
          1930.4889049675942,
          1915.0604222106103,
          1908.076084200195,
          1908.076084200195,
          1911.375910591996,
          1919.7059306620515,
          2193.49455979842,
          2211.9093396231387,
          2185.153963650173,
          2156.945860897732,
          2074.8588295055524,
          2118.661790243057,
          2068.173569597426,
          2374.0887183592604,
          2249.6383777885044,
          2249.6383777885044,
          2249.6383777885044,
          2249.6383777885044,
          2249.6383777885044,
          2249.6383777885044,
          2324.287318534289,
          2443.278136889287,
          2443.278136889287,
          2499.8472849796776,
          2531.8593659990397,
          2612.2389028031666,
          2649.448056503954,
          2649.448056503954,
          2649.448056503954,
          2675.343247139153,
          2629.9835336297606,
          2629.9835336297606,
          2629.9835336297606,
          2810.187685638723,
          2753.2484682373192,
          2765.1171118762636,
          2765.1171118762636,
          2765.1171118762636,
          2765.1171118762636,
          2765.1171118762636,
          2765.1171118762636,
          2765.1171118762636,
          2765.1171118762636,
          2750.0712044048882,
          2737.3808107794857,
          2737.3808107794857,
          2737.3808107794857,
          2737.3808107794857,
          2793.3272799049055,
          2781.3387508066016,
          2781.3387508066016,
          2781.3387508066016,
          2941.6304179091508,
          2891.9596847595794,
          2865.922070944577,
          2935.0350633767716,
          2942.4935376272733,
          2942.4935376272733,
          2942.4935376272733,
          2942.4935376272733,
          2942.4935376272733,
          2965.964411621014,
          2965.964411621014,
          2973.25775122203,
          2999.0100801803474,
          2999.0100801803474,
          2999.0100801803474
         ],
         "yaxis": "y"
        }
       ],
       "layout": {
        "legend": {
         "tracegroupgap": 0
        },
        "margin": {
         "t": 60
        },
        "template": {
         "data": {
          "bar": [
           {
            "error_x": {
             "color": "#2a3f5f"
            },
            "error_y": {
             "color": "#2a3f5f"
            },
            "marker": {
             "line": {
              "color": "#E5ECF6",
              "width": 0.5
             }
            },
            "type": "bar"
           }
          ],
          "barpolar": [
           {
            "marker": {
             "line": {
              "color": "#E5ECF6",
              "width": 0.5
             }
            },
            "type": "barpolar"
           }
          ],
          "carpet": [
           {
            "aaxis": {
             "endlinecolor": "#2a3f5f",
             "gridcolor": "white",
             "linecolor": "white",
             "minorgridcolor": "white",
             "startlinecolor": "#2a3f5f"
            },
            "baxis": {
             "endlinecolor": "#2a3f5f",
             "gridcolor": "white",
             "linecolor": "white",
             "minorgridcolor": "white",
             "startlinecolor": "#2a3f5f"
            },
            "type": "carpet"
           }
          ],
          "choropleth": [
           {
            "colorbar": {
             "outlinewidth": 0,
             "ticks": ""
            },
            "type": "choropleth"
           }
          ],
          "contour": [
           {
            "colorbar": {
             "outlinewidth": 0,
             "ticks": ""
            },
            "colorscale": [
             [
              0,
              "#0d0887"
             ],
             [
              0.1111111111111111,
              "#46039f"
             ],
             [
              0.2222222222222222,
              "#7201a8"
             ],
             [
              0.3333333333333333,
              "#9c179e"
             ],
             [
              0.4444444444444444,
              "#bd3786"
             ],
             [
              0.5555555555555556,
              "#d8576b"
             ],
             [
              0.6666666666666666,
              "#ed7953"
             ],
             [
              0.7777777777777778,
              "#fb9f3a"
             ],
             [
              0.8888888888888888,
              "#fdca26"
             ],
             [
              1,
              "#f0f921"
             ]
            ],
            "type": "contour"
           }
          ],
          "contourcarpet": [
           {
            "colorbar": {
             "outlinewidth": 0,
             "ticks": ""
            },
            "type": "contourcarpet"
           }
          ],
          "heatmap": [
           {
            "colorbar": {
             "outlinewidth": 0,
             "ticks": ""
            },
            "colorscale": [
             [
              0,
              "#0d0887"
             ],
             [
              0.1111111111111111,
              "#46039f"
             ],
             [
              0.2222222222222222,
              "#7201a8"
             ],
             [
              0.3333333333333333,
              "#9c179e"
             ],
             [
              0.4444444444444444,
              "#bd3786"
             ],
             [
              0.5555555555555556,
              "#d8576b"
             ],
             [
              0.6666666666666666,
              "#ed7953"
             ],
             [
              0.7777777777777778,
              "#fb9f3a"
             ],
             [
              0.8888888888888888,
              "#fdca26"
             ],
             [
              1,
              "#f0f921"
             ]
            ],
            "type": "heatmap"
           }
          ],
          "heatmapgl": [
           {
            "colorbar": {
             "outlinewidth": 0,
             "ticks": ""
            },
            "colorscale": [
             [
              0,
              "#0d0887"
             ],
             [
              0.1111111111111111,
              "#46039f"
             ],
             [
              0.2222222222222222,
              "#7201a8"
             ],
             [
              0.3333333333333333,
              "#9c179e"
             ],
             [
              0.4444444444444444,
              "#bd3786"
             ],
             [
              0.5555555555555556,
              "#d8576b"
             ],
             [
              0.6666666666666666,
              "#ed7953"
             ],
             [
              0.7777777777777778,
              "#fb9f3a"
             ],
             [
              0.8888888888888888,
              "#fdca26"
             ],
             [
              1,
              "#f0f921"
             ]
            ],
            "type": "heatmapgl"
           }
          ],
          "histogram": [
           {
            "marker": {
             "colorbar": {
              "outlinewidth": 0,
              "ticks": ""
             }
            },
            "type": "histogram"
           }
          ],
          "histogram2d": [
           {
            "colorbar": {
             "outlinewidth": 0,
             "ticks": ""
            },
            "colorscale": [
             [
              0,
              "#0d0887"
             ],
             [
              0.1111111111111111,
              "#46039f"
             ],
             [
              0.2222222222222222,
              "#7201a8"
             ],
             [
              0.3333333333333333,
              "#9c179e"
             ],
             [
              0.4444444444444444,
              "#bd3786"
             ],
             [
              0.5555555555555556,
              "#d8576b"
             ],
             [
              0.6666666666666666,
              "#ed7953"
             ],
             [
              0.7777777777777778,
              "#fb9f3a"
             ],
             [
              0.8888888888888888,
              "#fdca26"
             ],
             [
              1,
              "#f0f921"
             ]
            ],
            "type": "histogram2d"
           }
          ],
          "histogram2dcontour": [
           {
            "colorbar": {
             "outlinewidth": 0,
             "ticks": ""
            },
            "colorscale": [
             [
              0,
              "#0d0887"
             ],
             [
              0.1111111111111111,
              "#46039f"
             ],
             [
              0.2222222222222222,
              "#7201a8"
             ],
             [
              0.3333333333333333,
              "#9c179e"
             ],
             [
              0.4444444444444444,
              "#bd3786"
             ],
             [
              0.5555555555555556,
              "#d8576b"
             ],
             [
              0.6666666666666666,
              "#ed7953"
             ],
             [
              0.7777777777777778,
              "#fb9f3a"
             ],
             [
              0.8888888888888888,
              "#fdca26"
             ],
             [
              1,
              "#f0f921"
             ]
            ],
            "type": "histogram2dcontour"
           }
          ],
          "mesh3d": [
           {
            "colorbar": {
             "outlinewidth": 0,
             "ticks": ""
            },
            "type": "mesh3d"
           }
          ],
          "parcoords": [
           {
            "line": {
             "colorbar": {
              "outlinewidth": 0,
              "ticks": ""
             }
            },
            "type": "parcoords"
           }
          ],
          "pie": [
           {
            "automargin": true,
            "type": "pie"
           }
          ],
          "scatter": [
           {
            "marker": {
             "colorbar": {
              "outlinewidth": 0,
              "ticks": ""
             }
            },
            "type": "scatter"
           }
          ],
          "scatter3d": [
           {
            "line": {
             "colorbar": {
              "outlinewidth": 0,
              "ticks": ""
             }
            },
            "marker": {
             "colorbar": {
              "outlinewidth": 0,
              "ticks": ""
             }
            },
            "type": "scatter3d"
           }
          ],
          "scattercarpet": [
           {
            "marker": {
             "colorbar": {
              "outlinewidth": 0,
              "ticks": ""
             }
            },
            "type": "scattercarpet"
           }
          ],
          "scattergeo": [
           {
            "marker": {
             "colorbar": {
              "outlinewidth": 0,
              "ticks": ""
             }
            },
            "type": "scattergeo"
           }
          ],
          "scattergl": [
           {
            "marker": {
             "colorbar": {
              "outlinewidth": 0,
              "ticks": ""
             }
            },
            "type": "scattergl"
           }
          ],
          "scattermapbox": [
           {
            "marker": {
             "colorbar": {
              "outlinewidth": 0,
              "ticks": ""
             }
            },
            "type": "scattermapbox"
           }
          ],
          "scatterpolar": [
           {
            "marker": {
             "colorbar": {
              "outlinewidth": 0,
              "ticks": ""
             }
            },
            "type": "scatterpolar"
           }
          ],
          "scatterpolargl": [
           {
            "marker": {
             "colorbar": {
              "outlinewidth": 0,
              "ticks": ""
             }
            },
            "type": "scatterpolargl"
           }
          ],
          "scatterternary": [
           {
            "marker": {
             "colorbar": {
              "outlinewidth": 0,
              "ticks": ""
             }
            },
            "type": "scatterternary"
           }
          ],
          "surface": [
           {
            "colorbar": {
             "outlinewidth": 0,
             "ticks": ""
            },
            "colorscale": [
             [
              0,
              "#0d0887"
             ],
             [
              0.1111111111111111,
              "#46039f"
             ],
             [
              0.2222222222222222,
              "#7201a8"
             ],
             [
              0.3333333333333333,
              "#9c179e"
             ],
             [
              0.4444444444444444,
              "#bd3786"
             ],
             [
              0.5555555555555556,
              "#d8576b"
             ],
             [
              0.6666666666666666,
              "#ed7953"
             ],
             [
              0.7777777777777778,
              "#fb9f3a"
             ],
             [
              0.8888888888888888,
              "#fdca26"
             ],
             [
              1,
              "#f0f921"
             ]
            ],
            "type": "surface"
           }
          ],
          "table": [
           {
            "cells": {
             "fill": {
              "color": "#EBF0F8"
             },
             "line": {
              "color": "white"
             }
            },
            "header": {
             "fill": {
              "color": "#C8D4E3"
             },
             "line": {
              "color": "white"
             }
            },
            "type": "table"
           }
          ]
         },
         "layout": {
          "annotationdefaults": {
           "arrowcolor": "#2a3f5f",
           "arrowhead": 0,
           "arrowwidth": 1
          },
          "coloraxis": {
           "colorbar": {
            "outlinewidth": 0,
            "ticks": ""
           }
          },
          "colorscale": {
           "diverging": [
            [
             0,
             "#8e0152"
            ],
            [
             0.1,
             "#c51b7d"
            ],
            [
             0.2,
             "#de77ae"
            ],
            [
             0.3,
             "#f1b6da"
            ],
            [
             0.4,
             "#fde0ef"
            ],
            [
             0.5,
             "#f7f7f7"
            ],
            [
             0.6,
             "#e6f5d0"
            ],
            [
             0.7,
             "#b8e186"
            ],
            [
             0.8,
             "#7fbc41"
            ],
            [
             0.9,
             "#4d9221"
            ],
            [
             1,
             "#276419"
            ]
           ],
           "sequential": [
            [
             0,
             "#0d0887"
            ],
            [
             0.1111111111111111,
             "#46039f"
            ],
            [
             0.2222222222222222,
             "#7201a8"
            ],
            [
             0.3333333333333333,
             "#9c179e"
            ],
            [
             0.4444444444444444,
             "#bd3786"
            ],
            [
             0.5555555555555556,
             "#d8576b"
            ],
            [
             0.6666666666666666,
             "#ed7953"
            ],
            [
             0.7777777777777778,
             "#fb9f3a"
            ],
            [
             0.8888888888888888,
             "#fdca26"
            ],
            [
             1,
             "#f0f921"
            ]
           ],
           "sequentialminus": [
            [
             0,
             "#0d0887"
            ],
            [
             0.1111111111111111,
             "#46039f"
            ],
            [
             0.2222222222222222,
             "#7201a8"
            ],
            [
             0.3333333333333333,
             "#9c179e"
            ],
            [
             0.4444444444444444,
             "#bd3786"
            ],
            [
             0.5555555555555556,
             "#d8576b"
            ],
            [
             0.6666666666666666,
             "#ed7953"
            ],
            [
             0.7777777777777778,
             "#fb9f3a"
            ],
            [
             0.8888888888888888,
             "#fdca26"
            ],
            [
             1,
             "#f0f921"
            ]
           ]
          },
          "colorway": [
           "#636efa",
           "#EF553B",
           "#00cc96",
           "#ab63fa",
           "#FFA15A",
           "#19d3f3",
           "#FF6692",
           "#B6E880",
           "#FF97FF",
           "#FECB52"
          ],
          "font": {
           "color": "#2a3f5f"
          },
          "geo": {
           "bgcolor": "white",
           "lakecolor": "white",
           "landcolor": "#E5ECF6",
           "showlakes": true,
           "showland": true,
           "subunitcolor": "white"
          },
          "hoverlabel": {
           "align": "left"
          },
          "hovermode": "closest",
          "mapbox": {
           "style": "light"
          },
          "paper_bgcolor": "white",
          "plot_bgcolor": "#E5ECF6",
          "polar": {
           "angularaxis": {
            "gridcolor": "white",
            "linecolor": "white",
            "ticks": ""
           },
           "bgcolor": "#E5ECF6",
           "radialaxis": {
            "gridcolor": "white",
            "linecolor": "white",
            "ticks": ""
           }
          },
          "scene": {
           "xaxis": {
            "backgroundcolor": "#E5ECF6",
            "gridcolor": "white",
            "gridwidth": 2,
            "linecolor": "white",
            "showbackground": true,
            "ticks": "",
            "zerolinecolor": "white"
           },
           "yaxis": {
            "backgroundcolor": "#E5ECF6",
            "gridcolor": "white",
            "gridwidth": 2,
            "linecolor": "white",
            "showbackground": true,
            "ticks": "",
            "zerolinecolor": "white"
           },
           "zaxis": {
            "backgroundcolor": "#E5ECF6",
            "gridcolor": "white",
            "gridwidth": 2,
            "linecolor": "white",
            "showbackground": true,
            "ticks": "",
            "zerolinecolor": "white"
           }
          },
          "shapedefaults": {
           "line": {
            "color": "#2a3f5f"
           }
          },
          "ternary": {
           "aaxis": {
            "gridcolor": "white",
            "linecolor": "white",
            "ticks": ""
           },
           "baxis": {
            "gridcolor": "white",
            "linecolor": "white",
            "ticks": ""
           },
           "bgcolor": "#E5ECF6",
           "caxis": {
            "gridcolor": "white",
            "linecolor": "white",
            "ticks": ""
           }
          },
          "title": {
           "x": 0.05
          },
          "xaxis": {
           "automargin": true,
           "gridcolor": "white",
           "linecolor": "white",
           "ticks": "",
           "title": {
            "standoff": 15
           },
           "zerolinecolor": "white",
           "zerolinewidth": 2
          },
          "yaxis": {
           "automargin": true,
           "gridcolor": "white",
           "linecolor": "white",
           "ticks": "",
           "title": {
            "standoff": 15
           },
           "zerolinecolor": "white",
           "zerolinewidth": 2
          }
         }
        },
        "xaxis": {
         "anchor": "y",
         "domain": [
          0,
          1
         ],
         "title": {
          "text": "X"
         }
        },
        "yaxis": {
         "anchor": "x",
         "domain": [
          0,
          1
         ],
         "title": {
          "text": "Y"
         }
        }
       }
      }
     },
     "metadata": {}
    }
   ],
   "source": [
    "plot_df = pd.DataFrame()\n",
    "plot_df['Y'] = sim.TEMP_TRACKER_PRICE\n",
    "plot_df['X'] = sim.TEMP_TRACKER_DATE\n",
    "fig = px.scatter(plot_df, x='X', y='Y')\n",
    "fig.show()"
   ]
  },
  {
   "cell_type": "code",
   "execution_count": null,
   "metadata": {},
   "outputs": [],
   "source": []
  }
 ],
 "metadata": {
  "language_info": {
   "codemirror_mode": {
    "name": "ipython",
    "version": 3
   },
   "file_extension": ".py",
   "mimetype": "text/x-python",
   "name": "python",
   "nbconvert_exporter": "python",
   "pygments_lexer": "ipython3",
   "version": "3.6.9-final"
  },
  "orig_nbformat": 2,
  "kernelspec": {
   "name": "python36964bitdatasciencevenvccabe2585f8e4956bd27aa6a84fc91d3",
   "display_name": "Python 3.6.9 64-bit ('DataScience': venv)"
  }
 },
 "nbformat": 4,
 "nbformat_minor": 2
}