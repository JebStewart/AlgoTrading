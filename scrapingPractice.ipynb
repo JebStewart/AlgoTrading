{
 "cells": [
  {
   "cell_type": "code",
   "execution_count": 172,
   "metadata": {},
   "outputs": [],
   "source": [
    "import yfinance as yf\n",
    "import pandas as pd\n",
    "import tensorflow as tf\n",
    "from tensorflow import keras\n",
    "import os\n",
    "import datetime\n",
    "from datetime import timedelta, date\n",
    "import seaborn as sns\n",
    "import matplotlib.pyplot as plt\n",
    "from math import sqrt\n",
    "from statistics import mean, stdev\n",
    "import plotly.express as px\n",
    "import webbrowser\n",
    "from sklearn.model_selection import train_test_split\n",
    "from sklearn.metrics import confusion_matrix\n",
    "from sklearn.preprocessing import LabelEncoder\n",
    "import numpy as np\n",
    "from NotifyMe import Notifier\n",
    "webbrowser.register('chrome', None, webbrowser.BackgroundBrowser('C:\\\\Program Files (x86)\\\\Google\\\\Chrome\\\\Application\\\\chrome.exe'))"
   ]
  },
  {
   "cell_type": "code",
   "execution_count": 125,
   "metadata": {},
   "outputs": [],
   "source": [
    "#Set up notification system FOR MY USE ONLY\n",
    "N = Notifier()"
   ]
  },
  {
   "cell_type": "code",
   "execution_count": 7,
   "metadata": {},
   "outputs": [],
   "source": [
    "symbols = ['ACB', 'F', 'GE', 'DIS', 'AAL', 'GPRO', 'DAL', 'MSFT', 'CCL', 'AAPL', 'FIT', 'SNAP', 'PLUG', 'BAC', 'BA', 'NCLH', 'INO', 'UAL', 'UBER', 'CGC', 'TSLA', 'AMD', 'CRON', 'RCL', 'TWTR', 'GRPN', 'FB', 'SBUX', 'MRO', 'ZNGA', 'BABA', 'T', 'KO', 'APHA', 'USO', 'XOM', 'AMZN', 'MFA', 'JBLU', 'NIO', 'MRNA', 'LUV', 'GM', 'GILD', 'MGM', 'SAVE', 'NFLX', 'NRZ', 'SPCE', 'LK', 'VSLR', 'AMC', 'PENN', 'VOO', 'TLRY', 'HAL', 'NOK', 'NVDA', 'CPRX', 'LYFT', 'SQ', 'SPY', 'V', 'NKE', 'SIRI', 'UCO', 'WORK', 'CPE', 'BYND', 'KOS', 'ET', 'OXY', 'PFE', 'ZM', 'CRBP', 'SPHD', 'FCEL', 'VKTX', 'JPM', 'NTDOY', 'NYMT', 'BP', 'ATVI', 'CSCO', 'WFC', 'WMT', 'GOOGL', 'INTC', 'GLUU', 'AUY', 'VTI', 'ERI', 'TXMD', 'SNE', 'PTON', 'ROKU', 'JNJ', 'IVR', 'MU']"
   ]
  },
  {
   "source": [
    "# Feature Engineering\n",
    "\n",
    "Here I want to create a column that looks at the variance over time, and flags days where the change was greater than the variance. I'll ultimately use that as my target.\n",
    "The idea behind this is if I see a movement that is statistically unlikely for a stock, then it's noteworthy and I should buy (either the stock or perhaps an option)."
   ],
   "cell_type": "markdown",
   "metadata": {}
  },
  {
   "cell_type": "code",
   "execution_count": 15,
   "metadata": {
    "tags": []
   },
   "outputs": [
    {
     "output_type": "stream",
     "name": "stdout",
     "text": "ACB dataframe added to base.\nF dataframe added to base.\nGE dataframe added to base.\nDIS dataframe added to base.\nAAL dataframe added to base.\nGPRO dataframe added to base.\nDAL dataframe added to base.\nMSFT dataframe added to base.\nCCL dataframe added to base.\nAAPL dataframe added to base.\nFIT dataframe added to base.\nSNAP dataframe added to base.\nPLUG dataframe added to base.\nBAC dataframe added to base.\nBA dataframe added to base.\nNCLH dataframe added to base.\nINO dataframe added to base.\nUAL dataframe added to base.\nUBER dataframe added to base.\nCGC dataframe added to base.\nTSLA dataframe added to base.\nAMD dataframe added to base.\nCRON dataframe added to base.\nRCL dataframe added to base.\nTWTR dataframe added to base.\nGRPN dataframe added to base.\nFB dataframe added to base.\nSBUX dataframe added to base.\nMRO dataframe added to base.\nZNGA dataframe added to base.\nBABA dataframe added to base.\nT dataframe added to base.\nKO dataframe added to base.\nAPHA dataframe added to base.\nUSO dataframe added to base.\nXOM dataframe added to base.\nAMZN dataframe added to base.\nMFA dataframe added to base.\nJBLU dataframe added to base.\nNIO dataframe added to base.\nMRNA dataframe added to base.\nLUV dataframe added to base.\nGM dataframe added to base.\nGILD dataframe added to base.\nMGM dataframe added to base.\nSAVE dataframe added to base.\nNFLX dataframe added to base.\nNRZ dataframe added to base.\nSPCE dataframe added to base.\nLK dataframe added to base.\nVSLR dataframe added to base.\nAMC dataframe added to base.\nPENN dataframe added to base.\nVOO dataframe added to base.\nTLRY dataframe added to base.\nHAL dataframe added to base.\nNOK dataframe added to base.\nNVDA dataframe added to base.\nCPRX dataframe added to base.\nLYFT dataframe added to base.\nSQ dataframe added to base.\nSPY dataframe added to base.\nV dataframe added to base.\nNKE dataframe added to base.\nSIRI dataframe added to base.\nUCO dataframe added to base.\nWORK dataframe added to base.\nCPE dataframe added to base.\nBYND dataframe added to base.\nKOS dataframe added to base.\nET dataframe added to base.\nOXY dataframe added to base.\nPFE dataframe added to base.\nZM dataframe added to base.\nCRBP dataframe added to base.\nSPHD dataframe added to base.\nFCEL dataframe added to base.\nVKTX dataframe added to base.\nJPM dataframe added to base.\nNTDOY dataframe added to base.\nNYMT dataframe added to base.\nBP dataframe added to base.\nATVI dataframe added to base.\nCSCO dataframe added to base.\nWFC dataframe added to base.\nWMT dataframe added to base.\nGOOGL dataframe added to base.\nINTC dataframe added to base.\nGLUU dataframe added to base.\nAUY dataframe added to base.\nVTI dataframe added to base.\nERI dataframe added to base.\nTXMD dataframe added to base.\nSNE dataframe added to base.\nPTON dataframe added to base.\nROKU dataframe added to base.\nJNJ dataframe added to base.\nIVR dataframe added to base.\nMU dataframe added to base.\nComplete\n"
    }
   ],
   "source": [
    "\"\"\"Look at week long spans\"\"\"\n",
    "start_date = datetime.date(2020, 4, 1)\n",
    "end_date =  datetime.date(2020, 9, 14)\n",
    "df = pd.DataFrame()\n",
    "for i in symbols:\n",
    "    tckr = yf.Ticker(i)\n",
    "    results = tckr.history(start=start_date, end = end_date)\n",
    "    #results.drop(['Dividends', 'Stock Splits'], axis=1, inplace=True)\n",
    "    results['Symbol'] =[i]* int(results.shape[0])\n",
    "    results.reset_index(inplace = True)\n",
    "    df = df.append(results, ignore_index=True)\n",
    "    print(i, 'dataframe added to base.')\n",
    "print('Complete')"
   ]
  },
  {
   "cell_type": "code",
   "execution_count": 138,
   "metadata": {},
   "outputs": [],
   "source": [
    "def daily_mean(x):\n",
    "    values = [x['Open'], x['High'], x['Low'], x['Close']]\n",
    "    return mean(values)\n",
    "def daily_stddev(x):\n",
    "    values = [x['Open'], x['High'], x['Low'], x['Close']]\n",
    "    return stdev(values)\n",
    "def daily_pct_change(x):\n",
    "    return (x['Close']-x['Open'])/x['Open']\n",
    "def notable_change(x):\n",
    "    return 1 if abs(x['Pct_Change']) > sym_std[x['Symbol']] else 0\n",
    "def prior_trend(x, num_of_days):\n",
    "    _date =x['Date']\n",
    "    _start = _date - timedelta(days=num_of_days)\n",
    "    temp = df[df['Symbol'] == x['Symbol']]\n",
    "    temp = temp[temp['Date'] <= _date]\n",
    "    temp = temp[temp['Date']> _start]\n",
    "    return temp['Pct_Change'].mean()\n",
    "\n",
    "df['Mean'] = df.apply(lambda x: daily_mean(x), axis=1)\n",
    "df['Std_Dev'] = df.apply(lambda x: daily_stddev(x), axis=1)\n",
    "df['Pct_Change'] = df.apply(lambda x: daily_pct_change(x), axis=1)\n",
    "df['Notable_Change'] = df.apply(lambda x: notable_change(x), axis=1)\n",
    "df['Three_Day_Movement'] = df.apply(lambda x: prior_trend(x, 3), axis=1)\n",
    "df['Five_Day_Movement'] = df.apply(lambda x: prior_trend(x, 5), axis=1)\n"
   ]
  },
  {
   "cell_type": "code",
   "execution_count": 139,
   "metadata": {
    "tags": []
   },
   "outputs": [],
   "source": [
    "df['Shifted_Notable_Change'] = df['Notable_Change'].shift(1)\n",
    "\n",
    "for i in symbols:\n",
    "    #remove all the earliest dates to account for the shift\n",
    "    temp = df[df['Symbol'] ==i]\n",
    "    index = temp[temp['Date']==temp['Date'].iloc[0]].index\n",
    "    df.drop(index, inplace=True)"
   ]
  },
  {
   "cell_type": "code",
   "execution_count": 174,
   "metadata": {},
   "outputs": [
    {
     "output_type": "execute_result",
     "data": {
      "text/plain": "        Date   Open   High    Low  Close     Volume  Dividends  Stock Splits  \\\n2 2020-04-03  10.40  10.44   9.48   9.72  2549000.0        0.0           0.0   \n3 2020-04-06  10.14  10.37   9.36   9.60  4244600.0        0.0           0.0   \n4 2020-04-07  10.08  10.21   9.53   9.60  2423000.0        0.0           0.0   \n5 2020-04-08   9.88  10.39   9.60  10.22  2888000.0        0.0           0.0   \n6 2020-04-09  10.56  11.16  10.32  10.51  2554900.0        0.0           0.0   \n\n  Symbol     Mean   Std_Dev  Pct_Change  Notable_Change  Three_Day_Movement  \\\n2    ACB  10.0100  0.483735   -0.065385               0           -0.030684   \n3    ACB   9.8675  0.467574   -0.053254               0           -0.053254   \n4    ACB   9.8550  0.340245   -0.047619               0           -0.050437   \n5    ACB  10.0225  0.352550    0.034413               0           -0.022154   \n6    ACB  10.6375  0.363352   -0.004735               0           -0.005980   \n\n   Shifted_Notable_Change  Five_Day_Movement   Date_Only  Enc_Symbol  \n2                     0.0          -0.030684  2020-04-03           2  \n3                     0.0          -0.038208  2020-04-06           2  \n4                     0.0          -0.055419  2020-04-07           2  \n5                     0.0          -0.022154  2020-04-08           2  \n6                     0.0          -0.017799  2020-04-09           2  ",
      "text/html": "<div>\n<style scoped>\n    .dataframe tbody tr th:only-of-type {\n        vertical-align: middle;\n    }\n\n    .dataframe tbody tr th {\n        vertical-align: top;\n    }\n\n    .dataframe thead th {\n        text-align: right;\n    }\n</style>\n<table border=\"1\" class=\"dataframe\">\n  <thead>\n    <tr style=\"text-align: right;\">\n      <th></th>\n      <th>Date</th>\n      <th>Open</th>\n      <th>High</th>\n      <th>Low</th>\n      <th>Close</th>\n      <th>Volume</th>\n      <th>Dividends</th>\n      <th>Stock Splits</th>\n      <th>Symbol</th>\n      <th>Mean</th>\n      <th>Std_Dev</th>\n      <th>Pct_Change</th>\n      <th>Notable_Change</th>\n      <th>Three_Day_Movement</th>\n      <th>Shifted_Notable_Change</th>\n      <th>Five_Day_Movement</th>\n      <th>Date_Only</th>\n      <th>Enc_Symbol</th>\n    </tr>\n  </thead>\n  <tbody>\n    <tr>\n      <th>2</th>\n      <td>2020-04-03</td>\n      <td>10.40</td>\n      <td>10.44</td>\n      <td>9.48</td>\n      <td>9.72</td>\n      <td>2549000.0</td>\n      <td>0.0</td>\n      <td>0.0</td>\n      <td>ACB</td>\n      <td>10.0100</td>\n      <td>0.483735</td>\n      <td>-0.065385</td>\n      <td>0</td>\n      <td>-0.030684</td>\n      <td>0.0</td>\n      <td>-0.030684</td>\n      <td>2020-04-03</td>\n      <td>2</td>\n    </tr>\n    <tr>\n      <th>3</th>\n      <td>2020-04-06</td>\n      <td>10.14</td>\n      <td>10.37</td>\n      <td>9.36</td>\n      <td>9.60</td>\n      <td>4244600.0</td>\n      <td>0.0</td>\n      <td>0.0</td>\n      <td>ACB</td>\n      <td>9.8675</td>\n      <td>0.467574</td>\n      <td>-0.053254</td>\n      <td>0</td>\n      <td>-0.053254</td>\n      <td>0.0</td>\n      <td>-0.038208</td>\n      <td>2020-04-06</td>\n      <td>2</td>\n    </tr>\n    <tr>\n      <th>4</th>\n      <td>2020-04-07</td>\n      <td>10.08</td>\n      <td>10.21</td>\n      <td>9.53</td>\n      <td>9.60</td>\n      <td>2423000.0</td>\n      <td>0.0</td>\n      <td>0.0</td>\n      <td>ACB</td>\n      <td>9.8550</td>\n      <td>0.340245</td>\n      <td>-0.047619</td>\n      <td>0</td>\n      <td>-0.050437</td>\n      <td>0.0</td>\n      <td>-0.055419</td>\n      <td>2020-04-07</td>\n      <td>2</td>\n    </tr>\n    <tr>\n      <th>5</th>\n      <td>2020-04-08</td>\n      <td>9.88</td>\n      <td>10.39</td>\n      <td>9.60</td>\n      <td>10.22</td>\n      <td>2888000.0</td>\n      <td>0.0</td>\n      <td>0.0</td>\n      <td>ACB</td>\n      <td>10.0225</td>\n      <td>0.352550</td>\n      <td>0.034413</td>\n      <td>0</td>\n      <td>-0.022154</td>\n      <td>0.0</td>\n      <td>-0.022154</td>\n      <td>2020-04-08</td>\n      <td>2</td>\n    </tr>\n    <tr>\n      <th>6</th>\n      <td>2020-04-09</td>\n      <td>10.56</td>\n      <td>11.16</td>\n      <td>10.32</td>\n      <td>10.51</td>\n      <td>2554900.0</td>\n      <td>0.0</td>\n      <td>0.0</td>\n      <td>ACB</td>\n      <td>10.6375</td>\n      <td>0.363352</td>\n      <td>-0.004735</td>\n      <td>0</td>\n      <td>-0.005980</td>\n      <td>0.0</td>\n      <td>-0.017799</td>\n      <td>2020-04-09</td>\n      <td>2</td>\n    </tr>\n  </tbody>\n</table>\n</div>"
     },
     "metadata": {},
     "execution_count": 174
    }
   ],
   "source": [
    "df.head()"
   ]
  },
  {
   "cell_type": "code",
   "execution_count": 137,
   "metadata": {
    "tags": []
   },
   "outputs": [
    {
     "output_type": "stream",
     "name": "stdout",
     "text": "ACB 0.1333837710063991\nF 0.05057897510378018\nGE 0.058496602509301644\nDIS 0.03725803325451775\nAAL 0.10383406584471451\nGPRO 0.06837737476129356\nDAL 0.07195783341846386\nMSFT 0.03364776659403646\nCCL 0.09064376071768232\nAAPL 0.03768191080614968\nFIT 0.025982700079061363\nSNAP 0.057841008863866526\nPLUG 0.09114833330699669\nBAC 0.04709913912166268\nBA 0.0713465020959756\nNCLH 0.11221732212610476\nINO 0.1346128030405089\nUAL 0.10099936314362776\nUBER 0.05552411419236621\nCGC 0.07473040352841086\nTSLA 0.08530627585395797\nAMD 0.06495016185131904\nCRON 0.08084919609785923\nRCL 0.09943132378811129\nTWTR 0.049135553055866976\nGRPN 0.12148330667911758\nFB 0.04131349965412755\nSBUX 0.03182018218041175\nMRO 0.07953500838098984\nZNGA 0.04541737390746258\nBABA 0.031767479710251956\nT 0.02781269985913644\nKO 0.03092977867150694\nAPHA 0.07491643110433216\nUSO 0.059910637756447366\nXOM 0.0489804529813494\nAMZN 0.039764093539814034\nMFA 0.11280224407411951\nJBLU 0.0782784085431558\nNIO 0.11694766491815635\nMRNA 0.09643650752906952\nLUV 0.06311997323611063\nGM 0.05377387949293031\nGILD 0.0363879645971485\nMGM 0.08499122442521855\nSAVE 0.10928886714100425\nNFLX 0.050818924872678306\nNRZ 0.09968110195678952\nSPCE 0.09314564269374587\nLK 0.22523386671848933\nVSLR 0.09796173400040861\nAMC 0.13299917359328206\nPENN 0.1142773153310753\nVOO 0.02271180067032842\nTLRY 0.10118390025743369\nHAL 0.08489082475691909\nNOK 0.03717459318545749\nNVDA 0.05123120326275831\nCPRX 0.06943539613992022\nLYFT 0.06659693582221911\nSQ 0.06752767290163925\nSPY 0.022659466372716534\nV 0.03163433253447572\nNKE 0.03322661398312129\nSIRI 0.040414830696910396\nUCO 0.12046744162658511\nWORK 0.06747793005806947\nCPE 0.17798024242204455\nBYND 0.08032776823790007\nKOS 0.14166137947729077\nET 0.061271397948376743\nOXY 0.09592105964465962\nPFE 0.028691102501802585\nZM 0.07425382314259477\nCRBP 0.08312997025188194\nSPHD 0.028882451926513612\nFCEL 0.10721116485859648\nVKTX 0.08266222183373163\nJPM 0.04314621848990582\nNTDOY 0.019847568171534196\nNYMT 0.09799975171811745\nBP 0.03459115109249856\nATVI 0.03790296908647558\nCSCO 0.03310595089562336\nWFC 0.056813969244548145\nWMT 0.03340104851418809\nGOOGL 0.03213055721334739\nINTC 0.03798152961917541\nGLUU 0.0698352787696815\nAUY 0.05994904421510902\nVTI 0.02307281206407868\nERI 0.10822611217838032\nTXMD 0.15827737373809653\nSNE 0.02257722079269636\nPTON 0.08308252483889818\nROKU 0.07527397790457098\nJNJ 0.0232977588817877\nIVR 0.1406034052585956\nMU 0.04947444095849292\n"
    }
   ],
   "source": [
    "sym_std = {}\n",
    "for i in symbols:\n",
    "    temp = df[df['Symbol'] == i]\n",
    "    sym_std[i] = temp['Pct_Change'].std()*2\n",
    "    print(i, temp['Pct_Change'].std()*2)"
   ]
  },
  {
   "cell_type": "code",
   "execution_count": 102,
   "metadata": {},
   "outputs": [],
   "source": [
    "#convert df datetime to date\n",
    "df['Date_Only'] = df['Date'].dt.date"
   ]
  },
  {
   "cell_type": "code",
   "execution_count": 173,
   "metadata": {},
   "outputs": [],
   "source": [
    "#Label Encode Symbols \n",
    "encoder = LabelEncoder()\n",
    "df['Enc_Symbol'] = encoder.fit_transform(df['Symbol'])"
   ]
  },
  {
   "source": [
    "# Train Test Setup"
   ],
   "cell_type": "markdown",
   "metadata": {}
  },
  {
   "cell_type": "code",
   "execution_count": 244,
   "metadata": {},
   "outputs": [],
   "source": [
    "columns = ['Volume', 'Dividends', 'Stock Splits', 'Pct_Change', 'Three_Day_Movement', 'Five_Day_Movement']\n",
    "target_col = ['Shifted_Notable_Change']\n",
    "X = df[columns]\n",
    "y = df[target_col]"
   ]
  },
  {
   "cell_type": "code",
   "execution_count": 245,
   "metadata": {
    "tags": []
   },
   "outputs": [],
   "source": [
    "train_X, valid_X, train_y, valid_y = train_test_split(X,y, test_size=.3, train_size=.7, shuffle=False, stratify = None, random_state = 0) #double check stratify"
   ]
  },
  {
   "cell_type": "code",
   "execution_count": 246,
   "metadata": {
    "tags": []
   },
   "outputs": [
    {
     "output_type": "stream",
     "name": "stdout",
     "text": "Best Score: 0.21928857692015588\nBest Parameters: {'learning_rate': 0.1, 'max_depth': 5, 'n_estimators': 100, 'n_jobs': 4}\nTrain Score: 0.45901639344262285\nValid Score: 0.1773399014778325\n"
    }
   ],
   "source": [
    "from xgboost import XGBClassifier\n",
    "from sklearn.model_selection import GridSearchCV\n",
    "\n",
    "xgb_params = {'max_depth':[i for i in range(3,11, 2)], \n",
    "              'n_estimators':[100, 300, 500, 1000, 5000, 10000], \n",
    "              'learning_rate':[.1], \n",
    "              'n_jobs':[4],\n",
    "              }\n",
    "xgb = XGBClassifier()\n",
    "xgb_rand_search  = GridSearchCV(xgb, xgb_params, scoring='f1', cv=5, refit=True)\n",
    "xgb_rand_search.fit(train_X, train_y)\n",
    "print('Best Score:', xgb_rand_search.best_score_)\n",
    "print('Best Parameters:', xgb_rand_search.best_params_)\n",
    "print('Train Score:', xgb_rand_search.score(train_X, train_y))\n",
    "print('Valid Score:', xgb_rand_search.score(valid_X, valid_y))\n",
    "N.notify('Done Searching')"
   ]
  },
  {
   "cell_type": "code",
   "execution_count": 256,
   "metadata": {},
   "outputs": [
    {
     "output_type": "execute_result",
     "data": {
      "text/plain": "XGBClassifier(base_score=0.5, booster='gbtree', colsample_bylevel=1,\n              colsample_bynode=1, colsample_bytree=1, gamma=0, gpu_id=-1,\n              importance_type='gain', interaction_constraints='',\n              learning_rate=0.1, max_delta_step=0, max_depth=5,\n              min_child_weight=1, missing=nan, monotone_constraints='()',\n              n_estimators=100, n_jobs=4, num_parallel_tree=1, random_state=0,\n              reg_alpha=0, reg_lambda=1, scale_pos_weight=1, subsample=1,\n              tree_method='exact', validate_parameters=1, verbosity=None)"
     },
     "metadata": {},
     "execution_count": 256
    }
   ],
   "source": [
    "xgb_params = {'max_depth':5, \n",
    "              'n_estimators':100, \n",
    "              'learning_rate':.1, \n",
    "              'n_jobs':4,\n",
    "              }\n",
    "my_model = XGBClassifier(**xgb_params)\n",
    "my_model.fit(X, y, verbose=False)"
   ]
  },
  {
   "cell_type": "code",
   "execution_count": 248,
   "metadata": {},
   "outputs": [
    {
     "output_type": "execute_result",
     "data": {
      "text/plain": "<AxesSubplot:>"
     },
     "metadata": {},
     "execution_count": 248
    },
    {
     "output_type": "display_data",
     "data": {
      "text/plain": "<Figure size 432x288 with 2 Axes>",
      "image/svg+xml": "<?xml version=\"1.0\" encoding=\"utf-8\" standalone=\"no\"?>\n<!DOCTYPE svg PUBLIC \"-//W3C//DTD SVG 1.1//EN\"\n  \"http://www.w3.org/Graphics/SVG/1.1/DTD/svg11.dtd\">\n<!-- Created with matplotlib (https://matplotlib.org/) -->\n<svg height=\"248.518125pt\" version=\"1.1\" viewBox=\"0 0 358.980125 248.518125\" width=\"358.980125pt\" xmlns=\"http://www.w3.org/2000/svg\" xmlns:xlink=\"http://www.w3.org/1999/xlink\">\n <metadata>\n  <rdf:RDF xmlns:cc=\"http://creativecommons.org/ns#\" xmlns:dc=\"http://purl.org/dc/elements/1.1/\" xmlns:rdf=\"http://www.w3.org/1999/02/22-rdf-syntax-ns#\">\n   <cc:Work>\n    <dc:type rdf:resource=\"http://purl.org/dc/dcmitype/StillImage\"/>\n    <dc:date>2020-09-17T14:19:03.827700</dc:date>\n    <dc:format>image/svg+xml</dc:format>\n    <dc:creator>\n     <cc:Agent>\n      <dc:title>Matplotlib v3.3.1, https://matplotlib.org/</dc:title>\n     </cc:Agent>\n    </dc:creator>\n   </cc:Work>\n  </rdf:RDF>\n </metadata>\n <defs>\n  <style type=\"text/css\">*{stroke-linecap:butt;stroke-linejoin:round;}</style>\n </defs>\n <g id=\"figure_1\">\n  <g id=\"patch_1\">\n   <path d=\"M -0 248.518125 \nL 358.980125 248.518125 \nL 358.980125 0 \nL -0 0 \nz\n\" style=\"fill:none;\"/>\n  </g>\n  <g id=\"axes_1\">\n   <g id=\"patch_2\">\n    <path d=\"M 23.878125 224.64 \nL 291.718125 224.64 \nL 291.718125 7.2 \nL 23.878125 7.2 \nz\n\" style=\"fill:#ffffff;\"/>\n   </g>\n   <g id=\"QuadMesh_1\">\n    <path clip-path=\"url(#pa29caecd54)\" d=\"M 23.878125 7.2 \nL 157.798125 7.2 \nL 157.798125 115.92 \nL 23.878125 115.92 \nL 23.878125 7.2 \n\" style=\"fill:#faebdd;\"/>\n    <path clip-path=\"url(#pa29caecd54)\" d=\"M 157.798125 7.2 \nL 291.718125 7.2 \nL 291.718125 115.92 \nL 157.798125 115.92 \nL 157.798125 7.2 \n\" style=\"fill:#03051a;\"/>\n    <path clip-path=\"url(#pa29caecd54)\" d=\"M 23.878125 115.92 \nL 157.798125 115.92 \nL 157.798125 224.64 \nL 23.878125 224.64 \nL 23.878125 115.92 \n\" style=\"fill:#100b23;\"/>\n    <path clip-path=\"url(#pa29caecd54)\" d=\"M 157.798125 115.92 \nL 291.718125 115.92 \nL 291.718125 224.64 \nL 157.798125 224.64 \nL 157.798125 115.92 \n\" style=\"fill:#06071c;\"/>\n   </g>\n   <g id=\"matplotlib.axis_1\">\n    <g id=\"xtick_1\">\n     <g id=\"line2d_1\">\n      <defs>\n       <path d=\"M 0 0 \nL 0 3.5 \n\" id=\"mcbc1c5eeb4\" style=\"stroke:#000000;stroke-width:0.8;\"/>\n      </defs>\n      <g>\n       <use style=\"stroke:#000000;stroke-width:0.8;\" x=\"90.838125\" xlink:href=\"#mcbc1c5eeb4\" y=\"224.64\"/>\n      </g>\n     </g>\n     <g id=\"text_1\">\n      <!-- 0 -->\n      <g transform=\"translate(87.656875 239.238437)scale(0.1 -0.1)\">\n       <defs>\n        <path d=\"M 31.78125 66.40625 \nQ 24.171875 66.40625 20.328125 58.90625 \nQ 16.5 51.421875 16.5 36.375 \nQ 16.5 21.390625 20.328125 13.890625 \nQ 24.171875 6.390625 31.78125 6.390625 \nQ 39.453125 6.390625 43.28125 13.890625 \nQ 47.125 21.390625 47.125 36.375 \nQ 47.125 51.421875 43.28125 58.90625 \nQ 39.453125 66.40625 31.78125 66.40625 \nz\nM 31.78125 74.21875 \nQ 44.046875 74.21875 50.515625 64.515625 \nQ 56.984375 54.828125 56.984375 36.375 \nQ 56.984375 17.96875 50.515625 8.265625 \nQ 44.046875 -1.421875 31.78125 -1.421875 \nQ 19.53125 -1.421875 13.0625 8.265625 \nQ 6.59375 17.96875 6.59375 36.375 \nQ 6.59375 54.828125 13.0625 64.515625 \nQ 19.53125 74.21875 31.78125 74.21875 \nz\n\" id=\"DejaVuSans-48\"/>\n       </defs>\n       <use xlink:href=\"#DejaVuSans-48\"/>\n      </g>\n     </g>\n    </g>\n    <g id=\"xtick_2\">\n     <g id=\"line2d_2\">\n      <g>\n       <use style=\"stroke:#000000;stroke-width:0.8;\" x=\"224.758125\" xlink:href=\"#mcbc1c5eeb4\" y=\"224.64\"/>\n      </g>\n     </g>\n     <g id=\"text_2\">\n      <!-- 1 -->\n      <g transform=\"translate(221.576875 239.238437)scale(0.1 -0.1)\">\n       <defs>\n        <path d=\"M 12.40625 8.296875 \nL 28.515625 8.296875 \nL 28.515625 63.921875 \nL 10.984375 60.40625 \nL 10.984375 69.390625 \nL 28.421875 72.90625 \nL 38.28125 72.90625 \nL 38.28125 8.296875 \nL 54.390625 8.296875 \nL 54.390625 0 \nL 12.40625 0 \nz\n\" id=\"DejaVuSans-49\"/>\n       </defs>\n       <use xlink:href=\"#DejaVuSans-49\"/>\n      </g>\n     </g>\n    </g>\n   </g>\n   <g id=\"matplotlib.axis_2\">\n    <g id=\"ytick_1\">\n     <g id=\"line2d_3\">\n      <defs>\n       <path d=\"M 0 0 \nL -3.5 0 \n\" id=\"m2f635cd5dc\" style=\"stroke:#000000;stroke-width:0.8;\"/>\n      </defs>\n      <g>\n       <use style=\"stroke:#000000;stroke-width:0.8;\" x=\"23.878125\" xlink:href=\"#m2f635cd5dc\" y=\"61.56\"/>\n      </g>\n     </g>\n     <g id=\"text_3\">\n      <!-- 0 -->\n      <g transform=\"translate(14.798438 64.123281)rotate(-90)scale(0.1 -0.1)\">\n       <use xlink:href=\"#DejaVuSans-48\"/>\n      </g>\n     </g>\n    </g>\n    <g id=\"ytick_2\">\n     <g id=\"line2d_4\">\n      <g>\n       <use style=\"stroke:#000000;stroke-width:0.8;\" x=\"23.878125\" xlink:href=\"#m2f635cd5dc\" y=\"170.28\"/>\n      </g>\n     </g>\n     <g id=\"text_4\">\n      <!-- 1 -->\n      <g transform=\"translate(14.798438 172.843281)rotate(-90)scale(0.1 -0.1)\">\n       <use xlink:href=\"#DejaVuSans-49\"/>\n      </g>\n     </g>\n    </g>\n   </g>\n   <g id=\"text_5\">\n    <!-- True Neg -->\n    <g style=\"fill:#262626;\" transform=\"translate(68.640469 53.121562)scale(0.1 -0.1)\">\n     <defs>\n      <path d=\"M -0.296875 72.90625 \nL 61.375 72.90625 \nL 61.375 64.59375 \nL 35.5 64.59375 \nL 35.5 0 \nL 25.59375 0 \nL 25.59375 64.59375 \nL -0.296875 64.59375 \nz\n\" id=\"DejaVuSans-84\"/>\n      <path d=\"M 41.109375 46.296875 \nQ 39.59375 47.171875 37.8125 47.578125 \nQ 36.03125 48 33.890625 48 \nQ 26.265625 48 22.1875 43.046875 \nQ 18.109375 38.09375 18.109375 28.8125 \nL 18.109375 0 \nL 9.078125 0 \nL 9.078125 54.6875 \nL 18.109375 54.6875 \nL 18.109375 46.1875 \nQ 20.953125 51.171875 25.484375 53.578125 \nQ 30.03125 56 36.53125 56 \nQ 37.453125 56 38.578125 55.875 \nQ 39.703125 55.765625 41.0625 55.515625 \nz\n\" id=\"DejaVuSans-114\"/>\n      <path d=\"M 8.5 21.578125 \nL 8.5 54.6875 \nL 17.484375 54.6875 \nL 17.484375 21.921875 \nQ 17.484375 14.15625 20.5 10.265625 \nQ 23.53125 6.390625 29.59375 6.390625 \nQ 36.859375 6.390625 41.078125 11.03125 \nQ 45.3125 15.671875 45.3125 23.6875 \nL 45.3125 54.6875 \nL 54.296875 54.6875 \nL 54.296875 0 \nL 45.3125 0 \nL 45.3125 8.40625 \nQ 42.046875 3.421875 37.71875 1 \nQ 33.40625 -1.421875 27.6875 -1.421875 \nQ 18.265625 -1.421875 13.375 4.4375 \nQ 8.5 10.296875 8.5 21.578125 \nz\nM 31.109375 56 \nz\n\" id=\"DejaVuSans-117\"/>\n      <path d=\"M 56.203125 29.59375 \nL 56.203125 25.203125 \nL 14.890625 25.203125 \nQ 15.484375 15.921875 20.484375 11.0625 \nQ 25.484375 6.203125 34.421875 6.203125 \nQ 39.59375 6.203125 44.453125 7.46875 \nQ 49.3125 8.734375 54.109375 11.28125 \nL 54.109375 2.78125 \nQ 49.265625 0.734375 44.1875 -0.34375 \nQ 39.109375 -1.421875 33.890625 -1.421875 \nQ 20.796875 -1.421875 13.15625 6.1875 \nQ 5.515625 13.8125 5.515625 26.8125 \nQ 5.515625 40.234375 12.765625 48.109375 \nQ 20.015625 56 32.328125 56 \nQ 43.359375 56 49.78125 48.890625 \nQ 56.203125 41.796875 56.203125 29.59375 \nz\nM 47.21875 32.234375 \nQ 47.125 39.59375 43.09375 43.984375 \nQ 39.0625 48.390625 32.421875 48.390625 \nQ 24.90625 48.390625 20.390625 44.140625 \nQ 15.875 39.890625 15.1875 32.171875 \nz\n\" id=\"DejaVuSans-101\"/>\n      <path id=\"DejaVuSans-32\"/>\n      <path d=\"M 9.8125 72.90625 \nL 23.09375 72.90625 \nL 55.421875 11.921875 \nL 55.421875 72.90625 \nL 64.984375 72.90625 \nL 64.984375 0 \nL 51.703125 0 \nL 19.390625 60.984375 \nL 19.390625 0 \nL 9.8125 0 \nz\n\" id=\"DejaVuSans-78\"/>\n      <path d=\"M 45.40625 27.984375 \nQ 45.40625 37.75 41.375 43.109375 \nQ 37.359375 48.484375 30.078125 48.484375 \nQ 22.859375 48.484375 18.828125 43.109375 \nQ 14.796875 37.75 14.796875 27.984375 \nQ 14.796875 18.265625 18.828125 12.890625 \nQ 22.859375 7.515625 30.078125 7.515625 \nQ 37.359375 7.515625 41.375 12.890625 \nQ 45.40625 18.265625 45.40625 27.984375 \nz\nM 54.390625 6.78125 \nQ 54.390625 -7.171875 48.1875 -13.984375 \nQ 42 -20.796875 29.203125 -20.796875 \nQ 24.46875 -20.796875 20.265625 -20.09375 \nQ 16.0625 -19.390625 12.109375 -17.921875 \nL 12.109375 -9.1875 \nQ 16.0625 -11.328125 19.921875 -12.34375 \nQ 23.78125 -13.375 27.78125 -13.375 \nQ 36.625 -13.375 41.015625 -8.765625 \nQ 45.40625 -4.15625 45.40625 5.171875 \nL 45.40625 9.625 \nQ 42.625 4.78125 38.28125 2.390625 \nQ 33.9375 0 27.875 0 \nQ 17.828125 0 11.671875 7.65625 \nQ 5.515625 15.328125 5.515625 27.984375 \nQ 5.515625 40.671875 11.671875 48.328125 \nQ 17.828125 56 27.875 56 \nQ 33.9375 56 38.28125 53.609375 \nQ 42.625 51.21875 45.40625 46.390625 \nL 45.40625 54.6875 \nL 54.390625 54.6875 \nz\n\" id=\"DejaVuSans-103\"/>\n     </defs>\n     <use xlink:href=\"#DejaVuSans-84\"/>\n     <use x=\"46.333984\" xlink:href=\"#DejaVuSans-114\"/>\n     <use x=\"87.447266\" xlink:href=\"#DejaVuSans-117\"/>\n     <use x=\"150.826172\" xlink:href=\"#DejaVuSans-101\"/>\n     <use x=\"212.349609\" xlink:href=\"#DejaVuSans-32\"/>\n     <use x=\"244.136719\" xlink:href=\"#DejaVuSans-78\"/>\n     <use x=\"318.941406\" xlink:href=\"#DejaVuSans-101\"/>\n     <use x=\"380.464844\" xlink:href=\"#DejaVuSans-103\"/>\n    </g>\n    <!-- 7338 -->\n    <g style=\"fill:#262626;\" transform=\"translate(78.113125 64.319375)scale(0.1 -0.1)\">\n     <defs>\n      <path d=\"M 8.203125 72.90625 \nL 55.078125 72.90625 \nL 55.078125 68.703125 \nL 28.609375 0 \nL 18.3125 0 \nL 43.21875 64.59375 \nL 8.203125 64.59375 \nz\n\" id=\"DejaVuSans-55\"/>\n      <path d=\"M 40.578125 39.3125 \nQ 47.65625 37.796875 51.625 33 \nQ 55.609375 28.21875 55.609375 21.1875 \nQ 55.609375 10.40625 48.1875 4.484375 \nQ 40.765625 -1.421875 27.09375 -1.421875 \nQ 22.515625 -1.421875 17.65625 -0.515625 \nQ 12.796875 0.390625 7.625 2.203125 \nL 7.625 11.71875 \nQ 11.71875 9.328125 16.59375 8.109375 \nQ 21.484375 6.890625 26.8125 6.890625 \nQ 36.078125 6.890625 40.9375 10.546875 \nQ 45.796875 14.203125 45.796875 21.1875 \nQ 45.796875 27.640625 41.28125 31.265625 \nQ 36.765625 34.90625 28.71875 34.90625 \nL 20.21875 34.90625 \nL 20.21875 43.015625 \nL 29.109375 43.015625 \nQ 36.375 43.015625 40.234375 45.921875 \nQ 44.09375 48.828125 44.09375 54.296875 \nQ 44.09375 59.90625 40.109375 62.90625 \nQ 36.140625 65.921875 28.71875 65.921875 \nQ 24.65625 65.921875 20.015625 65.03125 \nQ 15.375 64.15625 9.8125 62.3125 \nL 9.8125 71.09375 \nQ 15.4375 72.65625 20.34375 73.4375 \nQ 25.25 74.21875 29.59375 74.21875 \nQ 40.828125 74.21875 47.359375 69.109375 \nQ 53.90625 64.015625 53.90625 55.328125 \nQ 53.90625 49.265625 50.4375 45.09375 \nQ 46.96875 40.921875 40.578125 39.3125 \nz\n\" id=\"DejaVuSans-51\"/>\n      <path d=\"M 31.78125 34.625 \nQ 24.75 34.625 20.71875 30.859375 \nQ 16.703125 27.09375 16.703125 20.515625 \nQ 16.703125 13.921875 20.71875 10.15625 \nQ 24.75 6.390625 31.78125 6.390625 \nQ 38.8125 6.390625 42.859375 10.171875 \nQ 46.921875 13.96875 46.921875 20.515625 \nQ 46.921875 27.09375 42.890625 30.859375 \nQ 38.875 34.625 31.78125 34.625 \nz\nM 21.921875 38.8125 \nQ 15.578125 40.375 12.03125 44.71875 \nQ 8.5 49.078125 8.5 55.328125 \nQ 8.5 64.0625 14.71875 69.140625 \nQ 20.953125 74.21875 31.78125 74.21875 \nQ 42.671875 74.21875 48.875 69.140625 \nQ 55.078125 64.0625 55.078125 55.328125 \nQ 55.078125 49.078125 51.53125 44.71875 \nQ 48 40.375 41.703125 38.8125 \nQ 48.828125 37.15625 52.796875 32.3125 \nQ 56.78125 27.484375 56.78125 20.515625 \nQ 56.78125 9.90625 50.3125 4.234375 \nQ 43.84375 -1.421875 31.78125 -1.421875 \nQ 19.734375 -1.421875 13.25 4.234375 \nQ 6.78125 9.90625 6.78125 20.515625 \nQ 6.78125 27.484375 10.78125 32.3125 \nQ 14.796875 37.15625 21.921875 38.8125 \nz\nM 18.3125 54.390625 \nQ 18.3125 48.734375 21.84375 45.5625 \nQ 25.390625 42.390625 31.78125 42.390625 \nQ 38.140625 42.390625 41.71875 45.5625 \nQ 45.3125 48.734375 45.3125 54.390625 \nQ 45.3125 60.0625 41.71875 63.234375 \nQ 38.140625 66.40625 31.78125 66.40625 \nQ 25.390625 66.40625 21.84375 63.234375 \nQ 18.3125 60.0625 18.3125 54.390625 \nz\n\" id=\"DejaVuSans-56\"/>\n     </defs>\n     <use xlink:href=\"#DejaVuSans-55\"/>\n     <use x=\"63.623047\" xlink:href=\"#DejaVuSans-51\"/>\n     <use x=\"127.246094\" xlink:href=\"#DejaVuSans-51\"/>\n     <use x=\"190.869141\" xlink:href=\"#DejaVuSans-56\"/>\n    </g>\n    <!-- 94.54% -->\n    <g style=\"fill:#262626;\" transform=\"translate(71.773281 75.517187)scale(0.1 -0.1)\">\n     <defs>\n      <path d=\"M 10.984375 1.515625 \nL 10.984375 10.5 \nQ 14.703125 8.734375 18.5 7.8125 \nQ 22.3125 6.890625 25.984375 6.890625 \nQ 35.75 6.890625 40.890625 13.453125 \nQ 46.046875 20.015625 46.78125 33.40625 \nQ 43.953125 29.203125 39.59375 26.953125 \nQ 35.25 24.703125 29.984375 24.703125 \nQ 19.046875 24.703125 12.671875 31.3125 \nQ 6.296875 37.9375 6.296875 49.421875 \nQ 6.296875 60.640625 12.9375 67.421875 \nQ 19.578125 74.21875 30.609375 74.21875 \nQ 43.265625 74.21875 49.921875 64.515625 \nQ 56.59375 54.828125 56.59375 36.375 \nQ 56.59375 19.140625 48.40625 8.859375 \nQ 40.234375 -1.421875 26.421875 -1.421875 \nQ 22.703125 -1.421875 18.890625 -0.6875 \nQ 15.09375 0.046875 10.984375 1.515625 \nz\nM 30.609375 32.421875 \nQ 37.25 32.421875 41.125 36.953125 \nQ 45.015625 41.5 45.015625 49.421875 \nQ 45.015625 57.28125 41.125 61.84375 \nQ 37.25 66.40625 30.609375 66.40625 \nQ 23.96875 66.40625 20.09375 61.84375 \nQ 16.21875 57.28125 16.21875 49.421875 \nQ 16.21875 41.5 20.09375 36.953125 \nQ 23.96875 32.421875 30.609375 32.421875 \nz\n\" id=\"DejaVuSans-57\"/>\n      <path d=\"M 37.796875 64.3125 \nL 12.890625 25.390625 \nL 37.796875 25.390625 \nz\nM 35.203125 72.90625 \nL 47.609375 72.90625 \nL 47.609375 25.390625 \nL 58.015625 25.390625 \nL 58.015625 17.1875 \nL 47.609375 17.1875 \nL 47.609375 0 \nL 37.796875 0 \nL 37.796875 17.1875 \nL 4.890625 17.1875 \nL 4.890625 26.703125 \nz\n\" id=\"DejaVuSans-52\"/>\n      <path d=\"M 10.6875 12.40625 \nL 21 12.40625 \nL 21 0 \nL 10.6875 0 \nz\n\" id=\"DejaVuSans-46\"/>\n      <path d=\"M 10.796875 72.90625 \nL 49.515625 72.90625 \nL 49.515625 64.59375 \nL 19.828125 64.59375 \nL 19.828125 46.734375 \nQ 21.96875 47.46875 24.109375 47.828125 \nQ 26.265625 48.1875 28.421875 48.1875 \nQ 40.625 48.1875 47.75 41.5 \nQ 54.890625 34.8125 54.890625 23.390625 \nQ 54.890625 11.625 47.5625 5.09375 \nQ 40.234375 -1.421875 26.90625 -1.421875 \nQ 22.3125 -1.421875 17.546875 -0.640625 \nQ 12.796875 0.140625 7.71875 1.703125 \nL 7.71875 11.625 \nQ 12.109375 9.234375 16.796875 8.0625 \nQ 21.484375 6.890625 26.703125 6.890625 \nQ 35.15625 6.890625 40.078125 11.328125 \nQ 45.015625 15.765625 45.015625 23.390625 \nQ 45.015625 31 40.078125 35.4375 \nQ 35.15625 39.890625 26.703125 39.890625 \nQ 22.75 39.890625 18.8125 39.015625 \nQ 14.890625 38.140625 10.796875 36.28125 \nz\n\" id=\"DejaVuSans-53\"/>\n      <path d=\"M 72.703125 32.078125 \nQ 68.453125 32.078125 66.03125 28.46875 \nQ 63.625 24.859375 63.625 18.40625 \nQ 63.625 12.0625 66.03125 8.421875 \nQ 68.453125 4.78125 72.703125 4.78125 \nQ 76.859375 4.78125 79.265625 8.421875 \nQ 81.6875 12.0625 81.6875 18.40625 \nQ 81.6875 24.8125 79.265625 28.4375 \nQ 76.859375 32.078125 72.703125 32.078125 \nz\nM 72.703125 38.28125 \nQ 80.421875 38.28125 84.953125 32.90625 \nQ 89.5 27.546875 89.5 18.40625 \nQ 89.5 9.28125 84.9375 3.921875 \nQ 80.375 -1.421875 72.703125 -1.421875 \nQ 64.890625 -1.421875 60.34375 3.921875 \nQ 55.8125 9.28125 55.8125 18.40625 \nQ 55.8125 27.59375 60.375 32.9375 \nQ 64.9375 38.28125 72.703125 38.28125 \nz\nM 22.3125 68.015625 \nQ 18.109375 68.015625 15.6875 64.375 \nQ 13.28125 60.75 13.28125 54.390625 \nQ 13.28125 47.953125 15.671875 44.328125 \nQ 18.0625 40.71875 22.3125 40.71875 \nQ 26.5625 40.71875 28.96875 44.328125 \nQ 31.390625 47.953125 31.390625 54.390625 \nQ 31.390625 60.6875 28.953125 64.34375 \nQ 26.515625 68.015625 22.3125 68.015625 \nz\nM 66.40625 74.21875 \nL 74.21875 74.21875 \nL 28.609375 -1.421875 \nL 20.796875 -1.421875 \nz\nM 22.3125 74.21875 \nQ 30.03125 74.21875 34.609375 68.875 \nQ 39.203125 63.53125 39.203125 54.390625 \nQ 39.203125 45.171875 34.640625 39.84375 \nQ 30.078125 34.515625 22.3125 34.515625 \nQ 14.546875 34.515625 10.03125 39.859375 \nQ 5.515625 45.21875 5.515625 54.390625 \nQ 5.515625 63.484375 10.046875 68.84375 \nQ 14.59375 74.21875 22.3125 74.21875 \nz\n\" id=\"DejaVuSans-37\"/>\n     </defs>\n     <use xlink:href=\"#DejaVuSans-57\"/>\n     <use x=\"63.623047\" xlink:href=\"#DejaVuSans-52\"/>\n     <use x=\"127.246094\" xlink:href=\"#DejaVuSans-46\"/>\n     <use x=\"159.033203\" xlink:href=\"#DejaVuSans-53\"/>\n     <use x=\"222.65625\" xlink:href=\"#DejaVuSans-52\"/>\n     <use x=\"286.279297\" xlink:href=\"#DejaVuSans-37\"/>\n    </g>\n   </g>\n   <g id=\"text_6\">\n    <!-- False Pos -->\n    <g style=\"fill:#ffffff;\" transform=\"translate(202.1175 53.121562)scale(0.1 -0.1)\">\n     <defs>\n      <path d=\"M 9.8125 72.90625 \nL 51.703125 72.90625 \nL 51.703125 64.59375 \nL 19.671875 64.59375 \nL 19.671875 43.109375 \nL 48.578125 43.109375 \nL 48.578125 34.8125 \nL 19.671875 34.8125 \nL 19.671875 0 \nL 9.8125 0 \nz\n\" id=\"DejaVuSans-70\"/>\n      <path d=\"M 34.28125 27.484375 \nQ 23.390625 27.484375 19.1875 25 \nQ 14.984375 22.515625 14.984375 16.5 \nQ 14.984375 11.71875 18.140625 8.90625 \nQ 21.296875 6.109375 26.703125 6.109375 \nQ 34.1875 6.109375 38.703125 11.40625 \nQ 43.21875 16.703125 43.21875 25.484375 \nL 43.21875 27.484375 \nz\nM 52.203125 31.203125 \nL 52.203125 0 \nL 43.21875 0 \nL 43.21875 8.296875 \nQ 40.140625 3.328125 35.546875 0.953125 \nQ 30.953125 -1.421875 24.3125 -1.421875 \nQ 15.921875 -1.421875 10.953125 3.296875 \nQ 6 8.015625 6 15.921875 \nQ 6 25.140625 12.171875 29.828125 \nQ 18.359375 34.515625 30.609375 34.515625 \nL 43.21875 34.515625 \nL 43.21875 35.40625 \nQ 43.21875 41.609375 39.140625 45 \nQ 35.0625 48.390625 27.6875 48.390625 \nQ 23 48.390625 18.546875 47.265625 \nQ 14.109375 46.140625 10.015625 43.890625 \nL 10.015625 52.203125 \nQ 14.9375 54.109375 19.578125 55.046875 \nQ 24.21875 56 28.609375 56 \nQ 40.484375 56 46.34375 49.84375 \nQ 52.203125 43.703125 52.203125 31.203125 \nz\n\" id=\"DejaVuSans-97\"/>\n      <path d=\"M 9.421875 75.984375 \nL 18.40625 75.984375 \nL 18.40625 0 \nL 9.421875 0 \nz\n\" id=\"DejaVuSans-108\"/>\n      <path d=\"M 44.28125 53.078125 \nL 44.28125 44.578125 \nQ 40.484375 46.53125 36.375 47.5 \nQ 32.28125 48.484375 27.875 48.484375 \nQ 21.1875 48.484375 17.84375 46.4375 \nQ 14.5 44.390625 14.5 40.28125 \nQ 14.5 37.15625 16.890625 35.375 \nQ 19.28125 33.59375 26.515625 31.984375 \nL 29.59375 31.296875 \nQ 39.15625 29.25 43.1875 25.515625 \nQ 47.21875 21.78125 47.21875 15.09375 \nQ 47.21875 7.46875 41.1875 3.015625 \nQ 35.15625 -1.421875 24.609375 -1.421875 \nQ 20.21875 -1.421875 15.453125 -0.5625 \nQ 10.6875 0.296875 5.421875 2 \nL 5.421875 11.28125 \nQ 10.40625 8.6875 15.234375 7.390625 \nQ 20.0625 6.109375 24.8125 6.109375 \nQ 31.15625 6.109375 34.5625 8.28125 \nQ 37.984375 10.453125 37.984375 14.40625 \nQ 37.984375 18.0625 35.515625 20.015625 \nQ 33.0625 21.96875 24.703125 23.78125 \nL 21.578125 24.515625 \nQ 13.234375 26.265625 9.515625 29.90625 \nQ 5.8125 33.546875 5.8125 39.890625 \nQ 5.8125 47.609375 11.28125 51.796875 \nQ 16.75 56 26.8125 56 \nQ 31.78125 56 36.171875 55.265625 \nQ 40.578125 54.546875 44.28125 53.078125 \nz\n\" id=\"DejaVuSans-115\"/>\n      <path d=\"M 19.671875 64.796875 \nL 19.671875 37.40625 \nL 32.078125 37.40625 \nQ 38.96875 37.40625 42.71875 40.96875 \nQ 46.484375 44.53125 46.484375 51.125 \nQ 46.484375 57.671875 42.71875 61.234375 \nQ 38.96875 64.796875 32.078125 64.796875 \nz\nM 9.8125 72.90625 \nL 32.078125 72.90625 \nQ 44.34375 72.90625 50.609375 67.359375 \nQ 56.890625 61.8125 56.890625 51.125 \nQ 56.890625 40.328125 50.609375 34.8125 \nQ 44.34375 29.296875 32.078125 29.296875 \nL 19.671875 29.296875 \nL 19.671875 0 \nL 9.8125 0 \nz\n\" id=\"DejaVuSans-80\"/>\n      <path d=\"M 30.609375 48.390625 \nQ 23.390625 48.390625 19.1875 42.75 \nQ 14.984375 37.109375 14.984375 27.296875 \nQ 14.984375 17.484375 19.15625 11.84375 \nQ 23.34375 6.203125 30.609375 6.203125 \nQ 37.796875 6.203125 41.984375 11.859375 \nQ 46.1875 17.53125 46.1875 27.296875 \nQ 46.1875 37.015625 41.984375 42.703125 \nQ 37.796875 48.390625 30.609375 48.390625 \nz\nM 30.609375 56 \nQ 42.328125 56 49.015625 48.375 \nQ 55.71875 40.765625 55.71875 27.296875 \nQ 55.71875 13.875 49.015625 6.21875 \nQ 42.328125 -1.421875 30.609375 -1.421875 \nQ 18.84375 -1.421875 12.171875 6.21875 \nQ 5.515625 13.875 5.515625 27.296875 \nQ 5.515625 40.765625 12.171875 48.375 \nQ 18.84375 56 30.609375 56 \nz\n\" id=\"DejaVuSans-111\"/>\n     </defs>\n     <use xlink:href=\"#DejaVuSans-70\"/>\n     <use x=\"48.394531\" xlink:href=\"#DejaVuSans-97\"/>\n     <use x=\"109.673828\" xlink:href=\"#DejaVuSans-108\"/>\n     <use x=\"137.457031\" xlink:href=\"#DejaVuSans-115\"/>\n     <use x=\"189.556641\" xlink:href=\"#DejaVuSans-101\"/>\n     <use x=\"251.080078\" xlink:href=\"#DejaVuSans-32\"/>\n     <use x=\"282.867188\" xlink:href=\"#DejaVuSans-80\"/>\n     <use x=\"339.544922\" xlink:href=\"#DejaVuSans-111\"/>\n     <use x=\"400.726562\" xlink:href=\"#DejaVuSans-115\"/>\n    </g>\n    <!-- 12 -->\n    <g style=\"fill:#ffffff;\" transform=\"translate(218.395625 64.319375)scale(0.1 -0.1)\">\n     <defs>\n      <path d=\"M 19.1875 8.296875 \nL 53.609375 8.296875 \nL 53.609375 0 \nL 7.328125 0 \nL 7.328125 8.296875 \nQ 12.9375 14.109375 22.625 23.890625 \nQ 32.328125 33.6875 34.8125 36.53125 \nQ 39.546875 41.84375 41.421875 45.53125 \nQ 43.3125 49.21875 43.3125 52.78125 \nQ 43.3125 58.59375 39.234375 62.25 \nQ 35.15625 65.921875 28.609375 65.921875 \nQ 23.96875 65.921875 18.8125 64.3125 \nQ 13.671875 62.703125 7.8125 59.421875 \nL 7.8125 69.390625 \nQ 13.765625 71.78125 18.9375 73 \nQ 24.125 74.21875 28.421875 74.21875 \nQ 39.75 74.21875 46.484375 68.546875 \nQ 53.21875 62.890625 53.21875 53.421875 \nQ 53.21875 48.921875 51.53125 44.890625 \nQ 49.859375 40.875 45.40625 35.40625 \nQ 44.1875 33.984375 37.640625 27.21875 \nQ 31.109375 20.453125 19.1875 8.296875 \nz\n\" id=\"DejaVuSans-50\"/>\n     </defs>\n     <use xlink:href=\"#DejaVuSans-49\"/>\n     <use x=\"63.623047\" xlink:href=\"#DejaVuSans-50\"/>\n    </g>\n    <!-- 0.15% -->\n    <g style=\"fill:#ffffff;\" transform=\"translate(208.874531 75.517187)scale(0.1 -0.1)\">\n     <use xlink:href=\"#DejaVuSans-48\"/>\n     <use x=\"63.623047\" xlink:href=\"#DejaVuSans-46\"/>\n     <use x=\"95.410156\" xlink:href=\"#DejaVuSans-49\"/>\n     <use x=\"159.033203\" xlink:href=\"#DejaVuSans-53\"/>\n     <use x=\"222.65625\" xlink:href=\"#DejaVuSans-37\"/>\n    </g>\n   </g>\n   <g id=\"text_7\">\n    <!-- False Neg -->\n    <g style=\"fill:#ffffff;\" transform=\"translate(66.70375 161.841562)scale(0.1 -0.1)\">\n     <use xlink:href=\"#DejaVuSans-70\"/>\n     <use x=\"48.394531\" xlink:href=\"#DejaVuSans-97\"/>\n     <use x=\"109.673828\" xlink:href=\"#DejaVuSans-108\"/>\n     <use x=\"137.457031\" xlink:href=\"#DejaVuSans-115\"/>\n     <use x=\"189.556641\" xlink:href=\"#DejaVuSans-101\"/>\n     <use x=\"251.080078\" xlink:href=\"#DejaVuSans-32\"/>\n     <use x=\"282.867188\" xlink:href=\"#DejaVuSans-78\"/>\n     <use x=\"357.671875\" xlink:href=\"#DejaVuSans-101\"/>\n     <use x=\"419.195312\" xlink:href=\"#DejaVuSans-103\"/>\n    </g>\n    <!-- 299 -->\n    <g style=\"fill:#ffffff;\" transform=\"translate(81.294375 173.039375)scale(0.1 -0.1)\">\n     <use xlink:href=\"#DejaVuSans-50\"/>\n     <use x=\"63.623047\" xlink:href=\"#DejaVuSans-57\"/>\n     <use x=\"127.246094\" xlink:href=\"#DejaVuSans-57\"/>\n    </g>\n    <!-- 3.85% -->\n    <g style=\"fill:#ffffff;\" transform=\"translate(74.954531 184.237187)scale(0.1 -0.1)\">\n     <use xlink:href=\"#DejaVuSans-51\"/>\n     <use x=\"63.623047\" xlink:href=\"#DejaVuSans-46\"/>\n     <use x=\"95.410156\" xlink:href=\"#DejaVuSans-56\"/>\n     <use x=\"159.033203\" xlink:href=\"#DejaVuSans-53\"/>\n     <use x=\"222.65625\" xlink:href=\"#DejaVuSans-37\"/>\n    </g>\n   </g>\n   <g id=\"text_8\">\n    <!-- True Pos -->\n    <g style=\"fill:#ffffff;\" transform=\"translate(204.054219 161.841562)scale(0.1 -0.1)\">\n     <use xlink:href=\"#DejaVuSans-84\"/>\n     <use x=\"46.333984\" xlink:href=\"#DejaVuSans-114\"/>\n     <use x=\"87.447266\" xlink:href=\"#DejaVuSans-117\"/>\n     <use x=\"150.826172\" xlink:href=\"#DejaVuSans-101\"/>\n     <use x=\"212.349609\" xlink:href=\"#DejaVuSans-32\"/>\n     <use x=\"244.136719\" xlink:href=\"#DejaVuSans-80\"/>\n     <use x=\"300.814453\" xlink:href=\"#DejaVuSans-111\"/>\n     <use x=\"361.996094\" xlink:href=\"#DejaVuSans-115\"/>\n    </g>\n    <!-- 113 -->\n    <g style=\"fill:#ffffff;\" transform=\"translate(215.214375 173.039375)scale(0.1 -0.1)\">\n     <use xlink:href=\"#DejaVuSans-49\"/>\n     <use x=\"63.623047\" xlink:href=\"#DejaVuSans-49\"/>\n     <use x=\"127.246094\" xlink:href=\"#DejaVuSans-51\"/>\n    </g>\n    <!-- 1.46% -->\n    <g style=\"fill:#ffffff;\" transform=\"translate(208.874531 184.237187)scale(0.1 -0.1)\">\n     <defs>\n      <path d=\"M 33.015625 40.375 \nQ 26.375 40.375 22.484375 35.828125 \nQ 18.609375 31.296875 18.609375 23.390625 \nQ 18.609375 15.53125 22.484375 10.953125 \nQ 26.375 6.390625 33.015625 6.390625 \nQ 39.65625 6.390625 43.53125 10.953125 \nQ 47.40625 15.53125 47.40625 23.390625 \nQ 47.40625 31.296875 43.53125 35.828125 \nQ 39.65625 40.375 33.015625 40.375 \nz\nM 52.59375 71.296875 \nL 52.59375 62.3125 \nQ 48.875 64.0625 45.09375 64.984375 \nQ 41.3125 65.921875 37.59375 65.921875 \nQ 27.828125 65.921875 22.671875 59.328125 \nQ 17.53125 52.734375 16.796875 39.40625 \nQ 19.671875 43.65625 24.015625 45.921875 \nQ 28.375 48.1875 33.59375 48.1875 \nQ 44.578125 48.1875 50.953125 41.515625 \nQ 57.328125 34.859375 57.328125 23.390625 \nQ 57.328125 12.15625 50.6875 5.359375 \nQ 44.046875 -1.421875 33.015625 -1.421875 \nQ 20.359375 -1.421875 13.671875 8.265625 \nQ 6.984375 17.96875 6.984375 36.375 \nQ 6.984375 53.65625 15.1875 63.9375 \nQ 23.390625 74.21875 37.203125 74.21875 \nQ 40.921875 74.21875 44.703125 73.484375 \nQ 48.484375 72.75 52.59375 71.296875 \nz\n\" id=\"DejaVuSans-54\"/>\n     </defs>\n     <use xlink:href=\"#DejaVuSans-49\"/>\n     <use x=\"63.623047\" xlink:href=\"#DejaVuSans-46\"/>\n     <use x=\"95.410156\" xlink:href=\"#DejaVuSans-52\"/>\n     <use x=\"159.033203\" xlink:href=\"#DejaVuSans-54\"/>\n     <use x=\"222.65625\" xlink:href=\"#DejaVuSans-37\"/>\n    </g>\n   </g>\n  </g>\n  <g id=\"axes_2\">\n   <g id=\"patch_3\">\n    <path clip-path=\"url(#pe9688717e1)\" d=\"M 308.458125 224.64 \nL 308.458125 223.790625 \nL 308.458125 8.049375 \nL 308.458125 7.2 \nL 319.330125 7.2 \nL 319.330125 8.049375 \nL 319.330125 223.790625 \nL 319.330125 224.64 \nz\n\" style=\"fill:#ffffff;stroke:#ffffff;stroke-linejoin:miter;stroke-width:0.01;\"/>\n   </g>\n   <image height=\"217\" id=\"image85d28ff998\" transform=\"scale(1 -1)translate(0 -217)\" width=\"11\" x=\"308\" xlink:href=\"data:image/png;base64,\niVBORw0KGgoAAAANSUhEUgAAAAsAAADZCAYAAAD2WsoCAAABX0lEQVR4nNWa2w0DMQjAeN0S3X/OXlfAH5ZovhEyhqS5qDnP543lmszcxtLgAMFdJWUurcAiGCgzsuFhHPHc6dk4MXWoQLEpNzKb7dZsaBgTaDb2y5wNrd0QY7/Mk58EjzZIzIbXbm9brUPp8HvqoA2AIarTmJGNI8wIg+1ukpkVuP48+FsbJJjY8DDmBgZrN2EehHHEhoYx7z61uAfrBgaykWExwwIBRjNmEgxEi+oSnAXTJLhIMMKAmdexMV1fKbNYIDjsGHM1sAGZAQZSJ9oYbTYQs6auwFWGYYQ3G14wuPeQxx6qjmUGN3OWGdwLJgiGx8wwwM8mzEyeLFBmGEze6zQbQZ4NPRtJbES3hIGa4nnO0QoU200yoz0IPnlVG6SDHgaywc461EFLHdzdGoZXIMrcaPhvMLN2o3nWNmzemDrRBinwxvBnP1Jmc/iJZ9Ju9C+LKwWydmtnnVXgD2R4KiPLLY7SAAAAAElFTkSuQmCC\" y=\"-7\"/>\n   <g id=\"matplotlib.axis_3\"/>\n   <g id=\"matplotlib.axis_4\">\n    <g id=\"ytick_3\">\n     <g id=\"line2d_5\">\n      <defs>\n       <path d=\"M 0 0 \nL 3.5 0 \n\" id=\"m0552c4ca65\" style=\"stroke:#000000;stroke-width:0.8;\"/>\n      </defs>\n      <g>\n       <use style=\"stroke:#000000;stroke-width:0.8;\" x=\"319.330125\" xlink:href=\"#m0552c4ca65\" y=\"195.315577\"/>\n      </g>\n     </g>\n     <g id=\"text_9\">\n      <!-- 1000 -->\n      <g transform=\"translate(326.330125 199.114796)scale(0.1 -0.1)\">\n       <use xlink:href=\"#DejaVuSans-49\"/>\n       <use x=\"63.623047\" xlink:href=\"#DejaVuSans-48\"/>\n       <use x=\"127.246094\" xlink:href=\"#DejaVuSans-48\"/>\n       <use x=\"190.869141\" xlink:href=\"#DejaVuSans-48\"/>\n      </g>\n     </g>\n    </g>\n    <g id=\"ytick_4\">\n     <g id=\"line2d_6\">\n      <g>\n       <use style=\"stroke:#000000;stroke-width:0.8;\" x=\"319.330125\" xlink:href=\"#m0552c4ca65\" y=\"165.634988\"/>\n      </g>\n     </g>\n     <g id=\"text_10\">\n      <!-- 2000 -->\n      <g transform=\"translate(326.330125 169.434206)scale(0.1 -0.1)\">\n       <use xlink:href=\"#DejaVuSans-50\"/>\n       <use x=\"63.623047\" xlink:href=\"#DejaVuSans-48\"/>\n       <use x=\"127.246094\" xlink:href=\"#DejaVuSans-48\"/>\n       <use x=\"190.869141\" xlink:href=\"#DejaVuSans-48\"/>\n      </g>\n     </g>\n    </g>\n    <g id=\"ytick_5\">\n     <g id=\"line2d_7\">\n      <g>\n       <use style=\"stroke:#000000;stroke-width:0.8;\" x=\"319.330125\" xlink:href=\"#m0552c4ca65\" y=\"135.954398\"/>\n      </g>\n     </g>\n     <g id=\"text_11\">\n      <!-- 3000 -->\n      <g transform=\"translate(326.330125 139.753617)scale(0.1 -0.1)\">\n       <use xlink:href=\"#DejaVuSans-51\"/>\n       <use x=\"63.623047\" xlink:href=\"#DejaVuSans-48\"/>\n       <use x=\"127.246094\" xlink:href=\"#DejaVuSans-48\"/>\n       <use x=\"190.869141\" xlink:href=\"#DejaVuSans-48\"/>\n      </g>\n     </g>\n    </g>\n    <g id=\"ytick_6\">\n     <g id=\"line2d_8\">\n      <g>\n       <use style=\"stroke:#000000;stroke-width:0.8;\" x=\"319.330125\" xlink:href=\"#m0552c4ca65\" y=\"106.273808\"/>\n      </g>\n     </g>\n     <g id=\"text_12\">\n      <!-- 4000 -->\n      <g transform=\"translate(326.330125 110.073027)scale(0.1 -0.1)\">\n       <use xlink:href=\"#DejaVuSans-52\"/>\n       <use x=\"63.623047\" xlink:href=\"#DejaVuSans-48\"/>\n       <use x=\"127.246094\" xlink:href=\"#DejaVuSans-48\"/>\n       <use x=\"190.869141\" xlink:href=\"#DejaVuSans-48\"/>\n      </g>\n     </g>\n    </g>\n    <g id=\"ytick_7\">\n     <g id=\"line2d_9\">\n      <g>\n       <use style=\"stroke:#000000;stroke-width:0.8;\" x=\"319.330125\" xlink:href=\"#m0552c4ca65\" y=\"76.593219\"/>\n      </g>\n     </g>\n     <g id=\"text_13\">\n      <!-- 5000 -->\n      <g transform=\"translate(326.330125 80.392437)scale(0.1 -0.1)\">\n       <use xlink:href=\"#DejaVuSans-53\"/>\n       <use x=\"63.623047\" xlink:href=\"#DejaVuSans-48\"/>\n       <use x=\"127.246094\" xlink:href=\"#DejaVuSans-48\"/>\n       <use x=\"190.869141\" xlink:href=\"#DejaVuSans-48\"/>\n      </g>\n     </g>\n    </g>\n    <g id=\"ytick_8\">\n     <g id=\"line2d_10\">\n      <g>\n       <use style=\"stroke:#000000;stroke-width:0.8;\" x=\"319.330125\" xlink:href=\"#m0552c4ca65\" y=\"46.912629\"/>\n      </g>\n     </g>\n     <g id=\"text_14\">\n      <!-- 6000 -->\n      <g transform=\"translate(326.330125 50.711848)scale(0.1 -0.1)\">\n       <use xlink:href=\"#DejaVuSans-54\"/>\n       <use x=\"63.623047\" xlink:href=\"#DejaVuSans-48\"/>\n       <use x=\"127.246094\" xlink:href=\"#DejaVuSans-48\"/>\n       <use x=\"190.869141\" xlink:href=\"#DejaVuSans-48\"/>\n      </g>\n     </g>\n    </g>\n    <g id=\"ytick_9\">\n     <g id=\"line2d_11\">\n      <g>\n       <use style=\"stroke:#000000;stroke-width:0.8;\" x=\"319.330125\" xlink:href=\"#m0552c4ca65\" y=\"17.232039\"/>\n      </g>\n     </g>\n     <g id=\"text_15\">\n      <!-- 7000 -->\n      <g transform=\"translate(326.330125 21.031258)scale(0.1 -0.1)\">\n       <use xlink:href=\"#DejaVuSans-55\"/>\n       <use x=\"63.623047\" xlink:href=\"#DejaVuSans-48\"/>\n       <use x=\"127.246094\" xlink:href=\"#DejaVuSans-48\"/>\n       <use x=\"190.869141\" xlink:href=\"#DejaVuSans-48\"/>\n      </g>\n     </g>\n    </g>\n   </g>\n   <g id=\"patch_4\">\n    <path d=\"M 308.458125 224.64 \nL 308.458125 223.790625 \nL 308.458125 8.049375 \nL 308.458125 7.2 \nL 319.330125 7.2 \nL 319.330125 8.049375 \nL 319.330125 223.790625 \nL 319.330125 224.64 \nz\n\" style=\"fill:none;\"/>\n   </g>\n  </g>\n </g>\n <defs>\n  <clipPath id=\"pa29caecd54\">\n   <rect height=\"217.44\" width=\"267.84\" x=\"23.878125\" y=\"7.2\"/>\n  </clipPath>\n  <clipPath id=\"pe9688717e1\">\n   <rect height=\"217.44\" width=\"10.872\" x=\"308.458125\" y=\"7.2\"/>\n  </clipPath>\n </defs>\n</svg>\n",
      "image/png": "[encoded data removed]"
     },
     "metadata": {
      "needs_background": "light"
     }
    }
   ],
   "source": [
    "xgb_predictions = my_model.predict(train_X)\n",
    "\n",
    "xgb_cf_matrix = confusion_matrix(train_y, xgb_predictions)\n",
    "group_names = ['True Neg','False Pos','False Neg','True Pos']\n",
    "group_counts = ['{0:0.0f}'.format(value) for value in xgb_cf_matrix.flatten()]\n",
    "group_percentages = ['{0:.2%}'.format(value) for value in xgb_cf_matrix.flatten()/np.sum(xgb_cf_matrix)]\n",
    "labels = [f'{_1}\\n{_2}\\n{_3}' for _1, _2, _3 in zip(group_names,group_counts,group_percentages)]\n",
    "labels = np.asarray(labels).reshape(2,2)\n",
    "sns.heatmap(xgb_cf_matrix, annot=labels, fmt='')"
   ]
  },
  {
   "source": [
    "# Simulate model with the past\n",
    "\n",
    "The goal of this section is to run the model through a few months of use with imaginary money and see how it performs"
   ],
   "cell_type": "markdown",
   "metadata": {}
  },
  {
   "cell_type": "code",
   "execution_count": 237,
   "metadata": {},
   "outputs": [],
   "source": [
    "class MyMoney:\n",
    "    \"\"\"\n",
    "    This class serves to manage the portfolio/money aspect of the simulation.\n",
    "    \"\"\"\n",
    "    def __init__(self, starting_funds):\n",
    "        self.funds = starting_funds\n",
    "        self.portfolio = {}\n",
    "        self.chunk_pct = .2\n",
    "    \n",
    "    def add_to_portfolio(self, symbol, amount, date_added):\n",
    "        symbol = symbol[0]\n",
    "        if symbol not in self.portfolio.keys():\n",
    "            self.portfolio[symbol] = [amount, date_added]\n",
    "            self.funds = self.funds - amount\n",
    "        else:\n",
    "            self.portfolio[symbol] = [self.portfolio[symbol][0]+ amount, date_added]\n",
    "            self.funds = self.funds - amount\n",
    "\n",
    "    def sell_from_portfolio(self, symbol, pct_change):\n",
    "        self.funds += (self.portfolio[symbol][0] + (self.portfolio[symbol][0]*pct_change))\n",
    "        self.portfolio.pop(symbol)\n",
    "\n",
    "    def total_portfolio(self, _date):\n",
    "        total_amount = self.funds\n",
    "        for i in self.portfolio.keys():\n",
    "            date_bought = self.portfolio[i][1]\n",
    "            date_sold = _date\n",
    "            temp = df[df['Symbol']==i]\n",
    "            buy_price = float(temp[temp['Date_Only']==date_bought]['Open'])\n",
    "            sell_price = float(temp[temp['Date_Only']==date_sold]['Open'])\n",
    "            pct_change = (sell_price-buy_price)/buy_price\n",
    "            total_amount+= self.portfolio[i][0]+ (self.portfolio[i][0]*pct_change)\n",
    "        return total_amount\n",
    "    \n",
    "    def get_amount(self, _date):\n",
    "        want_to_spend = .2 * self.total_portfolio(_date)\n",
    "        if want_to_spend< self.funds:\n",
    "            return want_to_spend\n",
    "        elif self.funds < want_to_spend and self.funds != 0:\n",
    "            return self.funds\n",
    "        else:\n",
    "            return False"
   ]
  },
  {
   "cell_type": "code",
   "execution_count": 258,
   "metadata": {},
   "outputs": [],
   "source": [
    "class StockSimulator:\n",
    "    def __init__(self, start_date, symbols, model):\n",
    "        self._date = start_date\n",
    "        self.end_date = date(2020, 9, 1)\n",
    "        self.symbols = symbols\n",
    "        self.money = MyMoney(1000)\n",
    "        self._LOG = pd.DataFrame()\n",
    "        self.model = model\n",
    "    \n",
    "    def collect_inputs(self):\n",
    "        inputs = []\n",
    "        for sym in self.symbols:\n",
    "            temp = df[df['Symbol']==sym]\n",
    "            temp = temp[temp['Date_Only']==self._date]\n",
    "            temp = temp[['Volume', 'Dividends', 'Stock Splits', 'Pct_Change', 'Three_Day_Movement', 'Five_Day_Movement']]\n",
    "            inputs.append([sym,temp])\n",
    "        return inputs\n",
    "\n",
    "    def make_predictions(self, model_inputs):\n",
    "        if model_inputs[1].empty:\n",
    "            return False\n",
    "        prediction = self.model.predict(model_inputs[1])\n",
    "        if prediction == 1 and float(model_inputs[1]['Pct_Change'])>0: \n",
    "            return True\n",
    "        else:\n",
    "            return False\n",
    "\n",
    "\n",
    "    def transaction(self, symbol):\n",
    "        amount = self.money.get_amount(self._date)\n",
    "        if amount:\n",
    "            print('Bought', symbol)\n",
    "            self.money.add_to_portfolio(symbol, amount, self._date)\n",
    "\n",
    "    def auto_sell(self):\n",
    "        _keys = list(self.money.portfolio.keys())\n",
    "        for i in _keys:\n",
    "            if self.money.portfolio[i][1]+timedelta(days=2)<=self._date:\n",
    "                if self._date in df['Date_Only'].unique():\n",
    "                    date_bought = self.money.portfolio[i][1]\n",
    "                    date_sold = self._date\n",
    "                    temp = df[df['Symbol']==i]\n",
    "                    buy_price = float(temp[temp['Date_Only']==date_bought]['Open'])\n",
    "                    sell_price = float(temp[temp['Date_Only']==date_sold]['Open'])\n",
    "                    change = (sell_price-buy_price)/buy_price\n",
    "                    self.money.sell_from_portfolio(i, change)\n",
    "\n",
    "    def RUN_SIM(self): #TODO this could use some serious cleanup for naming\n",
    "        while self._date < self.end_date:\n",
    "            days_inputs = self.collect_inputs()\n",
    "            daily_predictions=[]\n",
    "            for i in days_inputs:\n",
    "                daily_predictions.append([days_inputs[0], self.make_predictions(days_inputs[1])])\n",
    "            for i in daily_predictions:\n",
    "                if i[1]:\n",
    "                    self.transaction(i[0])\n",
    "            self.auto_sell()\n",
    "            self._date  = self._date + timedelta(days=1)\n",
    "            if self._date in df['Date_Only'].unique():\n",
    "                print(self._date, self.money.total_portfolio(self._date))\n",
    "\n"
   ]
  },
  {
   "cell_type": "code",
   "execution_count": 259,
   "metadata": {
    "tags": []
   },
   "outputs": [
    {
     "output_type": "stream",
     "name": "stdout",
     "text": "2020-04-03 1000\n2020-04-06 1000\n2020-04-07 1000\n2020-04-08 1000\n2020-04-09 1000\n2020-04-13 1000\n2020-04-14 1000\n2020-04-15 1000\n2020-04-16 1000\n2020-04-17 1000\n2020-04-20 1000\n2020-04-21 1000\n2020-04-22 1000\n2020-04-23 1000\n2020-04-24 1000\n2020-04-27 1000\n2020-04-28 1000\n2020-04-29 1000\n2020-04-30 1000\n2020-05-01 1000\n2020-05-04 1000\n2020-05-05 1000\n2020-05-06 1000\n2020-05-07 1000\n2020-05-08 1000\n2020-05-11 1000\n2020-05-12 1000\n2020-05-13 1000\n2020-05-14 1000\n2020-05-15 1000\n2020-05-18 1000\n2020-05-19 1000\n2020-05-20 1000\n2020-05-21 1000\n2020-05-22 1000\n2020-05-26 1000\n2020-05-27 1000\n2020-05-28 1000\n2020-05-29 1000\n2020-06-01 1000\n2020-06-02 1000\n2020-06-03 1000\n2020-06-04 1000\n2020-06-05 1000\n2020-06-08 1000\n2020-06-09 1000\n2020-06-10 1000\n2020-06-11 1000\n2020-06-12 1000\n2020-06-15 1000\n2020-06-16 1000\n2020-06-17 1000\n2020-06-18 1000\n2020-06-19 1000\n2020-06-22 1000\n2020-06-23 1000\n2020-06-24 1000\n2020-06-25 1000\n2020-06-26 1000\n2020-06-29 1000\n2020-06-30 1000\n2020-07-01 1000\n2020-07-02 1000\n2020-07-06 1000\n2020-07-07 1000\n2020-07-08 1000\n2020-07-09 1000\n2020-07-10 1000\n2020-07-13 1000\n2020-07-14 1000\n2020-07-15 1000\n2020-07-16 1000\n2020-07-17 1000\n2020-07-20 1000\n2020-07-21 1000\n2020-07-22 1000\n2020-07-23 1000\n2020-07-24 1000\n2020-07-27 1000\n2020-07-28 1000\n2020-07-29 1000\n2020-07-30 1000\n2020-07-31 1000\n2020-08-03 1000\n2020-08-04 1000\n2020-08-05 1000\n2020-08-06 1000\n2020-08-07 1000\n2020-08-10 1000\n2020-08-11 1000\n2020-08-12 1000\n2020-08-13 1000\n2020-08-14 1000\n2020-08-17 1000\n2020-08-18 1000\n2020-08-19 1000\n2020-08-20 1000\n2020-08-21 1000\n2020-08-24 1000\n2020-08-25 1000\n2020-08-26 1000\n2020-08-27 1000\n2020-08-28 1000\n2020-08-31 1000\n2020-09-01 1000\n"
    }
   ],
   "source": [
    "sim = StockSimulator(date(2020, 4, 1), symbols, my_model)\n",
    "sim.RUN_SIM()"
   ]
  },
  {
   "cell_type": "code",
   "execution_count": null,
   "metadata": {},
   "outputs": [],
   "source": []
  }
 ],
 "metadata": {
  "language_info": {
   "codemirror_mode": {
    "name": "ipython",
    "version": 3
   },
   "file_extension": ".py",
   "mimetype": "text/x-python",
   "name": "python",
   "nbconvert_exporter": "python",
   "pygments_lexer": "ipython3",
   "version": "3.6.9-final"
  },
  "orig_nbformat": 2,
  "kernelspec": {
   "name": "python36964bitdatasciencevenvccabe2585f8e4956bd27aa6a84fc91d3",
   "display_name": "Python 3.6.9 64-bit ('DataScience': venv)"
  }
 },
 "nbformat": 4,
 "nbformat_minor": 2
}