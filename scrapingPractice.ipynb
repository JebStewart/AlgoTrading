{
 "cells": [
  {
   "cell_type": "code",
   "execution_count": 55,
   "metadata": {},
   "outputs": [],
   "source": [
    "import yfinance as yf\n",
    "import pandas as pd\n",
    "import tensorflow as tf\n",
    "from tensorflow import keras\n",
    "import os\n",
    "import datetime\n",
    "from datetime import timedelta, date\n",
    "import seaborn as sns\n",
    "import matplotlib.pyplot as plt\n",
    "from math import sqrt\n",
    "from statistics import mean, stdev\n",
    "import plotly.express as px\n",
    "import webbrowser\n",
    "from sklearn.model_selection import train_test_split\n",
    "webbrowser.register('chrome', None, webbrowser.BackgroundBrowser('C:\\\\Program Files (x86)\\\\Google\\\\Chrome\\\\Application\\\\chrome.exe'))"
   ]
  },
  {
   "cell_type": "code",
   "execution_count": 7,
   "metadata": {},
   "outputs": [],
   "source": [
    "symbols = ['ACB', 'F', 'GE', 'DIS', 'AAL', 'GPRO', 'DAL', 'MSFT', 'CCL', 'AAPL', 'FIT', 'SNAP', 'PLUG', 'BAC', 'BA', 'NCLH', 'INO', 'UAL', 'UBER', 'CGC', 'TSLA', 'AMD', 'CRON', 'RCL', 'TWTR', 'GRPN', 'FB', 'SBUX', 'MRO', 'ZNGA', 'BABA', 'T', 'KO', 'APHA', 'USO', 'XOM', 'AMZN', 'MFA', 'JBLU', 'NIO', 'MRNA', 'LUV', 'GM', 'GILD', 'MGM', 'SAVE', 'NFLX', 'NRZ', 'SPCE', 'LK', 'VSLR', 'AMC', 'PENN', 'VOO', 'TLRY', 'HAL', 'NOK', 'NVDA', 'CPRX', 'LYFT', 'SQ', 'SPY', 'V', 'NKE', 'SIRI', 'UCO', 'WORK', 'CPE', 'BYND', 'KOS', 'ET', 'OXY', 'PFE', 'ZM', 'CRBP', 'SPHD', 'FCEL', 'VKTX', 'JPM', 'NTDOY', 'NYMT', 'BP', 'ATVI', 'CSCO', 'WFC', 'WMT', 'GOOGL', 'INTC', 'GLUU', 'AUY', 'VTI', 'ERI', 'TXMD', 'SNE', 'PTON', 'ROKU', 'JNJ', 'IVR', 'MU']"
   ]
  },
  {
   "source": [
    "# Feature Engineering\n",
    "\n",
    "Here I want to create a column that looks at the variance over time, and flags days where the change was greater than the variance. I'll ultimately use that as my target.\n",
    "The idea behind this is if I see a movement that is statistically unlikely for a stock, then it's noteworthy and I should buy (either the stock or perhaps an option)."
   ],
   "cell_type": "markdown",
   "metadata": {}
  },
  {
   "cell_type": "code",
   "execution_count": 15,
   "metadata": {
    "tags": []
   },
   "outputs": [
    {
     "output_type": "stream",
     "name": "stdout",
     "text": "ACB dataframe added to base.\nF dataframe added to base.\nGE dataframe added to base.\nDIS dataframe added to base.\nAAL dataframe added to base.\nGPRO dataframe added to base.\nDAL dataframe added to base.\nMSFT dataframe added to base.\nCCL dataframe added to base.\nAAPL dataframe added to base.\nFIT dataframe added to base.\nSNAP dataframe added to base.\nPLUG dataframe added to base.\nBAC dataframe added to base.\nBA dataframe added to base.\nNCLH dataframe added to base.\nINO dataframe added to base.\nUAL dataframe added to base.\nUBER dataframe added to base.\nCGC dataframe added to base.\nTSLA dataframe added to base.\nAMD dataframe added to base.\nCRON dataframe added to base.\nRCL dataframe added to base.\nTWTR dataframe added to base.\nGRPN dataframe added to base.\nFB dataframe added to base.\nSBUX dataframe added to base.\nMRO dataframe added to base.\nZNGA dataframe added to base.\nBABA dataframe added to base.\nT dataframe added to base.\nKO dataframe added to base.\nAPHA dataframe added to base.\nUSO dataframe added to base.\nXOM dataframe added to base.\nAMZN dataframe added to base.\nMFA dataframe added to base.\nJBLU dataframe added to base.\nNIO dataframe added to base.\nMRNA dataframe added to base.\nLUV dataframe added to base.\nGM dataframe added to base.\nGILD dataframe added to base.\nMGM dataframe added to base.\nSAVE dataframe added to base.\nNFLX dataframe added to base.\nNRZ dataframe added to base.\nSPCE dataframe added to base.\nLK dataframe added to base.\nVSLR dataframe added to base.\nAMC dataframe added to base.\nPENN dataframe added to base.\nVOO dataframe added to base.\nTLRY dataframe added to base.\nHAL dataframe added to base.\nNOK dataframe added to base.\nNVDA dataframe added to base.\nCPRX dataframe added to base.\nLYFT dataframe added to base.\nSQ dataframe added to base.\nSPY dataframe added to base.\nV dataframe added to base.\nNKE dataframe added to base.\nSIRI dataframe added to base.\nUCO dataframe added to base.\nWORK dataframe added to base.\nCPE dataframe added to base.\nBYND dataframe added to base.\nKOS dataframe added to base.\nET dataframe added to base.\nOXY dataframe added to base.\nPFE dataframe added to base.\nZM dataframe added to base.\nCRBP dataframe added to base.\nSPHD dataframe added to base.\nFCEL dataframe added to base.\nVKTX dataframe added to base.\nJPM dataframe added to base.\nNTDOY dataframe added to base.\nNYMT dataframe added to base.\nBP dataframe added to base.\nATVI dataframe added to base.\nCSCO dataframe added to base.\nWFC dataframe added to base.\nWMT dataframe added to base.\nGOOGL dataframe added to base.\nINTC dataframe added to base.\nGLUU dataframe added to base.\nAUY dataframe added to base.\nVTI dataframe added to base.\nERI dataframe added to base.\nTXMD dataframe added to base.\nSNE dataframe added to base.\nPTON dataframe added to base.\nROKU dataframe added to base.\nJNJ dataframe added to base.\nIVR dataframe added to base.\nMU dataframe added to base.\nComplete\n"
    }
   ],
   "source": [
    "\"\"\"Look at week long spans\"\"\"\n",
    "start_date = datetime.date(2020, 4, 1)\n",
    "end_date =  datetime.date(2020, 9, 14)\n",
    "df = pd.DataFrame()\n",
    "for i in symbols:\n",
    "    tckr = yf.Ticker(i)\n",
    "    results = tckr.history(start=start_date, end = end_date)\n",
    "    #results.drop(['Dividends', 'Stock Splits'], axis=1, inplace=True)\n",
    "    results['Symbol'] =[i]* int(results.shape[0])\n",
    "    results.reset_index(inplace = True)\n",
    "    df = df.append(results, ignore_index=True)\n",
    "    print(i, 'dataframe added to base.')\n",
    "print('Complete')"
   ]
  },
  {
   "cell_type": "code",
   "execution_count": 53,
   "metadata": {},
   "outputs": [],
   "source": [
    "def daily_mean(x):\n",
    "    values = [x['Open'], x['High'], x['Low'], x['Close']]\n",
    "    return mean(values)\n",
    "def daily_stddev(x):\n",
    "    values = [x['Open'], x['High'], x['Low'], x['Close']]\n",
    "    return stdev(values)\n",
    "def daily_pct_change(x):\n",
    "    return (x['Close']-x['Open'])/x['Open']\n",
    "def notable_change(x):\n",
    "    return 1 if abs(x['Pct_Change']) > sym_std[x['Symbol']] else 0\n",
    "def prior_trend(x, num_of_days):\n",
    "    _date =x['Date']\n",
    "    _start = _date - timedelta(days=num_of_days)\n",
    "    temp = df[df['Symbol'] == x['Symbol']]\n",
    "    temp = temp[temp['Date'] <= _date]\n",
    "    temp = temp[temp['Date']> _start]\n",
    "    return temp['Pct_Change'].mean()\n",
    "\n",
    "df['Mean'] = df.apply(lambda x: daily_mean(x), axis=1)\n",
    "df['Std_Dev'] = df.apply(lambda x: daily_stddev(x), axis=1)\n",
    "df['Pct_Change'] = df.apply(lambda x: daily_pct_change(x), axis=1)\n",
    "df['Notable_Change'] = df.apply(lambda x: notable_change(x), axis=1)\n",
    "df['Three_Day_Movement'] = df.apply(lambda x: prior_trend(x, 3), axis=1)\n",
    "df['Five_Day_Movement'] = df.apply(lambda x: prior_trend(x, 5), axis=1)\n"
   ]
  },
  {
   "cell_type": "code",
   "execution_count": 51,
   "metadata": {
    "tags": []
   },
   "outputs": [],
   "source": [
    "df['Shifted_Notable_Change'] = df['Notable_Change'].shift(1)\n",
    "\n",
    "for i in symbols:\n",
    "    #remove all the earliest dates to account for the shift\n",
    "    temp = df[df['Symbol'] ==i]\n",
    "    index = temp[temp['Date']==temp['Date'].iloc[0]].index\n",
    "    df.drop(index, inplace=True)"
   ]
  },
  {
   "cell_type": "code",
   "execution_count": 52,
   "metadata": {},
   "outputs": [
    {
     "output_type": "execute_result",
     "data": {
      "text/plain": "        Date   Open   High   Low  Close     Volume  Dividends  Stock Splits  \\\n1 2020-04-02   9.96  11.02  9.61  10.00  2770000.0        0.0           0.0   \n2 2020-04-03  10.40  10.44  9.48   9.72  2549000.0        0.0           0.0   \n3 2020-04-06  10.14  10.37  9.36   9.60  4244600.0        0.0           0.0   \n4 2020-04-07  10.08  10.21  9.53   9.60  2423000.0        0.0           0.0   \n5 2020-04-08   9.88  10.39  9.60  10.22  2888000.0        0.0           0.0   \n\n  Symbol     Mean   Std_Dev  Pct_Change  Notable_Change  Three_Day_Movement  \\\n1    ACB  10.1475  0.607474    0.004016               0           -0.035611   \n2    ACB  10.0100  0.483735   -0.065385               0           -0.045536   \n3    ACB   9.8675  0.467574   -0.053254               0           -0.053254   \n4    ACB   9.8550  0.340245   -0.047619               0           -0.050437   \n5    ACB  10.0225  0.352550    0.034413               0           -0.022154   \n\n   Shifted_Notable_Change  \n1                     0.0  \n2                     0.0  \n3                     0.0  \n4                     0.0  \n5                     0.0  ",
      "text/html": "<div>\n<style scoped>\n    .dataframe tbody tr th:only-of-type {\n        vertical-align: middle;\n    }\n\n    .dataframe tbody tr th {\n        vertical-align: top;\n    }\n\n    .dataframe thead th {\n        text-align: right;\n    }\n</style>\n<table border=\"1\" class=\"dataframe\">\n  <thead>\n    <tr style=\"text-align: right;\">\n      <th></th>\n      <th>Date</th>\n      <th>Open</th>\n      <th>High</th>\n      <th>Low</th>\n      <th>Close</th>\n      <th>Volume</th>\n      <th>Dividends</th>\n      <th>Stock Splits</th>\n      <th>Symbol</th>\n      <th>Mean</th>\n      <th>Std_Dev</th>\n      <th>Pct_Change</th>\n      <th>Notable_Change</th>\n      <th>Three_Day_Movement</th>\n      <th>Shifted_Notable_Change</th>\n    </tr>\n  </thead>\n  <tbody>\n    <tr>\n      <th>1</th>\n      <td>2020-04-02</td>\n      <td>9.96</td>\n      <td>11.02</td>\n      <td>9.61</td>\n      <td>10.00</td>\n      <td>2770000.0</td>\n      <td>0.0</td>\n      <td>0.0</td>\n      <td>ACB</td>\n      <td>10.1475</td>\n      <td>0.607474</td>\n      <td>0.004016</td>\n      <td>0</td>\n      <td>-0.035611</td>\n      <td>0.0</td>\n    </tr>\n    <tr>\n      <th>2</th>\n      <td>2020-04-03</td>\n      <td>10.40</td>\n      <td>10.44</td>\n      <td>9.48</td>\n      <td>9.72</td>\n      <td>2549000.0</td>\n      <td>0.0</td>\n      <td>0.0</td>\n      <td>ACB</td>\n      <td>10.0100</td>\n      <td>0.483735</td>\n      <td>-0.065385</td>\n      <td>0</td>\n      <td>-0.045536</td>\n      <td>0.0</td>\n    </tr>\n    <tr>\n      <th>3</th>\n      <td>2020-04-06</td>\n      <td>10.14</td>\n      <td>10.37</td>\n      <td>9.36</td>\n      <td>9.60</td>\n      <td>4244600.0</td>\n      <td>0.0</td>\n      <td>0.0</td>\n      <td>ACB</td>\n      <td>9.8675</td>\n      <td>0.467574</td>\n      <td>-0.053254</td>\n      <td>0</td>\n      <td>-0.053254</td>\n      <td>0.0</td>\n    </tr>\n    <tr>\n      <th>4</th>\n      <td>2020-04-07</td>\n      <td>10.08</td>\n      <td>10.21</td>\n      <td>9.53</td>\n      <td>9.60</td>\n      <td>2423000.0</td>\n      <td>0.0</td>\n      <td>0.0</td>\n      <td>ACB</td>\n      <td>9.8550</td>\n      <td>0.340245</td>\n      <td>-0.047619</td>\n      <td>0</td>\n      <td>-0.050437</td>\n      <td>0.0</td>\n    </tr>\n    <tr>\n      <th>5</th>\n      <td>2020-04-08</td>\n      <td>9.88</td>\n      <td>10.39</td>\n      <td>9.60</td>\n      <td>10.22</td>\n      <td>2888000.0</td>\n      <td>0.0</td>\n      <td>0.0</td>\n      <td>ACB</td>\n      <td>10.0225</td>\n      <td>0.352550</td>\n      <td>0.034413</td>\n      <td>0</td>\n      <td>-0.022154</td>\n      <td>0.0</td>\n    </tr>\n  </tbody>\n</table>\n</div>"
     },
     "metadata": {},
     "execution_count": 52
    }
   ],
   "source": [
    "df.head()"
   ]
  },
  {
   "cell_type": "code",
   "execution_count": 29,
   "metadata": {
    "tags": []
   },
   "outputs": [
    {
     "output_type": "stream",
     "name": "stdout",
     "text": "ACB 0.2001487253019728\nF 0.07673396135219634\nGE 0.08888087694793932\nDIS 0.05578413042303747\nAAL 0.1560102451184592\nGPRO 0.10224459299411476\nDAL 0.11109049429522211\nMSFT 0.05027997510338645\nCCL 0.1596266239268621\nAAPL 0.056680051102366624\nFIT 0.03886330297683439\nSNAP 0.08646082340538325\nPLUG 0.13648790974745653\nBAC 0.07036122018349499\nBA 0.10764237546790258\nNCLH 0.1695600721620938\nINO 0.2014610532857304\nUAL 0.15514001990502507\nUBER 0.08373157072150395\nCGC 0.11198124274982785\nTSLA 0.12806511674058513\nAMD 0.09705705206560473\nCRON 0.12091489379178566\nRCL 0.15464656837006338\nTWTR 0.0735565178707798\nGRPN 0.1818514334439524\nFB 0.06183507637728998\nSBUX 0.04754592291205778\nMRO 0.11905428400064952\nZNGA 0.06787178746588023\nBABA 0.04752128128193103\nT 0.041622797717533265\nKO 0.04622793538855605\nAPHA 0.11217993709921345\nUSO 0.09000063845468184\nXOM 0.07337804951862928\nAMZN 0.05952761273846989\nMFA 0.1701729158098979\nJBLU 0.11701752657047895\nNIO 0.17464377078367962\nMRNA 0.1440653417791106\nLUV 0.09554180717717144\nGM 0.08035930359386352\nGILD 0.05471151312947063\nMGM 0.1284611114317272\nSAVE 0.16338567602470763\nNFLX 0.07649159504491877\nNRZ 0.14975155609260254\nSPCE 0.13955664900145842\nLK 0.3363539613291883\nVSLR 0.14733131193732577\nAMC 0.2013803612859822\nPENN 0.1745431660769592\nVOO 0.03398894887716522\nTLRY 0.15246074962852074\nHAL 0.12677738579105954\nNOK 0.05582411556681359\nNVDA 0.07784081260560453\nCPRX 0.10675238779326356\nLYFT 0.10202005439537198\nSQ 0.1024166736615918\nSPY 0.03390268724113828\nV 0.04757095429238081\nNKE 0.04963556986590449\nSIRI 0.06071919201612615\nUCO 0.1804680031321086\nWORK 0.10087232651116602\nCPE 0.27299656199538247\nBYND 0.1199575002692497\nKOS 0.21271250782003517\nET 0.09441683607962867\nOXY 0.14339033350506458\nPFE 0.04285525851830322\nZM 0.11211089630704663\nCRBP 0.12444104729957167\nSPHD 0.04324692856160439\nFCEL 0.16021514669815187\nVKTX 0.12344451033990693\nJPM 0.06445250466201449\nNTDOY 0.02994253696010266\nNYMT 0.14871818403203818\nBP 0.05236165451633647\nATVI 0.05666003332527955\nCSCO 0.04945489651998432\nWFC 0.08492497864296705\nWMT 0.05011207381243267\nGOOGL 0.048340432110069685\nINTC 0.05679709010613401\nGLUU 0.10436522299459992\nAUY 0.09103613094728505\nVTI 0.0345570004102491\nERI 0.16689159289029998\nTXMD 0.23641855766123937\nSNE 0.034122938178150555\nPTON 0.1249364670612794\nROKU 0.11280030255062574\nJNJ 0.03489016283256991\nIVR 0.2112047556226408\nMU 0.07400588800570997\n"
    }
   ],
   "source": [
    "sym_std = {}\n",
    "for i in symbols:\n",
    "    temp = df[df['Symbol'] == i]\n",
    "    sym_std[i] = temp['Pct_Change'].std()*3\n",
    "    print(i, temp['Pct_Change'].std()*3)"
   ]
  },
  {
   "cell_type": "code",
   "execution_count": null,
   "metadata": {},
   "outputs": [],
   "source": []
  },
  {
   "source": [
    "# Train Test Setup"
   ],
   "cell_type": "markdown",
   "metadata": {}
  },
  {
   "cell_type": "code",
   "execution_count": 64,
   "metadata": {},
   "outputs": [],
   "source": [
    "columns = ['Volume', 'Dividends', 'Stock Splits', 'Pct_Change', 'Three_Day_Movement', 'Five_Day_Movement']\n",
    "target_col = ['Shifted_Notable_Change']\n",
    "X = df[columns]\n",
    "y = df[target_col]"
   ]
  },
  {
   "cell_type": "code",
   "execution_count": 65,
   "metadata": {
    "tags": []
   },
   "outputs": [],
   "source": [
    "train_X, valid_X, train_y, valid_y = train_test_split(X,y, test_size=.3, train_size=.7, shuffle=True, random_state = 0)"
   ]
  },
  {
   "cell_type": "code",
   "execution_count": 66,
   "metadata": {
    "tags": []
   },
   "outputs": [
    {
     "output_type": "stream",
     "name": "stdout",
     "text": "Best Score: 0.19999999999999998\nBest Parameters: {'learning_rate': 0.1, 'max_depth': 7, 'n_estimators': 100, 'n_jobs': 4}\nTrain Score: 0.7627118644067796\nValid Score: 0.18604651162790697\n"
    }
   ],
   "source": [
    "from xgboost import XGBClassifier\n",
    "from sklearn.model_selection import GridSearchCV\n",
    "\n",
    "xgb_params = {'max_depth':[i for i in range(3,11, 2)], \n",
    "              'n_estimators':[100, 300, 500, 1000, 5000, 10000], \n",
    "              'learning_rate':[.1], \n",
    "              'n_jobs':[4],\n",
    "              }\n",
    "xgb = XGBClassifier()\n",
    "xgb_rand_search  = GridSearchCV(xgb, xgb_params, scoring='f1', cv=5, refit=True)\n",
    "xgb_rand_search.fit(train_X, train_y)\n",
    "print('Best Score:', xgb_rand_search.best_score_)\n",
    "print('Best Parameters:', xgb_rand_search.best_params_)\n",
    "print('Train Score:', xgb_rand_search.score(train_X, train_y))\n",
    "print('Valid Score:', xgb_rand_search.score(valid_X, valid_y))"
   ]
  },
  {
   "cell_type": "code",
   "execution_count": 67,
   "metadata": {},
   "outputs": [
    {
     "output_type": "execute_result",
     "data": {
      "text/plain": "XGBClassifier(base_score=0.5, booster='gbtree', colsample_bylevel=1,\n              colsample_bynode=1, colsample_bytree=1, gamma=0, gpu_id=-1,\n              importance_type='gain', interaction_constraints='',\n              learning_rate=0.4, max_delta_step=0, max_depth=7,\n              min_child_weight=1, missing=nan, monotone_constraints='()',\n              n_estimators=100, n_jobs=4, num_parallel_tree=1, random_state=0,\n              reg_alpha=0, reg_lambda=1, scale_pos_weight=1, subsample=1,\n              tree_method='exact', validate_parameters=1, verbosity=None)"
     },
     "metadata": {},
     "execution_count": 67
    }
   ],
   "source": [
    "xgb_params = {'max_depth':7, \n",
    "              'n_estimators':100, \n",
    "              'learning_rate':.4, \n",
    "              'n_jobs':4,\n",
    "              }\n",
    "my_model = XGBClassifier(**xgb_params)\n",
    "my_model.fit(X, y, verbose=False)"
   ]
  },
  {
   "source": [
    "# Simulate model with the past\n",
    "\n",
    "The goal of this section is to run the model through a few months of use with imaginary money and see how it performs"
   ],
   "cell_type": "markdown",
   "metadata": {}
  },
  {
   "cell_type": "code",
   "execution_count": null,
   "metadata": {},
   "outputs": [],
   "source": [
    "class StockSimulator:\n",
    "    def __init__(self, start_date, symbols, model):\n",
    "        self._date = start_date\n",
    "        self.end_date = date(2020, 9, 1)\n",
    "        self.symbols = symbols\n",
    "        self.money = MyMoney(1000)\n",
    "        self._LOG = pd.DataFrame()\n",
    "        self.model = model\n",
    "    \n",
    "    def collect_inputs(self):\n",
    "        inputs = []\n",
    "        for sym in self.symbols:\n",
    "            temp = df[df['Symbol']==sym]\n",
    "            temp = temp[temp['Date']==self._date]\n",
    "            temp = temp[['Volume', 'Dividends', 'Stock Splits', 'Pct_Change', 'Three_Day_Movement', 'Five_Day_Movement']]\n",
    "            inputs.append([sym,temp])\n",
    "        return inputs\n",
    "\n",
    "    def make_predictions(self, model_inputs):\n",
    "        prediction = self.model.predict(model_inputs)\n",
    "        print(prediction)\n",
    "        if prediction == 1 and model_inputs['Pct_Change']>0:\n",
    "            return True\n",
    "        else:\n",
    "            return False\n",
    "\n",
    "\n",
    "    def transaction(self, symbol)\n",
    "        amount = self.money.get_amount()\n",
    "        if amount:\n",
    "            self.money.add_to_portfolio(symbol, amount)\n",
    "\n",
    "    def auto_sell(self)\n",
    "        #TODO loop through everything in portfolio and sell anything two days after buying it\n",
    "\n",
    "    def RUN_SIM(self): #TODO this could use some serious cleanup for naming\n",
    "        while self._date < self.end_date:\n",
    "            days_inputs = self.collect_inputs()\n",
    "            for i in days_inputs:\n",
    "                daily_predictions.append([days_inputs[0], self.make_predictions(days_inputs[1])])\n",
    "            for i in daily_predictions:\n",
    "                if i[1]:\n",
    "                    self.transaction(i[0])\n",
    "            self.auto_sell()\n",
    "\n"
   ]
  },
  {
   "cell_type": "code",
   "execution_count": null,
   "metadata": {},
   "outputs": [],
   "source": [
    "class MyMoney:\n",
    "    \"\"\"\n",
    "    This class serves to manage the portofolio/money aspect of the simulation.\n",
    "    \"\"\"\n",
    "    def __init__(self, starting_funds):\n",
    "        self.funds = starting_funds\n",
    "        self.portfolio = {}\n",
    "        self.chunk_pct = .2\n",
    "    \n",
    "    def add_to_portfolio(self, symbol, amount):\n",
    "        if symbol not in self.portfolio:\n",
    "            self.portfolio[symbol] = amount\n",
    "            self.funds = self.funds - amount\n",
    "        else:\n",
    "            self.portfolio[symbol] = self.portfolio[symbol]+=amount\n",
    "            self.funds = self.funds - amount\n",
    "    \n",
    "    def sell_from_portfolio(self, symbol)\n",
    "        self.funds += self.portfolio[symbol]\n",
    "        self.portfolio.pop(symbol)\n",
    "\n",
    "    def total_portfolio(self):\n",
    "        return total_amount\n",
    "    \n",
    "    def get_amount(self):\n",
    "        want_to_spend = .2 * self.total_portfolio()\n",
    "        if want_to_spend> self.funds:\n",
    "            return want_to_spend\n",
    "        elif self.funds > want_to_spend and self.funds != 0:\n",
    "            return self.funds\n",
    "        else:\n",
    "            return False"
   ]
  }
 ],
 "metadata": {
  "language_info": {
   "codemirror_mode": {
    "name": "ipython",
    "version": 3
   },
   "file_extension": ".py",
   "mimetype": "text/x-python",
   "name": "python",
   "nbconvert_exporter": "python",
   "pygments_lexer": "ipython3",
   "version": "3.6.9-final"
  },
  "orig_nbformat": 2,
  "kernelspec": {
   "name": "python36964bitdatasciencevenvccabe2585f8e4956bd27aa6a84fc91d3",
   "display_name": "Python 3.6.9 64-bit ('DataScience': venv)"
  }
 },
 "nbformat": 4,
 "nbformat_minor": 2
}